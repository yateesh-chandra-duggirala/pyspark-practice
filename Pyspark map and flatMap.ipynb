{
 "cells": [
  {
   "cell_type": "markdown",
   "id": "e54853b4-5417-4f2d-af17-9a6c20c8c80d",
   "metadata": {
    "jp-MarkdownHeadingCollapsed": true
   },
   "source": [
    "## Setting Environment variables"
   ]
  },
  {
   "cell_type": "code",
   "execution_count": 1,
   "id": "2ca20b1e-7f5a-45e7-bc49-b94181d97fa3",
   "metadata": {},
   "outputs": [],
   "source": [
    "import os\n",
    "import sys\n",
    "os.environ[\"PYSPARK_PYTHON\"] = sys.executable\n",
    "os.environ[\"PYSPARK_DRIVER_PYTHON\"] = sys.executable"
   ]
  },
  {
   "cell_type": "markdown",
   "id": "4acf0d68-bdcd-4046-8cef-3f143156c95d",
   "metadata": {
    "jp-MarkdownHeadingCollapsed": true
   },
   "source": [
    "## Create a Spark Session"
   ]
  },
  {
   "cell_type": "code",
   "execution_count": 2,
   "id": "3e583b10-8e44-4981-aa03-d5adbcf737ab",
   "metadata": {},
   "outputs": [],
   "source": [
    "from pyspark.sql import SparkSession\n",
    "spark = SparkSession.builder\\\n",
    "        .appName(\"Map and FlatMap\")\\\n",
    "        .getOrCreate()"
   ]
  },
  {
   "cell_type": "markdown",
   "id": "45873362-e847-4c0c-beb2-12c3fd0758b1",
   "metadata": {
    "jp-MarkdownHeadingCollapsed": true
   },
   "source": [
    "## Operation over RDD"
   ]
  },
  {
   "cell_type": "markdown",
   "id": "e998a7f2-297f-4a8c-9d5e-979aba5a69b6",
   "metadata": {
    "jp-MarkdownHeadingCollapsed": true
   },
   "source": [
    "### Create RDD"
   ]
  },
  {
   "cell_type": "code",
   "execution_count": 3,
   "id": "105b134c-8028-41df-9442-9797e9a75436",
   "metadata": {},
   "outputs": [],
   "source": [
    "data = [\"Project Gutenberg’s\",\"Alice’s Adventures\",\n",
    "\"in Wonderland\",\"Project Gutenberg’s Adventures\",\n",
    "\"in Wonderland\",\"Project Gutenberg’s\"]"
   ]
  },
  {
   "cell_type": "code",
   "execution_count": 4,
   "id": "f5273d9c-af4b-4976-969e-9e72458ac437",
   "metadata": {},
   "outputs": [],
   "source": [
    "rdd = spark.sparkContext.parallelize(data)"
   ]
  },
  {
   "cell_type": "markdown",
   "id": "040a91b8-d409-42de-97c7-f588e453e825",
   "metadata": {
    "jp-MarkdownHeadingCollapsed": true
   },
   "source": [
    "### Map()"
   ]
  },
  {
   "cell_type": "code",
   "execution_count": 5,
   "id": "434495e9-ab07-4caf-aba7-478ae45605ca",
   "metadata": {},
   "outputs": [
    {
     "name": "stdout",
     "output_type": "stream",
     "text": [
      "('Project Gutenberg’s', 'PROJECT GUTENBERG’S')\n",
      "('Alice’s Adventures', 'ALICE’S ADVENTURES')\n",
      "('in Wonderland', 'IN WONDERLAND')\n",
      "('Project Gutenberg’s Adventures', 'PROJECT GUTENBERG’S ADVENTURES')\n",
      "('in Wonderland', 'IN WONDERLAND')\n",
      "('Project Gutenberg’s', 'PROJECT GUTENBERG’S')\n"
     ]
    }
   ],
   "source": [
    "rdd2 = rdd.map(lambda x : (x, x.upper()))\n",
    "for ele in rdd2.collect():\n",
    "    print(ele)"
   ]
  },
  {
   "cell_type": "markdown",
   "id": "93dab0eb-5eb5-4a5d-9115-8425c0e43826",
   "metadata": {
    "jp-MarkdownHeadingCollapsed": true
   },
   "source": [
    "### Map()"
   ]
  },
  {
   "cell_type": "code",
   "execution_count": 6,
   "id": "e93f9581-4f68-468b-8f75-a42bdbefc3fe",
   "metadata": {},
   "outputs": [
    {
     "name": "stdout",
     "output_type": "stream",
     "text": [
      "PROJECT GUTENBERG’S\n",
      "ALICE’S ADVENTURES\n",
      "IN WONDERLAND\n",
      "PROJECT GUTENBERG’S ADVENTURES\n",
      "IN WONDERLAND\n",
      "PROJECT GUTENBERG’S\n"
     ]
    }
   ],
   "source": [
    "rdd2 = rdd.map(lambda x: x.upper())\n",
    "for ele in rdd2.collect():\n",
    "    print(ele)"
   ]
  },
  {
   "cell_type": "markdown",
   "id": "df14ebf9-c10e-4962-a7db-bf14acd50099",
   "metadata": {
    "jp-MarkdownHeadingCollapsed": true
   },
   "source": [
    "### FlatMap()"
   ]
  },
  {
   "cell_type": "code",
   "execution_count": 7,
   "id": "d32b6413-c7fd-407a-9f9d-815e4123a25a",
   "metadata": {},
   "outputs": [
    {
     "name": "stdout",
     "output_type": "stream",
     "text": [
      "Project\n",
      "Gutenberg’s\n",
      "Alice’s\n",
      "Adventures\n",
      "in\n",
      "Wonderland\n",
      "Project\n",
      "Gutenberg’s\n",
      "Adventures\n",
      "in\n",
      "Wonderland\n",
      "Project\n",
      "Gutenberg’s\n"
     ]
    }
   ],
   "source": [
    "rdd2 = rdd.flatMap(lambda x : x.split(\" \"))\n",
    "for ele in rdd2.collect():\n",
    "    print(ele)"
   ]
  },
  {
   "cell_type": "markdown",
   "id": "b59e395b-7241-4ef8-8d12-9bc23bbdb417",
   "metadata": {},
   "source": [
    "## Operations over DataFrame"
   ]
  },
  {
   "cell_type": "markdown",
   "id": "27970df4-7790-4568-933e-826cc9012598",
   "metadata": {
    "jp-MarkdownHeadingCollapsed": true
   },
   "source": [
    "### Creating DataFrame"
   ]
  },
  {
   "cell_type": "code",
   "execution_count": 8,
   "id": "47e86bb9-fd90-43ed-a289-dabf25773f29",
   "metadata": {},
   "outputs": [
    {
     "name": "stdout",
     "output_type": "stream",
     "text": [
      "root\n",
      " |-- First_name: string (nullable = true)\n",
      " |-- Last_name: string (nullable = true)\n",
      " |-- gender: string (nullable = true)\n",
      " |-- Salary: long (nullable = true)\n",
      "\n"
     ]
    }
   ],
   "source": [
    "data = [\n",
    "    ('James', 'Smith', 'M', 30),\n",
    "    ('Anna', 'Jones', 'F', 41),\n",
    "    ('Robert', 'Williams', 'M', 60)\n",
    "]\n",
    "\n",
    "columns = [\"First_name\", \"Last_name\", \"gender\", \"Salary\"]\n",
    "\n",
    "df = spark.createDataFrame(data, columns)\n",
    "df.printSchema()"
   ]
  },
  {
   "cell_type": "markdown",
   "id": "9ccfa1cd-e24c-4a1b-85f1-cb753b28050e",
   "metadata": {
    "jp-MarkdownHeadingCollapsed": true
   },
   "source": [
    "### Map"
   ]
  },
  {
   "cell_type": "code",
   "execution_count": 9,
   "id": "64106d3a-e085-4b92-be17-5cb176a6ff07",
   "metadata": {},
   "outputs": [
    {
     "name": "stdout",
     "output_type": "stream",
     "text": [
      "+---------------+------+------+\n",
      "|full_name      |gender|salary|\n",
      "+---------------+------+------+\n",
      "|James Smith    |M     |60    |\n",
      "|Anna Jones     |F     |82    |\n",
      "|Robert Williams|M     |120   |\n",
      "+---------------+------+------+\n",
      "\n"
     ]
    }
   ],
   "source": [
    "# Referring Columns by Index\n",
    "rdd2 = df.rdd.map(lambda x:\n",
    "              (x[0]+' '+x[1],x[2], x[3]*2)\n",
    "              )\n",
    "df2 = rdd2.toDF([\"full_name\", \"gender\",\"salary\"])\n",
    "df2.show(truncate = False)"
   ]
  },
  {
   "cell_type": "code",
   "execution_count": 10,
   "id": "d39dd7e1-0a1b-4fb9-ae63-c0b5e5ca081a",
   "metadata": {},
   "outputs": [],
   "source": [
    "rdd3 = df.rdd"
   ]
  },
  {
   "cell_type": "code",
   "execution_count": 11,
   "id": "0e69d8b8-4457-437a-84f0-4c65539f874e",
   "metadata": {},
   "outputs": [
    {
     "name": "stdout",
     "output_type": "stream",
     "text": [
      "James\n",
      "Anna\n",
      "Robert\n"
     ]
    }
   ],
   "source": [
    "for x in rdd3.collect():\n",
    "    print(x[\"First_name\"])"
   ]
  },
  {
   "cell_type": "code",
   "execution_count": 12,
   "id": "a244816e-11d7-4b11-a363-ee86fd937872",
   "metadata": {},
   "outputs": [],
   "source": [
    "# By calling the function\n",
    "def funct1(x):\n",
    "    firstname = x.First_name\n",
    "    lastname = x.Last_name\n",
    "    name = firstname + lastname\n",
    "    gender = x.gender.lower()\n",
    "    sal = x.Salary * 2\n",
    "    return (name, gender, sal)"
   ]
  },
  {
   "cell_type": "code",
   "execution_count": 13,
   "id": "65d73f33-aefa-4d47-8c5a-1ba44d03817a",
   "metadata": {},
   "outputs": [],
   "source": [
    "rdd2 = df.rdd.map(lambda x: funct1(x))"
   ]
  },
  {
   "cell_type": "code",
   "execution_count": 14,
   "id": "c32dcee7-c839-4dac-9218-2c8c5e513a86",
   "metadata": {},
   "outputs": [
    {
     "name": "stdout",
     "output_type": "stream",
     "text": [
      "+--------------+------+---+\n",
      "|     full_name|gender|sal|\n",
      "+--------------+------+---+\n",
      "|    JamesSmith|     m| 60|\n",
      "|     AnnaJones|     f| 82|\n",
      "|RobertWilliams|     m|120|\n",
      "+--------------+------+---+\n",
      "\n"
     ]
    }
   ],
   "source": [
    "df2 = rdd2.toDF([\"full_name\", \"gender\", \"sal\"])\n",
    "df2.show()"
   ]
  },
  {
   "cell_type": "code",
   "execution_count": 15,
   "id": "e2087b4f-c61a-463b-8353-3e1f10333f03",
   "metadata": {},
   "outputs": [
    {
     "data": {
      "text/plain": [
       "[('JamesSmith', 'm', 60), ('AnnaJones', 'f', 82), ('RobertWilliams', 'm', 120)]"
      ]
     },
     "execution_count": 15,
     "metadata": {},
     "output_type": "execute_result"
    }
   ],
   "source": [
    "rdd2.collect()"
   ]
  },
  {
   "cell_type": "markdown",
   "id": "8f1416da-231d-40d6-9145-3bb2db71f815",
   "metadata": {},
   "source": [
    "### Flatmap()"
   ]
  },
  {
   "cell_type": "code",
   "execution_count": 16,
   "id": "298af95b-77dc-4274-8c25-0446698a8485",
   "metadata": {},
   "outputs": [],
   "source": [
    "arrayData = [\n",
    "        ('James',['Java','Scala'],{'hair':'black','eye':'brown'}),\n",
    "        ('Michael',['Spark','Java',None],{'hair':'brown','eye':None}),\n",
    "        ('Robert',['CSharp',''],{'hair':'red','eye':''}),\n",
    "        ('Washington',None,None),\n",
    "        ('Jefferson',['1','2'],{})]\n",
    "df = spark.createDataFrame(data=arrayData, schema = ['name','knownLanguages','properties'])"
   ]
  },
  {
   "cell_type": "code",
   "execution_count": 18,
   "id": "ab9c89dc-da23-43f2-8ea4-f4b161512bb0",
   "metadata": {},
   "outputs": [
    {
     "name": "stdout",
     "output_type": "stream",
     "text": [
      "root\n",
      " |-- name: string (nullable = true)\n",
      " |-- knownLanguages: array (nullable = true)\n",
      " |    |-- element: string (containsNull = true)\n",
      " |-- properties: map (nullable = true)\n",
      " |    |-- key: string\n",
      " |    |-- value: string (valueContainsNull = true)\n",
      "\n",
      "+----------+-------------------+--------------------+\n",
      "|      name|     knownLanguages|          properties|\n",
      "+----------+-------------------+--------------------+\n",
      "|     James|      [Java, Scala]|{eye -> brown, ha...|\n",
      "|   Michael|[Spark, Java, null]|{eye -> null, hai...|\n",
      "|    Robert|         [CSharp, ]|{eye -> , hair ->...|\n",
      "|Washington|               null|                null|\n",
      "| Jefferson|             [1, 2]|                  {}|\n",
      "+----------+-------------------+--------------------+\n",
      "\n",
      "+-------+----+-----+\n",
      "|   name| key|value|\n",
      "+-------+----+-----+\n",
      "|  James| eye|brown|\n",
      "|  James|hair|black|\n",
      "|Michael| eye| null|\n",
      "|Michael|hair|brown|\n",
      "| Robert| eye|     |\n",
      "| Robert|hair|  red|\n",
      "+-------+----+-----+\n",
      "\n"
     ]
    }
   ],
   "source": [
    "from pyspark.sql.functions import explode\n",
    "df2 = df.select(df.name, explode(df.properties))\n",
    "df.printSchema()\n",
    "df.show()\n",
    "df2.show()"
   ]
  }
 ],
 "metadata": {
  "kernelspec": {
   "display_name": "Python 3 (ipykernel)",
   "language": "python",
   "name": "python3"
  },
  "language_info": {
   "codemirror_mode": {
    "name": "ipython",
    "version": 3
   },
   "file_extension": ".py",
   "mimetype": "text/x-python",
   "name": "python",
   "nbconvert_exporter": "python",
   "pygments_lexer": "ipython3",
   "version": "3.11.5"
  }
 },
 "nbformat": 4,
 "nbformat_minor": 5
}
