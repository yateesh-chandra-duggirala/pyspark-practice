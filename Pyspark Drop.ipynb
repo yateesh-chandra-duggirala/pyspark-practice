{
 "cells": [
  {
   "cell_type": "markdown",
   "id": "7bc6588d-5d0e-44dd-b295-0a9c86314be6",
   "metadata": {},
   "source": [
    "## Drop Operation On Rows and Columns"
   ]
  },
  {
   "cell_type": "markdown",
   "id": "5123bbbb-d38f-4fe9-bc4f-254c02108805",
   "metadata": {},
   "source": [
    "### Setting Environment Variables"
   ]
  },
  {
   "cell_type": "code",
   "execution_count": 1,
   "id": "9a1f540e-f7e7-442d-8654-20c4abab25b2",
   "metadata": {},
   "outputs": [],
   "source": [
    "import os\n",
    "import sys\n",
    "\n",
    "os.environ[\"PYSPARK_PYTHON\"] = sys.executable\n",
    "os.environ[\"PYSPARK_DRIVER_PYTHON\"] = sys.executable"
   ]
  },
  {
   "cell_type": "markdown",
   "id": "f6df60b9-9d07-45b9-b38b-57bdf192cfad",
   "metadata": {
    "jp-MarkdownHeadingCollapsed": true
   },
   "source": [
    "### Create a DataFrame"
   ]
  },
  {
   "cell_type": "code",
   "execution_count": 2,
   "id": "2dc43849-eb11-42a1-b6d7-15e355414d07",
   "metadata": {},
   "outputs": [],
   "source": [
    "# Imports\n",
    "from pyspark.sql import SparkSession\n",
    "from pyspark.sql.functions import expr\n",
    "\n",
    "# Create SparkSession\n",
    "spark = SparkSession.builder.appName('SparkByExamples.com').getOrCreate()"
   ]
  },
  {
   "cell_type": "code",
   "execution_count": 3,
   "id": "d5d79b49-9473-4eb0-9848-9f7fae83107f",
   "metadata": {},
   "outputs": [
    {
     "name": "stdout",
     "output_type": "stream",
     "text": [
      "root\n",
      " |-- employee_name: string (nullable = true)\n",
      " |-- department: string (nullable = true)\n",
      " |-- salary: long (nullable = true)\n",
      "\n",
      "+-------------+----------+------+\n",
      "|employee_name|department|salary|\n",
      "+-------------+----------+------+\n",
      "|James        |Sales     |3000  |\n",
      "|Michael      |Sales     |4600  |\n",
      "|Robert       |Sales     |4100  |\n",
      "|Maria        |Finance   |3000  |\n",
      "|James        |Sales     |3000  |\n",
      "|Scott        |Finance   |3300  |\n",
      "|Jen          |Finance   |3900  |\n",
      "|Jeff         |Marketing |3000  |\n",
      "|Kumar        |Marketing |2000  |\n",
      "|Saif         |Sales     |4100  |\n",
      "+-------------+----------+------+\n",
      "\n"
     ]
    }
   ],
   "source": [
    "\n",
    "# Prepare Data\n",
    "data = [(\"James\", \"Sales\", 3000), \\\n",
    "    (\"Michael\", \"Sales\", 4600), \\\n",
    "    (\"Robert\", \"Sales\", 4100), \\\n",
    "    (\"Maria\", \"Finance\", 3000), \\\n",
    "    (\"James\", \"Sales\", 3000), \\\n",
    "    (\"Scott\", \"Finance\", 3300), \\\n",
    "    (\"Jen\", \"Finance\", 3900), \\\n",
    "    (\"Jeff\", \"Marketing\", 3000), \\\n",
    "    (\"Kumar\", \"Marketing\", 2000), \\\n",
    "    (\"Saif\", \"Sales\", 4100) \\\n",
    "  ]\n",
    "\n",
    "# Create DataFrame\n",
    "columns= [\"employee_name\", \"department\", \"salary\"]\n",
    "df = spark.createDataFrame(data = data, schema = columns)\n",
    "df.printSchema()\n",
    "df.show(truncate=False)"
   ]
  },
  {
   "cell_type": "markdown",
   "id": "439fac4f-2b6f-462a-8dcd-f1366c99d428",
   "metadata": {
    "jp-MarkdownHeadingCollapsed": true
   },
   "source": [
    "### Select distinct Rows"
   ]
  },
  {
   "cell_type": "code",
   "execution_count": 5,
   "id": "33cba057-d29c-4153-bab7-de7759702345",
   "metadata": {},
   "outputs": [
    {
     "name": "stdout",
     "output_type": "stream",
     "text": [
      "+-------------+----------+------+\n",
      "|employee_name|department|salary|\n",
      "+-------------+----------+------+\n",
      "|        James|     Sales|  3000|\n",
      "|      Michael|     Sales|  4600|\n",
      "|       Robert|     Sales|  4100|\n",
      "|        Maria|   Finance|  3000|\n",
      "|        Scott|   Finance|  3300|\n",
      "|          Jen|   Finance|  3900|\n",
      "|         Jeff| Marketing|  3000|\n",
      "|        Kumar| Marketing|  2000|\n",
      "|         Saif|     Sales|  4100|\n",
      "+-------------+----------+------+\n",
      "\n"
     ]
    }
   ],
   "source": [
    "# distinct() method is used to display the rows by elimination of the duplications\n",
    "df.distinct().show()"
   ]
  },
  {
   "cell_type": "code",
   "execution_count": 6,
   "id": "d44c813c-a664-4ff2-9a14-b7fba03411e6",
   "metadata": {},
   "outputs": [
    {
     "name": "stdout",
     "output_type": "stream",
     "text": [
      "The count of the Rows in the given Data frame : 10\n",
      "The count of rows without Duplicates : 9\n"
     ]
    }
   ],
   "source": [
    "# Display the Counts.\n",
    "print(\"The count of the Rows in the given Data frame :\", df.count())\n",
    "print(\"The count of rows without Duplicates :\", df.distinct().count())"
   ]
  },
  {
   "cell_type": "markdown",
   "id": "3b336558-1ce4-46ef-a381-b002ef2e3d09",
   "metadata": {
    "jp-MarkdownHeadingCollapsed": true
   },
   "source": [
    "### Dropping Duplicates"
   ]
  },
  {
   "cell_type": "code",
   "execution_count": 7,
   "id": "b64ad5b1-349c-4046-900a-0e7148a98d1c",
   "metadata": {},
   "outputs": [
    {
     "name": "stdout",
     "output_type": "stream",
     "text": [
      "The Count of the new Data Frame :  9\n",
      "+-------------+----------+------+\n",
      "|employee_name|department|salary|\n",
      "+-------------+----------+------+\n",
      "|        James|     Sales|  3000|\n",
      "|      Michael|     Sales|  4600|\n",
      "|       Robert|     Sales|  4100|\n",
      "|        Maria|   Finance|  3000|\n",
      "|        Scott|   Finance|  3300|\n",
      "|          Jen|   Finance|  3900|\n",
      "|         Jeff| Marketing|  3000|\n",
      "|        Kumar| Marketing|  2000|\n",
      "|         Saif|     Sales|  4100|\n",
      "+-------------+----------+------+\n",
      "\n"
     ]
    }
   ],
   "source": [
    "# dropDuplicates() method is used to drop the duplicates\n",
    "df2 = df.dropDuplicates()\n",
    "print(\"The Count of the new Data Frame : \", df2.count())\n",
    "df2.show()"
   ]
  },
  {
   "cell_type": "markdown",
   "id": "60740bfe-f813-462a-b8be-eb2ad470281b",
   "metadata": {
    "jp-MarkdownHeadingCollapsed": true
   },
   "source": [
    "### Checking Count of individual columns"
   ]
  },
  {
   "cell_type": "code",
   "execution_count": 9,
   "id": "d563a33b-195e-48e4-9de8-7b894a46f36a",
   "metadata": {
    "scrolled": true
   },
   "outputs": [
    {
     "name": "stdout",
     "output_type": "stream",
     "text": [
      "The distinct count of column 'employee_name' 9\n",
      "The distinct count of column 'department' 3\n",
      "The distinct count of column 'salary' 6\n"
     ]
    }
   ],
   "source": [
    "print(\"The distinct count of column 'employee_name'\",df.select(\"employee_name\").distinct().count())\n",
    "print(\"The distinct count of column 'department'\",df.select(\"department\").distinct().count())\n",
    "print(\"The distinct count of column 'salary'\",df.select(\"salary\").distinct().count())"
   ]
  },
  {
   "cell_type": "markdown",
   "id": "a5572b3b-f1b0-4751-a314-4fe471e354a4",
   "metadata": {},
   "source": [
    "### Drop duplicates for selected columns"
   ]
  },
  {
   "cell_type": "code",
   "execution_count": 10,
   "id": "07c24669-1b10-4a84-ad35-af82cf0af039",
   "metadata": {},
   "outputs": [
    {
     "name": "stdout",
     "output_type": "stream",
     "text": [
      "The count of the Columns after dropping duplicates of 2 columns :  8\n"
     ]
    }
   ],
   "source": [
    "# Remove Duplicates for selected columns using dropDuplicates() method\n",
    "df_cols2 = df.dropDuplicates(['Department', 'Salary'])\n",
    "print(\"The count of the Columns after dropping duplicates of 2 columns : \", df_cols2.count())"
   ]
  },
  {
   "cell_type": "markdown",
   "id": "8929ab77-2e90-4aec-a035-be953d9287f2",
   "metadata": {
    "jp-MarkdownHeadingCollapsed": true
   },
   "source": [
    "### Drop Columns"
   ]
  },
  {
   "cell_type": "code",
   "execution_count": 11,
   "id": "5ca10334-5ab5-494a-9d19-96346589568f",
   "metadata": {},
   "outputs": [
    {
     "name": "stdout",
     "output_type": "stream",
     "text": [
      "root\n",
      " |-- firstname: string (nullable = true)\n",
      " |-- middlename: string (nullable = true)\n",
      " |-- lastname: string (nullable = true)\n",
      " |-- id: string (nullable = true)\n",
      " |-- location: string (nullable = true)\n",
      " |-- salary: long (nullable = true)\n",
      "\n"
     ]
    }
   ],
   "source": [
    "simpleData = ((\"James\",\"\",\"Smith\",\"36636\",\"NewYork\",3100), \\\n",
    "    (\"Michael\",\"Rose\",\"\",\"40288\",\"California\",4300), \\\n",
    "    (\"Robert\",\"\",\"Williams\",\"42114\",\"Florida\",1400), \\\n",
    "    (\"Maria\",\"Anne\",\"Jones\",\"39192\",\"Florida\",5500), \\\n",
    "    (\"Jen\",\"Mary\",\"Brown\",\"34561\",\"NewYork\",3000) \\\n",
    "  )\n",
    "columns= [\"firstname\",\"middlename\",\"lastname\",\"id\",\"location\",\"salary\"]\n",
    "\n",
    "df = spark.createDataFrame(data = simpleData, schema = columns)\n",
    "\n",
    "df.printSchema()"
   ]
  },
  {
   "cell_type": "markdown",
   "id": "0af79320-b8f5-4be2-adbd-02466dfe04d7",
   "metadata": {
    "jp-MarkdownHeadingCollapsed": true
   },
   "source": [
    "#### Dropping Single Column"
   ]
  },
  {
   "cell_type": "code",
   "execution_count": 12,
   "id": "a8a37175-6ba6-44de-9e9c-b9c9dcc07bcc",
   "metadata": {},
   "outputs": [
    {
     "name": "stdout",
     "output_type": "stream",
     "text": [
      "+---------+--------+-----+----------+------+\n",
      "|firstname|lastname|   id|  location|salary|\n",
      "+---------+--------+-----+----------+------+\n",
      "|    James|   Smith|36636|   NewYork|  3100|\n",
      "|  Michael|        |40288|California|  4300|\n",
      "|   Robert|Williams|42114|   Florida|  1400|\n",
      "|    Maria|   Jones|39192|   Florida|  5500|\n",
      "|      Jen|   Brown|34561|   NewYork|  3000|\n",
      "+---------+--------+-----+----------+------+\n",
      "\n",
      "+---------+----------+-----+----------+------+\n",
      "|firstname|middlename|   id|  location|salary|\n",
      "+---------+----------+-----+----------+------+\n",
      "|    James|          |36636|   NewYork|  3100|\n",
      "|  Michael|      Rose|40288|California|  4300|\n",
      "|   Robert|          |42114|   Florida|  1400|\n",
      "|    Maria|      Anne|39192|   Florida|  5500|\n",
      "|      Jen|      Mary|34561|   NewYork|  3000|\n",
      "+---------+----------+-----+----------+------+\n",
      "\n",
      "+---------+----------+--------+-----+------+\n",
      "|firstname|middlename|lastname|   id|salary|\n",
      "+---------+----------+--------+-----+------+\n",
      "|    James|          |   Smith|36636|  3100|\n",
      "|  Michael|      Rose|        |40288|  4300|\n",
      "|   Robert|          |Williams|42114|  1400|\n",
      "|    Maria|      Anne|   Jones|39192|  5500|\n",
      "|      Jen|      Mary|   Brown|34561|  3000|\n",
      "+---------+----------+--------+-----+------+\n",
      "\n"
     ]
    }
   ],
   "source": [
    "# Droppping Single Column\n",
    "from pyspark.sql.functions import col\n",
    "\n",
    "# Method 1 : Directly using the name of the column\n",
    "df.drop(\"middlename\").show()\n",
    "\n",
    "# Method 2 : Accessing the column name using . operator\n",
    "df.drop(df.lastname).show()\n",
    "\n",
    "# Method 3 : Using the col function\n",
    "df.drop(col(\"location\")).show()"
   ]
  },
  {
   "cell_type": "markdown",
   "id": "859ba147-c847-4c2d-8ba8-ca2c5ad04e1f",
   "metadata": {
    "jp-MarkdownHeadingCollapsed": true
   },
   "source": [
    "#### Dropping Multiple Columns"
   ]
  },
  {
   "cell_type": "code",
   "execution_count": 18,
   "id": "466d1eea-220d-4b6a-8a89-5fb2f470fd74",
   "metadata": {},
   "outputs": [
    {
     "name": "stdout",
     "output_type": "stream",
     "text": [
      "+---------+--------+----------+------+\n",
      "|firstname|lastname|  location|salary|\n",
      "+---------+--------+----------+------+\n",
      "|    James|   Smith|   NewYork|  3100|\n",
      "|  Michael|        |California|  4300|\n",
      "|   Robert|Williams|   Florida|  1400|\n",
      "|    Maria|   Jones|   Florida|  5500|\n",
      "|      Jen|   Brown|   NewYork|  3000|\n",
      "+---------+--------+----------+------+\n",
      "\n",
      "+---------+--------+------+\n",
      "|firstname|lastname|salary|\n",
      "+---------+--------+------+\n",
      "|    James|   Smith|  3100|\n",
      "|  Michael|        |  4300|\n",
      "|   Robert|Williams|  1400|\n",
      "|    Maria|   Jones|  5500|\n",
      "|      Jen|   Brown|  3000|\n",
      "+---------+--------+------+\n",
      "\n",
      "+---------+--------+----------+\n",
      "|firstname|lastname|  location|\n",
      "+---------+--------+----------+\n",
      "|    James|   Smith|   NewYork|\n",
      "|  Michael|        |California|\n",
      "|   Robert|Williams|   Florida|\n",
      "|    Maria|   Jones|   Florida|\n",
      "|      Jen|   Brown|   NewYork|\n",
      "+---------+--------+----------+\n",
      "\n"
     ]
    }
   ],
   "source": [
    "# Dropping Multiple COLUMNS\n",
    "\n",
    "# Method 1 : Using name of the column\n",
    "df.drop(\"middlename\", \"id\").show()\n",
    "\n",
    "# Method 2 : Using . operator\n",
    "df.drop(df.middlename, df.location, df.id).show()\n",
    "\n",
    "# Method 3 : Using tuple\n",
    "cols = (\"middlename\", \"id\", \"salary\")\n",
    "df.drop(*cols).show()"
   ]
  }
 ],
 "metadata": {
  "kernelspec": {
   "display_name": "Python 3 (ipykernel)",
   "language": "python",
   "name": "python3"
  },
  "language_info": {
   "codemirror_mode": {
    "name": "ipython",
    "version": 3
   },
   "file_extension": ".py",
   "mimetype": "text/x-python",
   "name": "python",
   "nbconvert_exporter": "python",
   "pygments_lexer": "ipython3",
   "version": "3.11.5"
  }
 },
 "nbformat": 4,
 "nbformat_minor": 5
}
