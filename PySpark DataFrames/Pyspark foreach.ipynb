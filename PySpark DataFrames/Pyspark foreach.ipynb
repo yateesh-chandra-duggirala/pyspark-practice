{
 "cells": [
  {
   "cell_type": "markdown",
   "id": "20fb3327-6dc4-42b8-aed0-82e82e960ab9",
   "metadata": {
    "jp-MarkdownHeadingCollapsed": true
   },
   "source": [
    "## Setting Environment Variables"
   ]
  },
  {
   "cell_type": "code",
   "execution_count": 1,
   "id": "676192e4-b38e-4651-8e43-ee4ba34a4445",
   "metadata": {},
   "outputs": [],
   "source": [
    "import os\n",
    "import sys\n",
    "os.environ[\"PYSPARK_PYTHON\"] = sys.executable\n",
    "os.environ[\"PYSPARK_DRIVER_PYTHON\"] = sys.executable"
   ]
  },
  {
   "cell_type": "markdown",
   "id": "131346fc-d2b8-46ea-aca5-c5b3cf17e1cb",
   "metadata": {
    "jp-MarkdownHeadingCollapsed": true
   },
   "source": [
    "## ForEach"
   ]
  },
  {
   "cell_type": "code",
   "execution_count": 2,
   "id": "b31143bf-5b0c-4992-8ccb-b677a68eff3a",
   "metadata": {},
   "outputs": [],
   "source": [
    "from pyspark.sql import SparkSession\n",
    "spark = SparkSession.builder\\\n",
    "        .appName(\"Foreach\")\\\n",
    "        .getOrCreate()"
   ]
  },
  {
   "cell_type": "code",
   "execution_count": 3,
   "id": "a32f94a8-4e0a-47a2-a509-1463b74d6ff3",
   "metadata": {},
   "outputs": [
    {
     "name": "stdout",
     "output_type": "stream",
     "text": [
      "+-----+------------+\n",
      "|Seqno|        Name|\n",
      "+-----+------------+\n",
      "|    1|  john jones|\n",
      "|    2|tracey smith|\n",
      "|    3| amy sanders|\n",
      "+-----+------------+\n",
      "\n"
     ]
    }
   ],
   "source": [
    "# Prepare Data\n",
    "columns = [\"Seqno\",\"Name\"]\n",
    "data = [(\"1\", \"john jones\"),\n",
    "    (\"2\", \"tracey smith\"),\n",
    "    (\"3\", \"amy sanders\")]\n",
    "\n",
    "# Create DataFrame\n",
    "df = spark.createDataFrame(data=data,schema=columns)\n",
    "df.show()"
   ]
  },
  {
   "cell_type": "code",
   "execution_count": 8,
   "id": "75253115-8e8d-4f31-92d6-1351aad4ada3",
   "metadata": {},
   "outputs": [],
   "source": [
    "def f(row):\n",
    "    print(row)\n",
    "\n",
    "df.foreach(f)"
   ]
  },
  {
   "cell_type": "markdown",
   "id": "ba63d877-dc2e-441c-9ee1-956e38df85ec",
   "metadata": {},
   "source": [
    "### ForEach with Accumulator"
   ]
  },
  {
   "cell_type": "code",
   "execution_count": 14,
   "id": "a93c606b-63a2-4047-8571-e22d956f8264",
   "metadata": {},
   "outputs": [
    {
     "name": "stdout",
     "output_type": "stream",
     "text": [
      "6\n"
     ]
    }
   ],
   "source": [
    "acc = spark.sparkContext.accumulator(0)\n",
    "df.foreach(lambda x : acc.add(int(x.Seqno)))\n",
    "print(acc.value)"
   ]
  },
  {
   "cell_type": "markdown",
   "id": "59d4bc0a-d23f-4abe-971f-d86758b0b757",
   "metadata": {},
   "source": [
    "### Foreach with RDD"
   ]
  },
  {
   "cell_type": "code",
   "execution_count": 13,
   "id": "6db4bfb3-8570-4f72-903f-d5fe569eb889",
   "metadata": {},
   "outputs": [
    {
     "name": "stdout",
     "output_type": "stream",
     "text": [
      "15\n"
     ]
    }
   ],
   "source": [
    "data_ = [1,2,3,4,5]\n",
    "acc = spark.sparkContext.accumulator(0)\n",
    "rdd = spark.sparkContext.parallelize(data_)\n",
    "rdd.foreach(lambda x : acc.add(x))\n",
    "# print(acc.value)\n",
    "print(acc)"
   ]
  }
 ],
 "metadata": {
  "kernelspec": {
   "display_name": "Python 3 (ipykernel)",
   "language": "python",
   "name": "python3"
  },
  "language_info": {
   "codemirror_mode": {
    "name": "ipython",
    "version": 3
   },
   "file_extension": ".py",
   "mimetype": "text/x-python",
   "name": "python",
   "nbconvert_exporter": "python",
   "pygments_lexer": "ipython3",
   "version": "3.11.5"
  }
 },
 "nbformat": 4,
 "nbformat_minor": 5
}
