{
 "cells": [
  {
   "cell_type": "markdown",
   "id": "16493ece-fe04-4e9f-8ccb-b4762a1095de",
   "metadata": {
    "jp-MarkdownHeadingCollapsed": true
   },
   "source": [
    "## System Environment Variables"
   ]
  },
  {
   "cell_type": "code",
   "execution_count": 3,
   "id": "9eb2e4df-ab5d-4dfb-b98e-df771bde89c1",
   "metadata": {},
   "outputs": [],
   "source": [
    "import os \n",
    "import sys\n",
    "os.environ[\"PYSPARK_PYTHON\"] = sys.executable\n",
    "os.environ[\"PYSPARK_DRIVER_PYTHON\"] = sys.executable"
   ]
  },
  {
   "cell_type": "markdown",
   "id": "47bf6553-f343-4882-9155-b099c26d3431",
   "metadata": {
    "jp-MarkdownHeadingCollapsed": true
   },
   "source": [
    "## Creating SparkSession"
   ]
  },
  {
   "cell_type": "code",
   "execution_count": 4,
   "id": "38f18d14-d8c0-4b2e-bb5b-7ed3a5cc4670",
   "metadata": {},
   "outputs": [
    {
     "data": {
      "text/plain": [
       "'3.4.2'"
      ]
     },
     "execution_count": 4,
     "metadata": {},
     "output_type": "execute_result"
    }
   ],
   "source": [
    "from pyspark.sql import SparkSession\n",
    "spark = SparkSession.builder \\\n",
    "        .appName('fillna') \\\n",
    "        .getOrCreate()\n",
    "spark.version"
   ]
  },
  {
   "cell_type": "markdown",
   "id": "bd752d49-b96d-4b34-a1ba-7a36d303c246",
   "metadata": {},
   "source": [
    "## Read CSV"
   ]
  },
  {
   "cell_type": "code",
   "execution_count": 5,
   "id": "c9e3091a-6a01-4e20-81d8-649810321ae9",
   "metadata": {},
   "outputs": [],
   "source": [
    "file = \"resources/small_zipcode.csv\"\n",
    "df = spark.read.options(header = \"true\", inferSchema = \"true\")\\\n",
    "    .csv(file)"
   ]
  },
  {
   "cell_type": "code",
   "execution_count": 7,
   "id": "ef64843f-9c73-4181-98fe-53747fe79efb",
   "metadata": {},
   "outputs": [
    {
     "name": "stdout",
     "output_type": "stream",
     "text": [
      "+---+-------+--------+-------------------+-----+----------+\n",
      "| id|zipcode|    type|               city|state|population|\n",
      "+---+-------+--------+-------------------+-----+----------+\n",
      "|  1|    704|STANDARD|               null|   PR|     30100|\n",
      "|  2|    704|    null|PASEO COSTA DEL SUR|   PR|      null|\n",
      "|  3|    709|    null|       BDA SAN LUIS|   PR|      3700|\n",
      "|  4|  76166|  UNIQUE|  CINGULAR WIRELESS|   TX|     84000|\n",
      "|  5|  76177|STANDARD|               null|   TX|      null|\n",
      "+---+-------+--------+-------------------+-----+----------+\n",
      "\n"
     ]
    }
   ],
   "source": [
    "df.show()"
   ]
  },
  {
   "cell_type": "code",
   "execution_count": 8,
   "id": "16843c47-0ace-4814-9d25-23aaeff16c8b",
   "metadata": {},
   "outputs": [
    {
     "name": "stdout",
     "output_type": "stream",
     "text": [
      "root\n",
      " |-- id: integer (nullable = true)\n",
      " |-- zipcode: integer (nullable = true)\n",
      " |-- type: string (nullable = true)\n",
      " |-- city: string (nullable = true)\n",
      " |-- state: string (nullable = true)\n",
      " |-- population: integer (nullable = true)\n",
      "\n"
     ]
    }
   ],
   "source": [
    "df.printSchema()"
   ]
  },
  {
   "cell_type": "markdown",
   "id": "5a5d6fbc-6f48-4582-83a0-058eafdbb0fa",
   "metadata": {
    "jp-MarkdownHeadingCollapsed": true
   },
   "source": [
    "### Replacing with number (using fillna)"
   ]
  },
  {
   "cell_type": "code",
   "execution_count": 23,
   "id": "231f96ff-5116-47f4-a633-d0731780a3e5",
   "metadata": {},
   "outputs": [
    {
     "name": "stdout",
     "output_type": "stream",
     "text": [
      "+---+-------+--------+-------------------+-----+----------+\n",
      "| id|zipcode|    type|               city|state|population|\n",
      "+---+-------+--------+-------------------+-----+----------+\n",
      "|  1|    704|STANDARD|               null|   PR|     30100|\n",
      "|  2|    704|    null|PASEO COSTA DEL SUR|   PR|         0|\n",
      "|  3|    709|    null|       BDA SAN LUIS|   PR|      3700|\n",
      "|  4|  76166|  UNIQUE|  CINGULAR WIRELESS|   TX|     84000|\n",
      "|  5|  76177|STANDARD|               null|   TX|         0|\n",
      "+---+-------+--------+-------------------+-----+----------+\n",
      "\n"
     ]
    }
   ],
   "source": [
    "# If we replace with only integer type, Then only integer columns from the dataframe gets replaced.\n",
    "df.fillna(value = 0).show()"
   ]
  },
  {
   "cell_type": "markdown",
   "id": "dd313dd8-dbc0-4da4-ae25-db5680d8f683",
   "metadata": {
    "jp-MarkdownHeadingCollapsed": true
   },
   "source": [
    "### Replacing with string (using na.fill)"
   ]
  },
  {
   "cell_type": "code",
   "execution_count": 24,
   "id": "ddb12abe-54e2-4ba6-bf9a-dd503d1fee4e",
   "metadata": {},
   "outputs": [
    {
     "name": "stdout",
     "output_type": "stream",
     "text": [
      "+---+-------+--------+-------------------+-----+----------+\n",
      "| id|zipcode|    type|               city|state|population|\n",
      "+---+-------+--------+-------------------+-----+----------+\n",
      "|  1|    704|STANDARD|               null|   PR|     30100|\n",
      "|  2|    704|       y|PASEO COSTA DEL SUR|   PR|      null|\n",
      "|  3|    709|       y|       BDA SAN LUIS|   PR|      3700|\n",
      "|  4|  76166|  UNIQUE|  CINGULAR WIRELESS|   TX|     84000|\n",
      "|  5|  76177|STANDARD|               null|   TX|      null|\n",
      "+---+-------+--------+-------------------+-----+----------+\n",
      "\n"
     ]
    }
   ],
   "source": [
    "# Similarly, if we replace with only string type, then only string columns from df gets replaced.\n",
    "# Subset here means that we can replace the same value for some columns as per wish\n",
    "df.na.fill(value = 'y', subset = ['type']).show()"
   ]
  },
  {
   "cell_type": "markdown",
   "id": "451a0873-55d1-43a4-a874-bd78d14d62c3",
   "metadata": {
    "jp-MarkdownHeadingCollapsed": true
   },
   "source": [
    "### Replacing null with a specific aggregate value"
   ]
  },
  {
   "cell_type": "code",
   "execution_count": 33,
   "id": "ec7e9a3c-958b-4b71-b323-800f6b589fb1",
   "metadata": {},
   "outputs": [
    {
     "name": "stdout",
     "output_type": "stream",
     "text": [
      "84000\n",
      "+---+-------+--------+-------------------+-----+----------+\n",
      "| id|zipcode|    type|               city|state|population|\n",
      "+---+-------+--------+-------------------+-----+----------+\n",
      "|  1|    704|STANDARD|               null|   PR|     30100|\n",
      "|  2|    704|    null|PASEO COSTA DEL SUR|   PR|     84000|\n",
      "|  3|    709|    null|       BDA SAN LUIS|   PR|      3700|\n",
      "|  4|  76166|  UNIQUE|  CINGULAR WIRELESS|   TX|     84000|\n",
      "|  5|  76177|STANDARD|               null|   TX|     84000|\n",
      "+---+-------+--------+-------------------+-----+----------+\n",
      "\n"
     ]
    }
   ],
   "source": [
    "from pyspark.sql.functions import max\n",
    "max_population = df.agg(max(\"population\")).collect()[0][0]\n",
    "# print(max_population)\n",
    "df.na.fill(value = max_population, subset = [\"population\"]).show()"
   ]
  },
  {
   "cell_type": "markdown",
   "id": "3bad3eff-1f38-4952-8946-edb4dfc40303",
   "metadata": {
    "jp-MarkdownHeadingCollapsed": true
   },
   "source": [
    "### Replacing with multiple values for multiple columns"
   ]
  },
  {
   "cell_type": "code",
   "execution_count": 20,
   "id": "84683716-7d87-48ed-b238-3bbb53b7bd88",
   "metadata": {},
   "outputs": [
    {
     "name": "stdout",
     "output_type": "stream",
     "text": [
      "+---+-------+--------+-------------------+-----+----------+\n",
      "| id|zipcode|    type|               city|state|population|\n",
      "+---+-------+--------+-------------------+-----+----------+\n",
      "|  1|    704|STANDARD|            UNKNOWN|   PR|     30100|\n",
      "|  2|    704|  UNIQUE|PASEO COSTA DEL SUR|   PR|      null|\n",
      "|  3|    709|  UNIQUE|       BDA SAN LUIS|   PR|      3700|\n",
      "|  4|  76166|  UNIQUE|  CINGULAR WIRELESS|   TX|     84000|\n",
      "|  5|  76177|STANDARD|            UNKNOWN|   TX|      null|\n",
      "+---+-------+--------+-------------------+-----+----------+\n",
      "\n"
     ]
    }
   ],
   "source": [
    "df.na.fill(\"UNIQUE\", [\"type\"]) \\\n",
    "    .na.fill(\"UNKNOWN\", [\"city\"])\\\n",
    "    .show()"
   ]
  },
  {
   "cell_type": "markdown",
   "id": "1b6e8116-2cce-40d7-a432-8d712a73dfc3",
   "metadata": {
    "jp-MarkdownHeadingCollapsed": true
   },
   "source": [
    "### Replacing with multiple values for multiple columns using Dictionary"
   ]
  },
  {
   "cell_type": "code",
   "execution_count": 22,
   "id": "377b0f1c-3dca-4c2f-b569-977ea95c597c",
   "metadata": {},
   "outputs": [
    {
     "name": "stdout",
     "output_type": "stream",
     "text": [
      "+---+-------+--------+-------------------+-----+----------+\n",
      "| id|zipcode|    type|               city|state|population|\n",
      "+---+-------+--------+-------------------+-----+----------+\n",
      "|  1|    704|STANDARD|            UNKNOWN|   PR|     30100|\n",
      "|  2|    704|  UNIQUE|PASEO COSTA DEL SUR|   PR|     98090|\n",
      "|  3|    709|  UNIQUE|       BDA SAN LUIS|   PR|      3700|\n",
      "|  4|  76166|  UNIQUE|  CINGULAR WIRELESS|   TX|     84000|\n",
      "|  5|  76177|STANDARD|            UNKNOWN|   TX|     98090|\n",
      "+---+-------+--------+-------------------+-----+----------+\n",
      "\n"
     ]
    }
   ],
   "source": [
    "rep_dict = {\n",
    "    \"type\" : \"UNIQUE\",\n",
    "    \"city\" : \"UNKNOWN\", \n",
    "    \"population\" : 98090\n",
    "}\n",
    "\n",
    "df.fillna(rep_dict).show()"
   ]
  }
 ],
 "metadata": {
  "kernelspec": {
   "display_name": "Python 3 (ipykernel)",
   "language": "python",
   "name": "python3"
  },
  "language_info": {
   "codemirror_mode": {
    "name": "ipython",
    "version": 3
   },
   "file_extension": ".py",
   "mimetype": "text/x-python",
   "name": "python",
   "nbconvert_exporter": "python",
   "pygments_lexer": "ipython3",
   "version": "3.11.5"
  }
 },
 "nbformat": 4,
 "nbformat_minor": 5
}
