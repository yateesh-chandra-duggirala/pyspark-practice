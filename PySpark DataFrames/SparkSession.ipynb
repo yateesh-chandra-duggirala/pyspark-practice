{
 "cells": [
  {
   "cell_type": "code",
   "execution_count": 1,
   "id": "13ae991d",
   "metadata": {},
   "outputs": [],
   "source": [
    "import os\n",
    "import sys\n",
    "\n",
    "os.environ['PYSPARK_PYTHON'] = sys.executable\n",
    "os.environ['PYSPARK_DRIVER_PYTHON'] = sys.executable"
   ]
  },
  {
   "cell_type": "code",
   "execution_count": 2,
   "id": "6b89f8ac",
   "metadata": {},
   "outputs": [],
   "source": [
    "import findspark\n",
    "findspark.init()"
   ]
  },
  {
   "cell_type": "code",
   "execution_count": 3,
   "id": "8910448c",
   "metadata": {},
   "outputs": [],
   "source": [
    "from pyspark.sql import SparkSession"
   ]
  },
  {
   "cell_type": "code",
   "execution_count": 4,
   "id": "71826906",
   "metadata": {},
   "outputs": [],
   "source": [
    "spark = SparkSession.builder\\\n",
    ".master('local[1]')\\\n",
    ".appName('SparkSession')\\\n",
    ".getOrCreate()"
   ]
  },
  {
   "cell_type": "code",
   "execution_count": null,
   "id": "09c1ba72",
   "metadata": {},
   "outputs": [],
   "source": [
    "db = spark.catalog.listDatabases()"
   ]
  },
  {
   "cell_type": "code",
   "execution_count": null,
   "id": "01f62de8",
   "metadata": {},
   "outputs": [],
   "source": [
    "print(db)"
   ]
  },
  {
   "cell_type": "code",
   "execution_count": null,
   "id": "c85faefb",
   "metadata": {},
   "outputs": [],
   "source": [
    "table = spark.catalog.listTables()"
   ]
  },
  {
   "cell_type": "code",
   "execution_count": null,
   "id": "97d5b32e",
   "metadata": {},
   "outputs": [],
   "source": [
    "print(table)"
   ]
  },
  {
   "cell_type": "markdown",
   "id": "be05e830",
   "metadata": {},
   "source": [
    "#  Create Spark Session with Hive enabled"
   ]
  },
  {
   "cell_type": "code",
   "execution_count": null,
   "id": "fb4f7b94",
   "metadata": {},
   "outputs": [],
   "source": [
    "spark = SparkSession.builder\\\n",
    ".appName(\"SparkSessionWithHive\")\\\n",
    ".master(\"local[1]\")\\\n",
    ".config(\"spark.sql.warehouse.dir\", \"file:///C:/Users/Yateesh Chandra/pyspark-practice/spark-warehouse\")\\\n",
    ".enableHiveSupport()\\\n",
    ".getOrCreate()"
   ]
  },
  {
   "cell_type": "code",
   "execution_count": null,
   "id": "b1b3d9c6",
   "metadata": {},
   "outputs": [],
   "source": [
    "data = [\n",
    "    (1, \"Ramesh\"),\n",
    "    (2, \"Murali\")\n",
    "]"
   ]
  },
  {
   "cell_type": "code",
   "execution_count": null,
   "id": "d85cf51b",
   "metadata": {},
   "outputs": [],
   "source": [
    "columns = [\"Id\", \"Name\"]"
   ]
  },
  {
   "cell_type": "code",
   "execution_count": null,
   "id": "622a2fef",
   "metadata": {},
   "outputs": [],
   "source": [
    "df = spark.createDataFrame(data = data, schema = columns)"
   ]
  },
  {
   "cell_type": "code",
   "execution_count": null,
   "id": "889e670c",
   "metadata": {},
   "outputs": [],
   "source": [
    "df.show()"
   ]
  },
  {
   "cell_type": "code",
   "execution_count": null,
   "id": "bc3048ee",
   "metadata": {},
   "outputs": [],
   "source": [
    "df.createOrReplaceTempView(\"details\")"
   ]
  },
  {
   "cell_type": "code",
   "execution_count": null,
   "id": "a332a8e2",
   "metadata": {},
   "outputs": [],
   "source": [
    "df2 = spark.sql(\"Select * from details where id = 1\")"
   ]
  },
  {
   "cell_type": "code",
   "execution_count": null,
   "id": "5d806cd4",
   "metadata": {},
   "outputs": [],
   "source": [
    "df2.show()"
   ]
  },
  {
   "cell_type": "code",
   "execution_count": null,
   "id": "1ee1ab58",
   "metadata": {},
   "outputs": [],
   "source": [
    "import os\n",
    "import sys\n",
    "\n",
    "os.environ['PYSPARK_PYTHON'] = sys.executable\n",
    "os.environ['PYSPARK_DRIVER_PYTHON'] = sys.executable"
   ]
  },
  {
   "cell_type": "code",
   "execution_count": null,
   "id": "e1397818",
   "metadata": {},
   "outputs": [],
   "source": [
    "df.write.saveAsTable(\"myTable\")"
   ]
  },
  {
   "cell_type": "code",
   "execution_count": null,
   "id": "7e97da8f",
   "metadata": {},
   "outputs": [],
   "source": []
  },
  {
   "cell_type": "code",
   "execution_count": null,
   "id": "358d89f0",
   "metadata": {},
   "outputs": [],
   "source": []
  }
 ],
 "metadata": {
  "kernelspec": {
   "display_name": "Python 3 (ipykernel)",
   "language": "python",
   "name": "python3"
  },
  "language_info": {
   "codemirror_mode": {
    "name": "ipython",
    "version": 3
   },
   "file_extension": ".py",
   "mimetype": "text/x-python",
   "name": "python",
   "nbconvert_exporter": "python",
   "pygments_lexer": "ipython3",
   "version": "3.11.5"
  }
 },
 "nbformat": 4,
 "nbformat_minor": 5
}
