{
 "cells": [
  {
   "cell_type": "markdown",
   "id": "ee10c89b-6abb-4a0e-933e-554100b90c22",
   "metadata": {},
   "source": [
    "## Setting Environment Variables"
   ]
  },
  {
   "cell_type": "code",
   "execution_count": 1,
   "id": "1a277a45-ca32-43bf-868c-8f30518d2eaa",
   "metadata": {},
   "outputs": [],
   "source": [
    "import os\n",
    "import sys\n",
    "os.environ[\"PYSPARK_PYTHON\"] = sys.executable\n",
    "os.environ[\"PYSPARK_DRIVER_PYTHON\"] = sys.executable"
   ]
  },
  {
   "cell_type": "markdown",
   "id": "7beab372-5622-4a68-804c-4cfc306537ab",
   "metadata": {
    "jp-MarkdownHeadingCollapsed": true
   },
   "source": [
    "## DataFrame"
   ]
  },
  {
   "cell_type": "code",
   "execution_count": 2,
   "id": "50ab5187-b6dd-43f0-af13-630efe7cd9a4",
   "metadata": {},
   "outputs": [
    {
     "data": {
      "text/plain": [
       "'3.4.2'"
      ]
     },
     "execution_count": 2,
     "metadata": {},
     "output_type": "execute_result"
    }
   ],
   "source": [
    "from pyspark.sql import SparkSession\n",
    "spark = SparkSession.builder \\\n",
    "        .appName(\"Sample\") \\\n",
    "        .getOrCreate()\n",
    "\n",
    "spark.version"
   ]
  },
  {
   "cell_type": "markdown",
   "id": "096c6552-4c11-4e36-bce5-82d59ad66dc4",
   "metadata": {
    "jp-MarkdownHeadingCollapsed": true
   },
   "source": [
    "### Sample"
   ]
  },
  {
   "cell_type": "code",
   "execution_count": 81,
   "id": "932d341f-e6ef-4212-ae3f-1940e7c98373",
   "metadata": {},
   "outputs": [
    {
     "name": "stdout",
     "output_type": "stream",
     "text": [
      "+---+\n",
      "| id|\n",
      "+---+\n",
      "|144|\n",
      "|160|\n",
      "|164|\n",
      "|165|\n",
      "|166|\n",
      "|176|\n",
      "|179|\n",
      "|183|\n",
      "|193|\n",
      "|199|\n",
      "|213|\n",
      "|219|\n",
      "|234|\n",
      "|259|\n",
      "|263|\n",
      "|268|\n",
      "|272|\n",
      "|275|\n",
      "|287|\n",
      "|289|\n",
      "+---+\n",
      "\n"
     ]
    }
   ],
   "source": [
    "df = spark.range(100, 300)\n",
    "# df.collect() - prints the numbers upto 100 in an order\n",
    "df.sample(0.1, 123).show()"
   ]
  },
  {
   "cell_type": "code",
   "execution_count": null,
   "id": "68c53bf3-218d-4e19-a67a-a55c63b2b788",
   "metadata": {},
   "outputs": [],
   "source": [
    "sampled_df = df.sample(0.1)\n",
    "count = sampled_df.count()\n",
    "print(count)"
   ]
  },
  {
   "cell_type": "markdown",
   "id": "6a4df88d-eec5-4d95-99d5-284c9142a2a4",
   "metadata": {},
   "source": [
    "#### With Duplicates"
   ]
  },
  {
   "cell_type": "code",
   "execution_count": 54,
   "id": "bcb017ee-6bf9-4dcd-9820-5af1a2552f02",
   "metadata": {},
   "outputs": [
    {
     "data": {
      "text/plain": [
       "[Row(id=6),\n",
       " Row(id=27),\n",
       " Row(id=37),\n",
       " Row(id=46),\n",
       " Row(id=50),\n",
       " Row(id=60),\n",
       " Row(id=65),\n",
       " Row(id=72),\n",
       " Row(id=81),\n",
       " Row(id=91),\n",
       " Row(id=92),\n",
       " Row(id=92)]"
      ]
     },
     "execution_count": 54,
     "metadata": {},
     "output_type": "execute_result"
    }
   ],
   "source": [
    "# The first Parameter (withReplacement) is set to True in order to get the Duplicate values\n",
    "df.sample(True, 0.1, 123).collect()"
   ]
  },
  {
   "cell_type": "markdown",
   "id": "dcd2384e-aaae-4016-ac89-d296d3732f58",
   "metadata": {},
   "source": [
    "#### Without Duplicates"
   ]
  },
  {
   "cell_type": "code",
   "execution_count": 56,
   "id": "e231fa83-cc02-42aa-8e61-bddae59c4b99",
   "metadata": {},
   "outputs": [
    {
     "data": {
      "text/plain": [
       "[Row(id=35),\n",
       " Row(id=38),\n",
       " Row(id=41),\n",
       " Row(id=45),\n",
       " Row(id=71),\n",
       " Row(id=84),\n",
       " Row(id=87),\n",
       " Row(id=99)]"
      ]
     },
     "execution_count": 56,
     "metadata": {},
     "output_type": "execute_result"
    }
   ],
   "source": [
    "# Set the first parameter to False to get only non duplicate values\n",
    "df.sample(False, 0.1, 123).collect()"
   ]
  },
  {
   "cell_type": "markdown",
   "id": "8266a743-4d98-4f75-bd46-2d519ba39ada",
   "metadata": {
    "jp-MarkdownHeadingCollapsed": true
   },
   "source": [
    "### SampleBy()"
   ]
  },
  {
   "cell_type": "code",
   "execution_count": 71,
   "id": "8956002e-074a-4998-9f55-e0ab5ec50dc3",
   "metadata": {
    "scrolled": true
   },
   "outputs": [
    {
     "name": "stdout",
     "output_type": "stream",
     "text": [
      "[Row(key=0), Row(key=0), Row(key=1), Row(key=1), Row(key=0), Row(key=1), Row(key=0), Row(key=1), Row(key=0), Row(key=0), Row(key=1), Row(key=1), Row(key=0)]\n"
     ]
    }
   ],
   "source": [
    "df2 = df.select((df.id % 3).alias(\"key\"))\n",
    "print(df2.sampleBy(\"key\", {0 : 0.1, 1:0.2}, 0).collect())"
   ]
  },
  {
   "cell_type": "markdown",
   "id": "5d772058-1ff3-4859-9a7d-b773bd656e8f",
   "metadata": {
    "jp-MarkdownHeadingCollapsed": true
   },
   "source": [
    "## RDD"
   ]
  },
  {
   "cell_type": "code",
   "execution_count": 74,
   "id": "18fdd7a3-491f-4ee5-9f34-697ddd3f1ec2",
   "metadata": {},
   "outputs": [],
   "source": [
    "# Create an RDD\n",
    "rdd = spark.sparkContext.range(100, 200)"
   ]
  },
  {
   "cell_type": "markdown",
   "id": "c6e40e0d-d531-4d70-a5d4-b96b3105f3ae",
   "metadata": {
    "jp-MarkdownHeadingCollapsed": true
   },
   "source": [
    "### Sample"
   ]
  },
  {
   "cell_type": "code",
   "execution_count": 76,
   "id": "4b234f75-9612-42a5-b903-7cd7d0f076c0",
   "metadata": {},
   "outputs": [
    {
     "data": {
      "text/plain": [
       "[100,\n",
       " 111,\n",
       " 116,\n",
       " 118,\n",
       " 119,\n",
       " 123,\n",
       " 123,\n",
       " 124,\n",
       " 126,\n",
       " 126,\n",
       " 127,\n",
       " 129,\n",
       " 135,\n",
       " 138,\n",
       " 147,\n",
       " 149,\n",
       " 154,\n",
       " 154,\n",
       " 155,\n",
       " 161,\n",
       " 161,\n",
       " 166,\n",
       " 168,\n",
       " 181,\n",
       " 181,\n",
       " 182,\n",
       " 185,\n",
       " 197,\n",
       " 199]"
      ]
     },
     "execution_count": 76,
     "metadata": {},
     "output_type": "execute_result"
    }
   ],
   "source": [
    "rdd.sample(True, 0.3, 123).collect()"
   ]
  },
  {
   "cell_type": "markdown",
   "id": "bc0db3cd-b442-432b-94f4-f7e9142dadf4",
   "metadata": {
    "jp-MarkdownHeadingCollapsed": true
   },
   "source": [
    "### takeSample()"
   ]
  },
  {
   "cell_type": "code",
   "execution_count": 80,
   "id": "fe94021e-9c41-4c92-af1c-aa3a96e0700c",
   "metadata": {},
   "outputs": [
    {
     "name": "stdout",
     "output_type": "stream",
     "text": [
      "[183, 137, 146, 135, 181, 148, 129, 127, 126, 166]\n"
     ]
    }
   ],
   "source": [
    "print(rdd.takeSample(True, 10, 123))"
   ]
  }
 ],
 "metadata": {
  "kernelspec": {
   "display_name": "Python 3 (ipykernel)",
   "language": "python",
   "name": "python3"
  },
  "language_info": {
   "codemirror_mode": {
    "name": "ipython",
    "version": 3
   },
   "file_extension": ".py",
   "mimetype": "text/x-python",
   "name": "python",
   "nbconvert_exporter": "python",
   "pygments_lexer": "ipython3",
   "version": "3.11.5"
  }
 },
 "nbformat": 4,
 "nbformat_minor": 5
}
