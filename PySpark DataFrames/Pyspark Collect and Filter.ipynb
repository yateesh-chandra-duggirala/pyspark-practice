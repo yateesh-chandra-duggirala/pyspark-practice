{
 "cells": [
  {
   "cell_type": "markdown",
   "id": "458ba6f7-0195-472a-9666-71eaecc21425",
   "metadata": {
    "jp-MarkdownHeadingCollapsed": true
   },
   "source": [
    "## Creating A Data Frame"
   ]
  },
  {
   "cell_type": "code",
   "execution_count": 1,
   "id": "6319dffe-8574-4bb7-9ff7-682884002396",
   "metadata": {},
   "outputs": [],
   "source": [
    "import os\n",
    "import sys\n",
    "\n",
    "os.environ[\"PYSPARK_PYTHON\"] = sys.executable\n",
    "os.environ[\"PYSPARK_DRIVER_PYTHON\"] = sys.executable"
   ]
  },
  {
   "cell_type": "code",
   "execution_count": 2,
   "id": "39384613-7b89-47a3-8c23-ea2891de843a",
   "metadata": {},
   "outputs": [
    {
     "name": "stderr",
     "output_type": "stream",
     "text": [
      "----------------------------------------\n",
      "Exception occurred during processing of request from ('127.0.0.1', 60085)\n",
      "Traceback (most recent call last):\n",
      "  File \"C:\\Users\\Yateesh Chandra\\AppData\\Local\\Programs\\Python\\Python311\\Lib\\socketserver.py\", line 317, in _handle_request_noblock\n",
      "    self.process_request(request, client_address)\n",
      "  File \"C:\\Users\\Yateesh Chandra\\AppData\\Local\\Programs\\Python\\Python311\\Lib\\socketserver.py\", line 348, in process_request\n",
      "    self.finish_request(request, client_address)\n",
      "  File \"C:\\Users\\Yateesh Chandra\\AppData\\Local\\Programs\\Python\\Python311\\Lib\\socketserver.py\", line 361, in finish_request\n",
      "    self.RequestHandlerClass(request, client_address, self)\n",
      "  File \"C:\\Users\\Yateesh Chandra\\AppData\\Local\\Programs\\Python\\Python311\\Lib\\socketserver.py\", line 755, in __init__\n",
      "    self.handle()\n",
      "  File \"C:\\spark\\spark-3.4.2-bin-hadoop3\\python\\pyspark\\accumulators.py\", line 281, in handle\n",
      "    poll(accum_updates)\n",
      "  File \"C:\\spark\\spark-3.4.2-bin-hadoop3\\python\\pyspark\\accumulators.py\", line 253, in poll\n",
      "    if func():\n",
      "       ^^^^^^\n",
      "  File \"C:\\spark\\spark-3.4.2-bin-hadoop3\\python\\pyspark\\accumulators.py\", line 257, in accum_updates\n",
      "    num_updates = read_int(self.rfile)\n",
      "                  ^^^^^^^^^^^^^^^^^^^^\n",
      "  File \"C:\\spark\\spark-3.4.2-bin-hadoop3\\python\\pyspark\\serializers.py\", line 594, in read_int\n",
      "    length = stream.read(4)\n",
      "             ^^^^^^^^^^^^^^\n",
      "  File \"C:\\Users\\Yateesh Chandra\\AppData\\Local\\Programs\\Python\\Python311\\Lib\\socket.py\", line 706, in readinto\n",
      "    return self._sock.recv_into(b)\n",
      "           ^^^^^^^^^^^^^^^^^^^^^^^\n",
      "ConnectionResetError: [WinError 10054] An existing connection was forcibly closed by the remote host\n",
      "----------------------------------------\n"
     ]
    }
   ],
   "source": [
    "from pyspark.sql import SparkSession\n",
    "spark = SparkSession.builder \\\n",
    "        .appName(\"PythonCollect\") \\\n",
    "        .getOrCreate()"
   ]
  },
  {
   "cell_type": "code",
   "execution_count": 3,
   "id": "50b7708a-4f3b-4984-919d-d07a8f7d1444",
   "metadata": {},
   "outputs": [],
   "source": [
    "# Creating data\n",
    "dept = [(\"Finance\",10), \\\n",
    "    (\"Marketing\",20), \\\n",
    "    (\"Sales\",30), \\\n",
    "    (\"IT\",40) \\\n",
    "  ]\n",
    "\n",
    "# Creating column names\n",
    "deptColumns = [\"dept_name\",\"dept_id\"]\n",
    "\n",
    "# Creating DataFrame\n",
    "deptDF = spark.createDataFrame(data=dept, schema = deptColumns)"
   ]
  },
  {
   "cell_type": "code",
   "execution_count": 4,
   "id": "b22f4b40-b61f-49d4-be49-e9fbeee27cfb",
   "metadata": {},
   "outputs": [
    {
     "name": "stdout",
     "output_type": "stream",
     "text": [
      "+---------+-------+\n",
      "|dept_name|dept_id|\n",
      "+---------+-------+\n",
      "|Finance  |10     |\n",
      "|Marketing|20     |\n",
      "|Sales    |30     |\n",
      "|IT       |40     |\n",
      "+---------+-------+\n",
      "\n"
     ]
    }
   ],
   "source": [
    "deptDF.show(truncate = False)"
   ]
  },
  {
   "cell_type": "markdown",
   "id": "7c5c7b6c-0be4-4fe6-9626-3cacb6a78da9",
   "metadata": {
    "jp-MarkdownHeadingCollapsed": true
   },
   "source": [
    "## Collect() Function"
   ]
  },
  {
   "cell_type": "code",
   "execution_count": 5,
   "id": "41e52351-672f-4966-abe7-7f39f72a3148",
   "metadata": {},
   "outputs": [
    {
     "name": "stdout",
     "output_type": "stream",
     "text": [
      "[Row(dept_name='Finance', dept_id=10), Row(dept_name='Marketing', dept_id=20), Row(dept_name='Sales', dept_id=30), Row(dept_name='IT', dept_id=40)]\n"
     ]
    }
   ],
   "source": [
    "# Performing collect() method\n",
    "dataCollect = deptDF.collect()\n",
    "print(dataCollect)"
   ]
  },
  {
   "cell_type": "code",
   "execution_count": 6,
   "id": "b3778570-d1b0-4ad5-a321-f4f8204ccde0",
   "metadata": {},
   "outputs": [
    {
     "name": "stdout",
     "output_type": "stream",
     "text": [
      "10 Finance\n",
      "20 Marketing\n",
      "30 Sales\n",
      "40 IT\n"
     ]
    }
   ],
   "source": [
    "# Printing Collected data\n",
    "for row in dataCollect:\n",
    "    print(row['dept_id'], row['dept_name'])"
   ]
  },
  {
   "cell_type": "code",
   "execution_count": 7,
   "id": "a89b1563-837a-4ce5-9c89-1ee3224f7670",
   "metadata": {},
   "outputs": [
    {
     "data": {
      "text/plain": [
       "[Row(dept_name='Finance', dept_id=10),\n",
       " Row(dept_name='Marketing', dept_id=20),\n",
       " Row(dept_name='Sales', dept_id=30),\n",
       " Row(dept_name='IT', dept_id=40)]"
      ]
     },
     "execution_count": 7,
     "metadata": {},
     "output_type": "execute_result"
    }
   ],
   "source": [
    "deptDF.collect()[:][:]"
   ]
  },
  {
   "cell_type": "code",
   "execution_count": 8,
   "id": "27ed8ee5-5221-4f67-be72-557ce7e7992e",
   "metadata": {},
   "outputs": [
    {
     "data": {
      "text/plain": [
       "[Row(dept_name='Finance', dept_id=10),\n",
       " Row(dept_name='Marketing', dept_id=20),\n",
       " Row(dept_name='Sales', dept_id=30),\n",
       " Row(dept_name='IT', dept_id=40)]"
      ]
     },
     "execution_count": 8,
     "metadata": {},
     "output_type": "execute_result"
    }
   ],
   "source": [
    "deptDF.collect()"
   ]
  },
  {
   "cell_type": "code",
   "execution_count": 9,
   "id": "f4ce1738-0e35-4aab-a6d2-bbe19c17e46e",
   "metadata": {},
   "outputs": [
    {
     "name": "stdout",
     "output_type": "stream",
     "text": [
      "[Row(dept_name='Finance', dept_id=10), Row(dept_name='Marketing', dept_id=20), Row(dept_name='Sales', dept_id=30), Row(dept_name='IT', dept_id=40)]\n"
     ]
    }
   ],
   "source": [
    "dataCollect2 =  deptDF.select(\"*\").collect()\n",
    "print(dataCollect2)"
   ]
  },
  {
   "cell_type": "markdown",
   "id": "3556c2ce-a7fc-4fcf-b6ea-2ca25eea3e46",
   "metadata": {
    "jp-MarkdownHeadingCollapsed": true
   },
   "source": [
    "## Filter() Function"
   ]
  },
  {
   "cell_type": "code",
   "execution_count": 10,
   "id": "8a7de4bd-4985-4dcc-8c67-a5851a4799f0",
   "metadata": {},
   "outputs": [],
   "source": [
    "from pyspark.sql.types import StructType, StructField, IntegerType, StringType, ArrayType\n",
    "\n",
    "# Overcome the dataframe\n",
    "data = [\n",
    "    ((\"James\",\"\",\"Smith\"),[\"Java\",\"Scala\",\"C++\"],\"OH\",\"M\"),\n",
    "    ((\"Anna\",\"Rose\",\"\"),[\"Spark\",\"Java\",\"C++\"],\"NY\",\"F\"),\n",
    "    ((\"Julia\",\"\",\"Williams\"),[\"CSharp\",\"VB\"],\"OH\",\"F\"),\n",
    "    ((\"Maria\",\"Anne\",\"Jones\"),[\"CSharp\",\"VB\"],\"NY\",\"M\"),\n",
    "    ((\"Jen\",\"Mary\",\"Brown\"),[\"CSharp\",\"VB\"],\"NY\",\"M\"),\n",
    "    ((\"Mike\",\"Mary\",\"Williams\"),[\"Python\",\"VB\"],\"OH\",\"M\")\n",
    "]\n",
    "\n",
    "schema = StructType([\n",
    "     StructField('name', StructType([\n",
    "        StructField('firstname', StringType(), True),\n",
    "        StructField('middlename', StringType(), True),\n",
    "         StructField('lastname', StringType(), True)\n",
    "     ])),\n",
    "     StructField('languages', ArrayType(StringType()), True),\n",
    "     StructField('state', StringType(), True),\n",
    "     StructField('gender', StringType(), True)\n",
    " ])\n",
    "\n",
    "df = spark.createDataFrame(data, schema)"
   ]
  },
  {
   "cell_type": "code",
   "execution_count": 11,
   "id": "0a24c03d-5575-4b5d-8cb8-d1a146c45cf8",
   "metadata": {},
   "outputs": [
    {
     "name": "stdout",
     "output_type": "stream",
     "text": [
      "root\n",
      " |-- name: struct (nullable = true)\n",
      " |    |-- firstname: string (nullable = true)\n",
      " |    |-- middlename: string (nullable = true)\n",
      " |    |-- lastname: string (nullable = true)\n",
      " |-- languages: array (nullable = true)\n",
      " |    |-- element: string (containsNull = true)\n",
      " |-- state: string (nullable = true)\n",
      " |-- gender: string (nullable = true)\n",
      "\n"
     ]
    }
   ],
   "source": [
    "df.printSchema()"
   ]
  },
  {
   "cell_type": "code",
   "execution_count": 12,
   "id": "6e440cce-7b5f-4491-b32e-d97ddd85f95e",
   "metadata": {},
   "outputs": [
    {
     "name": "stdout",
     "output_type": "stream",
     "text": [
      "+----------------------+------------------+-----+------+\n",
      "|name                  |languages         |state|gender|\n",
      "+----------------------+------------------+-----+------+\n",
      "|{James, , Smith}      |[Java, Scala, C++]|OH   |M     |\n",
      "|{Anna, Rose, }        |[Spark, Java, C++]|NY   |F     |\n",
      "|{Julia, , Williams}   |[CSharp, VB]      |OH   |F     |\n",
      "|{Maria, Anne, Jones}  |[CSharp, VB]      |NY   |M     |\n",
      "|{Jen, Mary, Brown}    |[CSharp, VB]      |NY   |M     |\n",
      "|{Mike, Mary, Williams}|[Python, VB]      |OH   |M     |\n",
      "+----------------------+------------------+-----+------+\n",
      "\n"
     ]
    }
   ],
   "source": [
    "df.show(truncate = False)"
   ]
  },
  {
   "cell_type": "markdown",
   "id": "5938edb3-42eb-4cb2-86be-6a38a260b8d6",
   "metadata": {
    "jp-MarkdownHeadingCollapsed": true
   },
   "source": [
    "### Equals Condition"
   ]
  },
  {
   "cell_type": "code",
   "execution_count": 13,
   "id": "b80a34e1-bca1-472d-9edf-6d565c664470",
   "metadata": {},
   "outputs": [
    {
     "name": "stdout",
     "output_type": "stream",
     "text": [
      "+----------------------+------------------+-----+------+\n",
      "|name                  |languages         |state|gender|\n",
      "+----------------------+------------------+-----+------+\n",
      "|{James, , Smith}      |[Java, Scala, C++]|OH   |M     |\n",
      "|{Julia, , Williams}   |[CSharp, VB]      |OH   |F     |\n",
      "|{Mike, Mary, Williams}|[Python, VB]      |OH   |M     |\n",
      "+----------------------+------------------+-----+------+\n",
      "\n"
     ]
    }
   ],
   "source": [
    "# Using equals condition with . operator\n",
    "df.filter(df.state == 'OH').show(truncate = False)"
   ]
  },
  {
   "cell_type": "markdown",
   "id": "7c120227-dcf9-4d2b-bc38-dc7f802737de",
   "metadata": {
    "jp-MarkdownHeadingCollapsed": true
   },
   "source": [
    "### Not Equals Condition"
   ]
  },
  {
   "cell_type": "code",
   "execution_count": 14,
   "id": "5f1f1ea6-9935-4929-b9ac-ce2a0d90ff65",
   "metadata": {},
   "outputs": [
    {
     "name": "stdout",
     "output_type": "stream",
     "text": [
      "+----------------------+------------------+-----+------+\n",
      "|name                  |languages         |state|gender|\n",
      "+----------------------+------------------+-----+------+\n",
      "|{James, , Smith}      |[Java, Scala, C++]|OH   |M     |\n",
      "|{Julia, , Williams}   |[CSharp, VB]      |OH   |F     |\n",
      "|{Mike, Mary, Williams}|[Python, VB]      |OH   |M     |\n",
      "+----------------------+------------------+-----+------+\n",
      "\n"
     ]
    }
   ],
   "source": [
    "# Using equals condition with column\n",
    "df.filter(df['state'] == 'OH').show(truncate = False)"
   ]
  },
  {
   "cell_type": "code",
   "execution_count": 15,
   "id": "ef0180c1-3077-4d8c-9544-c78b00bc9d60",
   "metadata": {},
   "outputs": [
    {
     "name": "stdout",
     "output_type": "stream",
     "text": [
      "+--------------------+------------------+-----+------+\n",
      "|                name|         languages|state|gender|\n",
      "+--------------------+------------------+-----+------+\n",
      "|      {Anna, Rose, }|[Spark, Java, C++]|   NY|     F|\n",
      "|{Maria, Anne, Jones}|      [CSharp, VB]|   NY|     M|\n",
      "|  {Jen, Mary, Brown}|      [CSharp, VB]|   NY|     M|\n",
      "+--------------------+------------------+-----+------+\n",
      "\n"
     ]
    }
   ],
   "source": [
    "# Using Not equals condition in different ways\n",
    "df.filter(df.state != 'OH').show()"
   ]
  },
  {
   "cell_type": "code",
   "execution_count": 16,
   "id": "3cf3a268-4d99-4b5b-bf00-3faa526a4a0c",
   "metadata": {},
   "outputs": [
    {
     "name": "stdout",
     "output_type": "stream",
     "text": [
      "+--------------------+------------------+-----+------+\n",
      "|                name|         languages|state|gender|\n",
      "+--------------------+------------------+-----+------+\n",
      "|      {Anna, Rose, }|[Spark, Java, C++]|   NY|     F|\n",
      "|{Maria, Anne, Jones}|      [CSharp, VB]|   NY|     M|\n",
      "|  {Jen, Mary, Brown}|      [CSharp, VB]|   NY|     M|\n",
      "+--------------------+------------------+-----+------+\n",
      "\n"
     ]
    }
   ],
   "source": [
    "df.filter(~(df.state == 'OH')).show()"
   ]
  },
  {
   "cell_type": "code",
   "execution_count": 17,
   "id": "3411088c-f2df-4c8f-a714-f4d4808b02ac",
   "metadata": {},
   "outputs": [
    {
     "name": "stdout",
     "output_type": "stream",
     "text": [
      "+--------------------+------------------+-----+------+\n",
      "|                name|         languages|state|gender|\n",
      "+--------------------+------------------+-----+------+\n",
      "|    {James, , Smith}|[Java, Scala, C++]|   OH|     M|\n",
      "| {Julia, , Williams}|      [CSharp, VB]|   OH|     F|\n",
      "|{Mike, Mary, Will...|      [Python, VB]|   OH|     M|\n",
      "+--------------------+------------------+-----+------+\n",
      "\n"
     ]
    }
   ],
   "source": [
    "from pyspark.sql.functions import col\n",
    "df.filter(col('state') == 'OH').show()"
   ]
  },
  {
   "cell_type": "code",
   "execution_count": 18,
   "id": "7043aab7-87d6-421f-89a8-31cc0acd001d",
   "metadata": {},
   "outputs": [
    {
     "name": "stdout",
     "output_type": "stream",
     "text": [
      "+--------------------+------------+-----+------+\n",
      "|                name|   languages|state|gender|\n",
      "+--------------------+------------+-----+------+\n",
      "| {Julia, , Williams}|[CSharp, VB]|   OH|     F|\n",
      "|{Mike, Mary, Will...|[Python, VB]|   OH|     M|\n",
      "+--------------------+------------+-----+------+\n",
      "\n"
     ]
    }
   ],
   "source": [
    "### Using col function\n",
    "from pyspark.sql.functions import col\n",
    "df.filter(col('name.lastname') == 'Williams').show()"
   ]
  },
  {
   "cell_type": "markdown",
   "id": "b878518e-34d1-4984-8c1f-acb466c69123",
   "metadata": {
    "jp-MarkdownHeadingCollapsed": true
   },
   "source": [
    "### DataFrame filter using sql Operations"
   ]
  },
  {
   "cell_type": "code",
   "execution_count": 19,
   "id": "b7aced95-fb03-409e-b159-613b1cce16bc",
   "metadata": {},
   "outputs": [
    {
     "name": "stdout",
     "output_type": "stream",
     "text": [
      "+--------------------+------------------+-----+------+\n",
      "|                name|         languages|state|gender|\n",
      "+--------------------+------------------+-----+------+\n",
      "|    {James, , Smith}|[Java, Scala, C++]|   OH|     M|\n",
      "|{Maria, Anne, Jones}|      [CSharp, VB]|   NY|     M|\n",
      "|  {Jen, Mary, Brown}|      [CSharp, VB]|   NY|     M|\n",
      "|{Mike, Mary, Will...|      [Python, VB]|   OH|     M|\n",
      "+--------------------+------------------+-----+------+\n",
      "\n"
     ]
    }
   ],
   "source": [
    "df.filter(\"gender == 'M'\").show()"
   ]
  },
  {
   "cell_type": "code",
   "execution_count": 20,
   "id": "b6a1f86f-68a4-436b-87ec-c55b13f65465",
   "metadata": {},
   "outputs": [
    {
     "name": "stdout",
     "output_type": "stream",
     "text": [
      "+-------------------+------------------+-----+------+\n",
      "|               name|         languages|state|gender|\n",
      "+-------------------+------------------+-----+------+\n",
      "|     {Anna, Rose, }|[Spark, Java, C++]|   NY|     F|\n",
      "|{Julia, , Williams}|      [CSharp, VB]|   OH|     F|\n",
      "+-------------------+------------------+-----+------+\n",
      "\n"
     ]
    }
   ],
   "source": [
    "df.filter(\"gender <> 'M'\").show()"
   ]
  },
  {
   "cell_type": "markdown",
   "id": "f6ce2446-db6e-4ada-963b-cce79ba1c276",
   "metadata": {
    "jp-MarkdownHeadingCollapsed": true
   },
   "source": [
    "### Select and Filter together"
   ]
  },
  {
   "cell_type": "code",
   "execution_count": 21,
   "id": "24f96b85-b02a-4ebe-9f52-4cf8191aba52",
   "metadata": {
    "scrolled": true
   },
   "outputs": [
    {
     "name": "stdout",
     "output_type": "stream",
     "text": [
      "+---------+--------+------------------+\n",
      "|firstname|lastname|languages         |\n",
      "+---------+--------+------------------+\n",
      "|James    |Smith   |[Java, Scala, C++]|\n",
      "|Julia    |Williams|[CSharp, VB]      |\n",
      "|Mike     |Williams|[Python, VB]      |\n",
      "+---------+--------+------------------+\n",
      "\n"
     ]
    }
   ],
   "source": [
    "# Using select and filter together in a query\n",
    "df.select(\"name.firstname\", \"name.lastname\", \"languages\").filter(df['state'] == 'OH').show(truncate = False)"
   ]
  },
  {
   "cell_type": "markdown",
   "id": "d686ab93-dfc9-424e-9483-9c1a3ad35cc8",
   "metadata": {
    "jp-MarkdownHeadingCollapsed": true
   },
   "source": [
    "### Filter with multiple conditions"
   ]
  },
  {
   "cell_type": "code",
   "execution_count": 22,
   "id": "aa08aafd-91c1-4ae4-973f-9b392a744578",
   "metadata": {},
   "outputs": [
    {
     "name": "stdout",
     "output_type": "stream",
     "text": [
      "+--------------------+------------------+-----+------+\n",
      "|                name|         languages|state|gender|\n",
      "+--------------------+------------------+-----+------+\n",
      "|    {James, , Smith}|[Java, Scala, C++]|   OH|     M|\n",
      "|{Mike, Mary, Will...|      [Python, VB]|   OH|     M|\n",
      "+--------------------+------------------+-----+------+\n",
      "\n"
     ]
    }
   ],
   "source": [
    "df.filter((df.state == 'OH') & (df.gender == 'M')).show()"
   ]
  },
  {
   "cell_type": "markdown",
   "id": "453ba23f-d53e-46e0-b026-7317fbb139a2",
   "metadata": {
    "jp-MarkdownHeadingCollapsed": true
   },
   "source": [
    "### Filter based on list values"
   ]
  },
  {
   "cell_type": "code",
   "execution_count": 23,
   "id": "77f0c693-c07f-4b39-8273-235c6a5c4f86",
   "metadata": {},
   "outputs": [
    {
     "name": "stdout",
     "output_type": "stream",
     "text": [
      "+--------------------+------------------+-----+------+\n",
      "|                name|         languages|state|gender|\n",
      "+--------------------+------------------+-----+------+\n",
      "|    {James, , Smith}|[Java, Scala, C++]|   OH|     M|\n",
      "| {Julia, , Williams}|      [CSharp, VB]|   OH|     F|\n",
      "|{Mike, Mary, Will...|      [Python, VB]|   OH|     M|\n",
      "+--------------------+------------------+-----+------+\n",
      "\n"
     ]
    }
   ],
   "source": [
    "# Define a list\n",
    "li = [\"OA\", \"LI\", \"OH\"]\n",
    "\n",
    "# Checking for the values in the list\n",
    "df.filter(df.state.isin(li)).show()"
   ]
  },
  {
   "cell_type": "code",
   "execution_count": 24,
   "id": "54bb4365-e2be-4bb8-afe5-2fbd7a9c54d5",
   "metadata": {},
   "outputs": [
    {
     "name": "stdout",
     "output_type": "stream",
     "text": [
      "+--------------------+------------------+-----+------+\n",
      "|                name|         languages|state|gender|\n",
      "+--------------------+------------------+-----+------+\n",
      "|      {Anna, Rose, }|[Spark, Java, C++]|   NY|     F|\n",
      "|{Maria, Anne, Jones}|      [CSharp, VB]|   NY|     M|\n",
      "|  {Jen, Mary, Brown}|      [CSharp, VB]|   NY|     M|\n",
      "+--------------------+------------------+-----+------+\n",
      "\n"
     ]
    }
   ],
   "source": [
    "# Checking for the values not in the list\n",
    "df.filter(~(df.state.isin(li))).show()"
   ]
  },
  {
   "cell_type": "markdown",
   "id": "52d34f66-bb56-4004-a685-7b7403604b64",
   "metadata": {
    "jp-MarkdownHeadingCollapsed": true
   },
   "source": [
    "### Filters based on Ends with, Starts with, contains"
   ]
  },
  {
   "cell_type": "code",
   "execution_count": 25,
   "id": "8b2048b3-7553-4c36-8b76-ee5d647d0adc",
   "metadata": {},
   "outputs": [
    {
     "name": "stdout",
     "output_type": "stream",
     "text": [
      "+--------------------+------------------+-----+------+\n",
      "|                name|         languages|state|gender|\n",
      "+--------------------+------------------+-----+------+\n",
      "|    {James, , Smith}|[Java, Scala, C++]|   OH|     M|\n",
      "| {Julia, , Williams}|      [CSharp, VB]|   OH|     F|\n",
      "|{Mike, Mary, Will...|      [Python, VB]|   OH|     M|\n",
      "+--------------------+------------------+-----+------+\n",
      "\n"
     ]
    }
   ],
   "source": [
    "# Starts with function\n",
    "df.filter(df.state.startswith('O')).show()"
   ]
  },
  {
   "cell_type": "code",
   "execution_count": 26,
   "id": "386ab061-9ff4-45db-b6b4-6dcac8ed0914",
   "metadata": {},
   "outputs": [
    {
     "name": "stdout",
     "output_type": "stream",
     "text": [
      "+--------------------+------------------+-----+------+\n",
      "|                name|         languages|state|gender|\n",
      "+--------------------+------------------+-----+------+\n",
      "|      {Anna, Rose, }|[Spark, Java, C++]|   NY|     F|\n",
      "|{Maria, Anne, Jones}|      [CSharp, VB]|   NY|     M|\n",
      "|  {Jen, Mary, Brown}|      [CSharp, VB]|   NY|     M|\n",
      "+--------------------+------------------+-----+------+\n",
      "\n"
     ]
    }
   ],
   "source": [
    "# Ends with function\n",
    "df.filter(df.state.endswith('Y')).show()"
   ]
  },
  {
   "cell_type": "code",
   "execution_count": 27,
   "id": "5de17e88-caed-4080-832c-ba1489b7fe80",
   "metadata": {},
   "outputs": [
    {
     "name": "stdout",
     "output_type": "stream",
     "text": [
      "+------------------+------------------+-----+------+\n",
      "|              name|         languages|state|gender|\n",
      "+------------------+------------------+-----+------+\n",
      "|    {Anna, Rose, }|[Spark, Java, C++]|   NY|     F|\n",
      "|{Jen, Mary, Brown}|      [CSharp, VB]|   NY|     M|\n",
      "+------------------+------------------+-----+------+\n",
      "\n"
     ]
    }
   ],
   "source": [
    "# Contains function\n",
    "df.filter(df.name.firstname.contains('n')).show()"
   ]
  },
  {
   "cell_type": "markdown",
   "id": "785fd534-e777-4b2d-9249-cdc51f5df741",
   "metadata": {
    "jp-MarkdownHeadingCollapsed": true
   },
   "source": [
    "### Filters using like and rlike"
   ]
  },
  {
   "cell_type": "code",
   "execution_count": 28,
   "id": "e4371ecd-6acb-4cd4-8e96-36c317774e4d",
   "metadata": {},
   "outputs": [],
   "source": [
    "# Prepare data\n",
    "data2 = [\n",
    "    (2, 'Michael Raj'),\n",
    "    (3, 'Santhanam'),\n",
    "    (4, 'Rolex'),\n",
    "    (5, 'Leo')\n",
    "]\n",
    "\n",
    "# Creating the columns in the schema\n",
    "schema = [\"id\", \"name\"]\n",
    "\n",
    "# Creating a data frame\n",
    "df2 = spark.createDataFrame(data = data2 , schema = schema)"
   ]
  },
  {
   "cell_type": "code",
   "execution_count": 29,
   "id": "709fdd88-e97f-4575-815f-16e36562f928",
   "metadata": {},
   "outputs": [
    {
     "name": "stdout",
     "output_type": "stream",
     "text": [
      "root\n",
      " |-- id: long (nullable = true)\n",
      " |-- name: string (nullable = true)\n",
      "\n"
     ]
    }
   ],
   "source": [
    "df2.printSchema()"
   ]
  },
  {
   "cell_type": "code",
   "execution_count": 30,
   "id": "a5011fa5-f036-4b0d-a35a-c516e7636d79",
   "metadata": {},
   "outputs": [
    {
     "name": "stdout",
     "output_type": "stream",
     "text": [
      "+---+-----------+\n",
      "| id|       name|\n",
      "+---+-----------+\n",
      "|  2|Michael Raj|\n",
      "+---+-----------+\n",
      "\n"
     ]
    }
   ],
   "source": [
    "# like is used to check if the match is done with the case being sensitive.\n",
    "df2.filter(df2.name.like('M%')).show()"
   ]
  },
  {
   "cell_type": "code",
   "execution_count": 31,
   "id": "df53db65-d11c-4995-b91f-4c43803098c7",
   "metadata": {},
   "outputs": [
    {
     "name": "stdout",
     "output_type": "stream",
     "text": [
      "+---+-----------+\n",
      "| id|       name|\n",
      "+---+-----------+\n",
      "|  2|Michael Raj|\n",
      "|  3|  Santhanam|\n",
      "+---+-----------+\n",
      "\n"
     ]
    }
   ],
   "source": [
    "# ilike is used to check if the match is done with the case being insensitive\n",
    "df2.filter(df2.name.ilike('%m%')).show()"
   ]
  },
  {
   "cell_type": "code",
   "execution_count": 32,
   "id": "e8959fc8-6a48-4310-aa7d-a38c558d63c8",
   "metadata": {},
   "outputs": [
    {
     "name": "stdout",
     "output_type": "stream",
     "text": [
      "+---+-----+\n",
      "| id| name|\n",
      "+---+-----+\n",
      "|  4|Rolex|\n",
      "+---+-----+\n",
      "\n"
     ]
    }
   ],
   "source": [
    "# Using rlike for checking if the Regular Expression is matching\n",
    "df2.filter(df2.name.rlike(\"x$\")).show()"
   ]
  },
  {
   "cell_type": "markdown",
   "id": "66d2fb63-3d28-42f3-bb27-4b15fd5fb7ed",
   "metadata": {
    "jp-MarkdownHeadingCollapsed": true
   },
   "source": [
    "### Filter on array Type Column"
   ]
  },
  {
   "cell_type": "code",
   "execution_count": 33,
   "id": "de079ee4-8c5f-44de-b30f-0c1fea5a542b",
   "metadata": {},
   "outputs": [
    {
     "name": "stdout",
     "output_type": "stream",
     "text": [
      "+----------------+------------------+-----+------+\n",
      "|            name|         languages|state|gender|\n",
      "+----------------+------------------+-----+------+\n",
      "|{James, , Smith}|[Java, Scala, C++]|   OH|     M|\n",
      "|  {Anna, Rose, }|[Spark, Java, C++]|   NY|     F|\n",
      "+----------------+------------------+-----+------+\n",
      "\n"
     ]
    }
   ],
   "source": [
    "# We use array_contains to check for an element in a list\n",
    "from pyspark.sql.functions import array_contains\n",
    "df.filter(array_contains(df.languages, 'C++')).show()\n",
    "\n",
    "# If we want to use check rows with multiple elements in an array, we have to use the array contains twice using AND\n",
    "df.filter(array_contains(df.languages, 'C++') & array_contains(df.languages, 'Java')).show()"
   ]
  }
 ],
 "metadata": {
  "kernelspec": {
   "display_name": "Python 3 (ipykernel)",
   "language": "python",
   "name": "python3"
  },
  "language_info": {
   "codemirror_mode": {
    "name": "ipython",
    "version": 3
   },
   "file_extension": ".py",
   "mimetype": "text/x-python",
   "name": "python",
   "nbconvert_exporter": "python",
   "pygments_lexer": "ipython3",
   "version": "3.11.5"
  }
 },
 "nbformat": 4,
 "nbformat_minor": 5
}
