{
 "cells": [
  {
   "cell_type": "markdown",
   "id": "5d494506-e560-4bc7-9cfe-5fc849f2f2f6",
   "metadata": {
    "jp-MarkdownHeadingCollapsed": true
   },
   "source": [
    "## Setting Environment Variables"
   ]
  },
  {
   "cell_type": "code",
   "execution_count": 1,
   "id": "d0e61346-82a8-4aca-a110-b8729bfd38a0",
   "metadata": {},
   "outputs": [],
   "source": [
    "import os\n",
    "import sys\n",
    "os.environ[\"PYSPARK_PYTHON\"] = sys.executable\n",
    "os.environ[\"PYSPARK_DRIVER_PYTHON\"] = sys.executable"
   ]
  },
  {
   "cell_type": "markdown",
   "id": "9374897a-7b81-4403-9769-37275621a485",
   "metadata": {
    "jp-MarkdownHeadingCollapsed": true
   },
   "source": [
    "## Creating Data Frame"
   ]
  },
  {
   "cell_type": "code",
   "execution_count": 2,
   "id": "42f8379e-5063-481b-b3cc-69e8d85ab7de",
   "metadata": {},
   "outputs": [],
   "source": [
    "from pyspark.sql import SparkSession\n",
    "spark = SparkSession.builder\\\n",
    "        .appName(\"Group By\")\\\n",
    "        .getOrCreate()"
   ]
  },
  {
   "cell_type": "code",
   "execution_count": 3,
   "id": "84feb500-304d-47bb-8800-3533c5f07d33",
   "metadata": {},
   "outputs": [
    {
     "name": "stdout",
     "output_type": "stream",
     "text": [
      "root\n",
      " |-- employee_name: string (nullable = true)\n",
      " |-- department: string (nullable = true)\n",
      " |-- state: string (nullable = true)\n",
      " |-- salary: long (nullable = true)\n",
      " |-- age: long (nullable = true)\n",
      " |-- bonus: long (nullable = true)\n",
      "\n"
     ]
    }
   ],
   "source": [
    "simpleData = [(\"James\",\"Sales\",\"NY\",90000,34,10000),\n",
    "    (\"Michael\",\"Sales\",\"NY\",86000,56,20000),\n",
    "    (\"Robert\",\"Sales\",\"CA\",81000,30,23000),\n",
    "    (\"Maria\",\"Finance\",\"CA\",90000,24,23000),\n",
    "    (\"Raman\",\"Finance\",\"CA\",99000,40,24000),\n",
    "    (\"Scott\",\"Finance\",\"NY\",83000,36,19000),\n",
    "    (\"Jen\",\"Finance\",\"NY\",79000,53,15000),\n",
    "    (\"Jeff\",\"Marketing\",\"CA\",80000,25,18000),\n",
    "    (\"Kumar\",\"Marketing\",\"NY\",91000,50,21000)\n",
    "  ]\n",
    "\n",
    "schema = [\"employee_name\",\"department\",\"state\",\"salary\",\"age\",\"bonus\"]\n",
    "df = spark.createDataFrame(data=simpleData, schema = schema)\n",
    "df.printSchema()"
   ]
  },
  {
   "cell_type": "markdown",
   "id": "eee3319a-96f3-46a5-8809-b21eff88c2c8",
   "metadata": {
    "jp-MarkdownHeadingCollapsed": true
   },
   "source": [
    "## Group By"
   ]
  },
  {
   "cell_type": "markdown",
   "id": "f756c4d8-0b2f-4fd7-8bd4-2fa632a0f107",
   "metadata": {
    "jp-MarkdownHeadingCollapsed": true
   },
   "source": [
    "### With Single Columns"
   ]
  },
  {
   "cell_type": "code",
   "execution_count": 4,
   "id": "4ad113fb-a031-43cb-9dbd-4a1ae6b067e7",
   "metadata": {},
   "outputs": [
    {
     "name": "stdout",
     "output_type": "stream",
     "text": [
      "+----------+-----+\n",
      "|department|count|\n",
      "+----------+-----+\n",
      "|   Finance|    4|\n",
      "|     Sales|    3|\n",
      "| Marketing|    2|\n",
      "+----------+-----+\n",
      "\n"
     ]
    }
   ],
   "source": [
    "df.groupBy(\"department\").count().orderBy(\"count\", ascending = False).show()"
   ]
  },
  {
   "cell_type": "code",
   "execution_count": 5,
   "id": "48debdf4-994b-4290-ae5d-5b1dc11c85b4",
   "metadata": {},
   "outputs": [
    {
     "name": "stdout",
     "output_type": "stream",
     "text": [
      "+----------+------------------+\n",
      "|department|        avg(bonus)|\n",
      "+----------+------------------+\n",
      "|     Sales|17666.666666666668|\n",
      "|   Finance|           20250.0|\n",
      "| Marketing|           19500.0|\n",
      "+----------+------------------+\n",
      "\n"
     ]
    }
   ],
   "source": [
    "from pyspark.sql.functions import col\n",
    "df.groupBy(col(\"department\")).mean(\"bonus\").show()"
   ]
  },
  {
   "cell_type": "code",
   "execution_count": 28,
   "id": "2bdfb5dd-b19b-402f-a64d-04a9b74ba2b9",
   "metadata": {},
   "outputs": [
    {
     "name": "stdout",
     "output_type": "stream",
     "text": [
      "+----------+---------+\n",
      "|department|max_Bonus|\n",
      "+----------+---------+\n",
      "|     Sales|    23000|\n",
      "|   Finance|    24000|\n",
      "| Marketing|    21000|\n",
      "+----------+---------+\n",
      "\n"
     ]
    }
   ],
   "source": [
    "# If we want to pass the alias for the same, we can use select() function\n",
    "# from pyspark.sql.functions import max\n",
    "df.groupBy(\"department\").max(\"bonus\").withColumnRenamed(\"max(bonus)\", \"max_Bonus\").show()"
   ]
  },
  {
   "cell_type": "markdown",
   "id": "2f031f98-ab95-4940-be30-c271428e39ff",
   "metadata": {
    "jp-MarkdownHeadingCollapsed": true
   },
   "source": [
    "### With Multiple columns"
   ]
  },
  {
   "cell_type": "code",
   "execution_count": 7,
   "id": "ef67bd05-2cc3-41bb-af41-e224ce0aa6e8",
   "metadata": {},
   "outputs": [
    {
     "name": "stdout",
     "output_type": "stream",
     "text": [
      "+----------+-----+-----------+----------+\n",
      "|department|state|sum(salary)|sum(bonus)|\n",
      "+----------+-----+-----------+----------+\n",
      "|     Sales|   NY|     176000|     30000|\n",
      "|     Sales|   CA|      81000|     23000|\n",
      "|   Finance|   CA|     189000|     47000|\n",
      "|   Finance|   NY|     162000|     34000|\n",
      "| Marketing|   NY|      91000|     21000|\n",
      "| Marketing|   CA|      80000|     18000|\n",
      "+----------+-----+-----------+----------+\n",
      "\n"
     ]
    }
   ],
   "source": [
    "df.groupBy(\"department\", \"state\").sum(\"salary\", \"bonus\").show()"
   ]
  },
  {
   "cell_type": "code",
   "execution_count": 9,
   "id": "c5a12c8d-2aa5-443d-aa94-21ee9546b39c",
   "metadata": {},
   "outputs": [
    {
     "name": "stdout",
     "output_type": "stream",
     "text": [
      "+-----+----------+----------+-----------+\n",
      "|state|department|sum(bonus)|sum(salary)|\n",
      "+-----+----------+----------+-----------+\n",
      "|   NY|     Sales|     30000|     176000|\n",
      "|   CA|     Sales|     23000|      81000|\n",
      "|   CA|   Finance|     47000|     189000|\n",
      "|   NY|   Finance|     34000|     162000|\n",
      "|   CA| Marketing|     18000|      80000|\n",
      "|   NY| Marketing|     21000|      91000|\n",
      "+-----+----------+----------+-----------+\n",
      "\n"
     ]
    }
   ],
   "source": [
    "df.groupBy(df.state, df.department).sum(\"bonus\", \"salary\").show()"
   ]
  },
  {
   "cell_type": "markdown",
   "id": "d7c8df21-8aa6-4980-9ff3-2edb731963ff",
   "metadata": {
    "jp-MarkdownHeadingCollapsed": true
   },
   "source": [
    "### More Aggregates at same time"
   ]
  },
  {
   "cell_type": "code",
   "execution_count": 12,
   "id": "2c6fd51e-1b3e-4b44-9945-7c7076bbdf79",
   "metadata": {},
   "outputs": [
    {
     "name": "stdout",
     "output_type": "stream",
     "text": [
      "+-----+----------+----------+---------+---------+\n",
      "|state|sum_salary|avg_salary|sum_bonus|max_bonus|\n",
      "+-----+----------+----------+---------+---------+\n",
      "|   NY|    429000|   85800.0|    85000|    21000|\n",
      "|   CA|    350000|   87500.0|    88000|    24000|\n",
      "+-----+----------+----------+---------+---------+\n",
      "\n"
     ]
    }
   ],
   "source": [
    "from pyspark.sql.functions import avg, sum, max\n",
    "df.groupBy(\"state\")\\\n",
    "    .agg(\n",
    "        sum(\"salary\").alias(\"sum_salary\"),\\\n",
    "        avg(\"salary\").alias(\"avg_salary\"),\\\n",
    "        sum(\"bonus\").alias(\"sum_bonus\"),\\\n",
    "        max(\"bonus\").alias(\"max_bonus\")\n",
    "    )\\\n",
    "    .show()"
   ]
  },
  {
   "cell_type": "markdown",
   "id": "cd3fb08c-0cda-4403-a61d-0cf1a84a5160",
   "metadata": {
    "jp-MarkdownHeadingCollapsed": true
   },
   "source": [
    "### Using Filter over the aggregate data"
   ]
  },
  {
   "cell_type": "code",
   "execution_count": 37,
   "id": "aad88031-cde2-4187-be13-5359d47976d4",
   "metadata": {},
   "outputs": [
    {
     "name": "stdout",
     "output_type": "stream",
     "text": [
      "+----------+----------+-----------------+---------+------------------+\n",
      "|department|sum_salary|       avg_salary|sum_bonus|         avg_bonus|\n",
      "+----------+----------+-----------------+---------+------------------+\n",
      "|     Sales|    257000|85666.66666666667|    53000|17666.666666666668|\n",
      "| Marketing|    171000|          85500.0|    39000|           19500.0|\n",
      "+----------+----------+-----------------+---------+------------------+\n",
      "\n"
     ]
    }
   ],
   "source": [
    "df.groupBy(\"department\")\\\n",
    "    .agg(\n",
    "        sum(\"salary\").alias(\"sum_salary\"),\\\n",
    "        avg(\"salary\").alias(\"avg_salary\"),\\\n",
    "        sum(\"bonus\").alias(\"sum_bonus\"),\\\n",
    "        avg(\"bonus\").alias(\"avg_bonus\")\n",
    "    )\\\n",
    "    .filter(col(\"sum_salary\")<=300000)\\\n",
    "    .show()"
   ]
  }
 ],
 "metadata": {
  "kernelspec": {
   "display_name": "Python 3 (ipykernel)",
   "language": "python",
   "name": "python3"
  },
  "language_info": {
   "codemirror_mode": {
    "name": "ipython",
    "version": 3
   },
   "file_extension": ".py",
   "mimetype": "text/x-python",
   "name": "python",
   "nbconvert_exporter": "python",
   "pygments_lexer": "ipython3",
   "version": "3.11.5"
  }
 },
 "nbformat": 4,
 "nbformat_minor": 5
}
