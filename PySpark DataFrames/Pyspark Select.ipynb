{
 "cells": [
  {
   "cell_type": "code",
   "execution_count": 1,
   "id": "cedd3596-9a29-4c8b-86f8-e00e23a17ae5",
   "metadata": {},
   "outputs": [],
   "source": [
    "from pyspark.sql import SparkSession"
   ]
  },
  {
   "cell_type": "code",
   "execution_count": 2,
   "id": "5f65dbdc-0c0d-4486-b840-cb08464fc2a9",
   "metadata": {},
   "outputs": [],
   "source": [
    "import os\n",
    "import sys\n",
    "\n",
    "os.environ['PYSPARK_PYTHON'] = sys.executable\n",
    "os.environ['PYSPARK_DRIVER_PYTHON'] = sys.executable"
   ]
  },
  {
   "cell_type": "code",
   "execution_count": 3,
   "id": "b67bf5ac-d420-4e7b-abcd-597a8bf9440f",
   "metadata": {},
   "outputs": [],
   "source": [
    "spark = SparkSession.builder\\\n",
    "        .appName(\"Spark Session\")\\\n",
    "        .getOrCreate()"
   ]
  },
  {
   "cell_type": "code",
   "execution_count": 4,
   "id": "a0fcf4c2-4278-43bd-96a1-db9656e96dd6",
   "metadata": {},
   "outputs": [],
   "source": [
    "# Create some data\n",
    "data = [(\"James\",\"Smith\",\"USA\",\"CA\"),\n",
    "    (\"Michael\",\"Rose\",\"USA\",\"NY\"),\n",
    "    (\"Robert\",\"Williams\",\"USA\",\"CA\"),\n",
    "    (\"Maria\",\"Jones\",\"USA\",\"FL\")\n",
    "  ]\n",
    "\n",
    "# Create Columns names list\n",
    "columns = [\"firstname\",\"lastname\",\"country\",\"state\"]\n",
    "\n",
    "# Create a DataFrame with the Data\n",
    "df = spark.createDataFrame(data = data, schema = columns)"
   ]
  },
  {
   "cell_type": "code",
   "execution_count": 5,
   "id": "1c15077f-7690-4283-a94d-22a81bd6a8cb",
   "metadata": {},
   "outputs": [
    {
     "name": "stdout",
     "output_type": "stream",
     "text": [
      "+---------+--------+-------+-----+\n",
      "|firstname|lastname|country|state|\n",
      "+---------+--------+-------+-----+\n",
      "|James    |Smith   |USA    |CA   |\n",
      "|Michael  |Rose    |USA    |NY   |\n",
      "|Robert   |Williams|USA    |CA   |\n",
      "|Maria    |Jones   |USA    |FL   |\n",
      "+---------+--------+-------+-----+\n",
      "\n"
     ]
    }
   ],
   "source": [
    "df.show(truncate=False)"
   ]
  },
  {
   "cell_type": "markdown",
   "id": "70e77342-9a08-4d67-967a-0df0c75b1f3d",
   "metadata": {
    "jp-MarkdownHeadingCollapsed": true
   },
   "source": [
    "## Selecting Single and multiple columns"
   ]
  },
  {
   "cell_type": "code",
   "execution_count": 6,
   "id": "10aca23d-2933-42d3-bb96-afab0d25df0d",
   "metadata": {},
   "outputs": [
    {
     "name": "stdout",
     "output_type": "stream",
     "text": [
      "+---------+\n",
      "|firstname|\n",
      "+---------+\n",
      "|    James|\n",
      "|  Michael|\n",
      "|   Robert|\n",
      "|    Maria|\n",
      "+---------+\n",
      "\n"
     ]
    }
   ],
   "source": [
    "# Selecting a single column\n",
    "df.select(\"firstname\").show()"
   ]
  },
  {
   "cell_type": "code",
   "execution_count": 7,
   "id": "738b66d3-6d54-4d53-b269-91f2c391aa69",
   "metadata": {},
   "outputs": [
    {
     "name": "stdout",
     "output_type": "stream",
     "text": [
      "+---------+-------+\n",
      "|firstname|country|\n",
      "+---------+-------+\n",
      "|    James|    USA|\n",
      "|  Michael|    USA|\n",
      "|   Robert|    USA|\n",
      "|    Maria|    USA|\n",
      "+---------+-------+\n",
      "\n"
     ]
    }
   ],
   "source": [
    "# Accessing with dataframe.column\n",
    "df.select(df.firstname, df.country).show()"
   ]
  },
  {
   "cell_type": "code",
   "execution_count": 8,
   "id": "67549c42-9db1-4229-9059-4b17f7ffd2d5",
   "metadata": {},
   "outputs": [
    {
     "name": "stdout",
     "output_type": "stream",
     "text": [
      "+--------+-----+\n",
      "|lastname|state|\n",
      "+--------+-----+\n",
      "|   Smith|   CA|\n",
      "|    Rose|   NY|\n",
      "|Williams|   CA|\n",
      "|   Jones|   FL|\n",
      "+--------+-----+\n",
      "\n"
     ]
    }
   ],
   "source": [
    "from pyspark.sql.functions import col\n",
    "\n",
    "# Using Col function from the Pyspark.sql.functions\n",
    "df.select(col(\"lastname\"), col(\"state\")).show()"
   ]
  },
  {
   "cell_type": "markdown",
   "id": "6aa0917d-adfc-4dcc-b283-9ed922a80a07",
   "metadata": {
    "jp-MarkdownHeadingCollapsed": true
   },
   "source": [
    "## Selecting all columns"
   ]
  },
  {
   "cell_type": "code",
   "execution_count": 9,
   "id": "0f180b47-5e49-40e1-accf-886e7e182f15",
   "metadata": {},
   "outputs": [
    {
     "name": "stdout",
     "output_type": "stream",
     "text": [
      "+---------+--------+-------+-----+\n",
      "|firstname|lastname|country|state|\n",
      "+---------+--------+-------+-----+\n",
      "|    James|   Smith|    USA|   CA|\n",
      "|  Michael|    Rose|    USA|   NY|\n",
      "|   Robert|Williams|    USA|   CA|\n",
      "|    Maria|   Jones|    USA|   FL|\n",
      "+---------+--------+-------+-----+\n",
      "\n"
     ]
    }
   ],
   "source": [
    "# Select all columns\n",
    "df.select(df.columns).show()"
   ]
  },
  {
   "cell_type": "code",
   "execution_count": 10,
   "id": "46d1798d-914d-4e6a-b333-c319467ebebd",
   "metadata": {},
   "outputs": [
    {
     "name": "stdout",
     "output_type": "stream",
     "text": [
      "+---------+--------+-------+-----+\n",
      "|firstname|lastname|country|state|\n",
      "+---------+--------+-------+-----+\n",
      "|    James|   Smith|    USA|   CA|\n",
      "|  Michael|    Rose|    USA|   NY|\n",
      "|   Robert|Williams|    USA|   CA|\n",
      "|    Maria|   Jones|    USA|   FL|\n",
      "+---------+--------+-------+-----+\n",
      "\n"
     ]
    }
   ],
   "source": [
    "# Using * for retrieving columns.\n",
    "df.select(\"*\").show()"
   ]
  },
  {
   "cell_type": "code",
   "execution_count": 11,
   "id": "e446983d-749b-410a-85ba-e6033459cefd",
   "metadata": {},
   "outputs": [
    {
     "name": "stdout",
     "output_type": "stream",
     "text": [
      "+---------+--------+-------+-----+\n",
      "|firstname|lastname|country|state|\n",
      "+---------+--------+-------+-----+\n",
      "|    James|   Smith|    USA|   CA|\n",
      "|  Michael|    Rose|    USA|   NY|\n",
      "|   Robert|Williams|    USA|   CA|\n",
      "|    Maria|   Jones|    USA|   FL|\n",
      "+---------+--------+-------+-----+\n",
      "\n"
     ]
    }
   ],
   "source": [
    "# Using the list for loop\n",
    "df.select([i for i in df.columns]).show()"
   ]
  },
  {
   "cell_type": "markdown",
   "id": "e92d114b-5994-4239-bb7d-c32684a08a67",
   "metadata": {
    "jp-MarkdownHeadingCollapsed": true
   },
   "source": [
    "## Selecting columns by index"
   ]
  },
  {
   "cell_type": "code",
   "execution_count": 12,
   "id": "d05109f6-a7ec-4849-82be-3b2b381185bc",
   "metadata": {},
   "outputs": [
    {
     "name": "stdout",
     "output_type": "stream",
     "text": [
      "+--------+-------+\n",
      "|lastname|country|\n",
      "+--------+-------+\n",
      "|   Smith|    USA|\n",
      "|    Rose|    USA|\n",
      "|Williams|    USA|\n",
      "+--------+-------+\n",
      "only showing top 3 rows\n",
      "\n"
     ]
    }
   ],
   "source": [
    "# Using striding and slicing\n",
    "df.select(df.columns[1:3]).show(3)"
   ]
  },
  {
   "cell_type": "markdown",
   "id": "d0b8408f-f8f8-44ad-8a25-df62dc386efc",
   "metadata": {
    "jp-MarkdownHeadingCollapsed": true
   },
   "source": [
    "## Selecting columns from nested list"
   ]
  },
  {
   "cell_type": "code",
   "execution_count": 13,
   "id": "af6e4026-b45f-44eb-907b-15f0f28697c6",
   "metadata": {},
   "outputs": [
    {
     "name": "stdout",
     "output_type": "stream",
     "text": [
      "root\n",
      " |-- name: struct (nullable = true)\n",
      " |    |-- firstname: string (nullable = true)\n",
      " |    |-- middlename: string (nullable = true)\n",
      " |    |-- lastname: string (nullable = true)\n",
      " |-- state: string (nullable = true)\n",
      " |-- gender: string (nullable = true)\n",
      "\n"
     ]
    }
   ],
   "source": [
    "from pyspark.sql.types import StructType, StructField, StringType\n",
    "df = data = [\n",
    "        ((\"James\",None,\"Smith\"),\"OH\",\"M\"),\n",
    "        ((\"Anna\",\"Rose\",\"\"),\"NY\",\"F\"),\n",
    "        ((\"Julia\",\"\",\"Williams\"),\"OH\",\"F\"),\n",
    "        ((\"Maria\",\"Anne\",\"Jones\"),\"NY\",\"M\"),\n",
    "        ((\"Jen\",\"Mary\",\"Brown\"),\"NY\",\"M\"),\n",
    "        ((\"Mike\",\"Mary\",\"Williams\"),\"OH\",\"M\")\n",
    "        ]\n",
    "\n",
    "schema = StructType([\n",
    "    StructField('name', StructType([\n",
    "         StructField('firstname', StringType(), True),\n",
    "         StructField('middlename', StringType(), True),\n",
    "         StructField('lastname', StringType(), True)\n",
    "         ])),\n",
    "     StructField('state', StringType(), True),\n",
    "     StructField('gender', StringType(), True)\n",
    "     ])\n",
    "\n",
    "df2 = spark.createDataFrame(data = data, schema = schema)\n",
    "\n",
    "df2.printSchema()"
   ]
  },
  {
   "cell_type": "code",
   "execution_count": 18,
   "id": "a6094f16-c5c9-4122-856e-d5e3cf7338cc",
   "metadata": {},
   "outputs": [
    {
     "name": "stdout",
     "output_type": "stream",
     "text": [
      "+---------+\n",
      "|firstname|\n",
      "+---------+\n",
      "|    James|\n",
      "|     Anna|\n",
      "|    Julia|\n",
      "|    Maria|\n",
      "|      Jen|\n",
      "|     Mike|\n",
      "+---------+\n",
      "\n"
     ]
    }
   ],
   "source": [
    "# Display the individual column from the nested list\n",
    "df2.select(\"name.firstname\").show()"
   ]
  },
  {
   "cell_type": "code",
   "execution_count": 17,
   "id": "85695727-3d13-41de-9e07-66b767cb6b9f",
   "metadata": {},
   "outputs": [
    {
     "name": "stdout",
     "output_type": "stream",
     "text": [
      "+---------+----------+--------+\n",
      "|firstname|middlename|lastname|\n",
      "+---------+----------+--------+\n",
      "|James    |null      |Smith   |\n",
      "|Anna     |Rose      |        |\n",
      "|Julia    |          |Williams|\n",
      "|Maria    |Anne      |Jones   |\n",
      "|Jen      |Mary      |Brown   |\n",
      "|Mike     |Mary      |Williams|\n",
      "+---------+----------+--------+\n",
      "\n"
     ]
    }
   ],
   "source": [
    "# Display all the nested columns\n",
    "df2.select(\"name.*\").show(truncate = False)"
   ]
  },
  {
   "cell_type": "code",
   "execution_count": null,
   "id": "b42f9ff8-1a85-4fa9-90a3-c1bedaa9aa55",
   "metadata": {},
   "outputs": [],
   "source": []
  }
 ],
 "metadata": {
  "kernelspec": {
   "display_name": "Python 3 (ipykernel)",
   "language": "python",
   "name": "python3"
  },
  "language_info": {
   "codemirror_mode": {
    "name": "ipython",
    "version": 3
   },
   "file_extension": ".py",
   "mimetype": "text/x-python",
   "name": "python",
   "nbconvert_exporter": "python",
   "pygments_lexer": "ipython3",
   "version": "3.11.5"
  }
 },
 "nbformat": 4,
 "nbformat_minor": 5
}
