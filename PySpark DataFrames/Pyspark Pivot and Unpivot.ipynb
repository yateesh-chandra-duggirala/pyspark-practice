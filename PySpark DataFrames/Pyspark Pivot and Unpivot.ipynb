{
 "cells": [
  {
   "cell_type": "markdown",
   "id": "c6d4a0d6-f3c8-42f0-a6e3-71281d19ec93",
   "metadata": {
    "jp-MarkdownHeadingCollapsed": true
   },
   "source": [
    "## Setting Environment"
   ]
  },
  {
   "cell_type": "code",
   "execution_count": 1,
   "id": "3c350a14-7095-4f38-9aaa-dfb9c18d2790",
   "metadata": {},
   "outputs": [],
   "source": [
    "import os\n",
    "import sys\n",
    "os.environ[\"PYSPARK_PYTHON\"] = sys.executable\n",
    "os.environ[\"PYSPARK_DRIVER_PYTHON\"] = sys.executable"
   ]
  },
  {
   "cell_type": "markdown",
   "id": "e9ac0591-9fc0-4dfa-9680-cbb19f6762ea",
   "metadata": {
    "jp-MarkdownHeadingCollapsed": true
   },
   "source": [
    "## Creating DataFrame"
   ]
  },
  {
   "cell_type": "code",
   "execution_count": 2,
   "id": "e5ad49e0-888f-4316-b3e2-382b5e3f831b",
   "metadata": {},
   "outputs": [],
   "source": [
    "from pyspark.sql import SparkSession\n",
    "spark = SparkSession.builder\\\n",
    "        .appName(\"Pivot\")\\\n",
    "        .getOrCreate()"
   ]
  },
  {
   "cell_type": "code",
   "execution_count": 3,
   "id": "0baa7ac6-016d-4ec6-90b9-d6190c68a4e2",
   "metadata": {},
   "outputs": [
    {
     "name": "stdout",
     "output_type": "stream",
     "text": [
      "root\n",
      " |-- Product: string (nullable = true)\n",
      " |-- Amount: long (nullable = true)\n",
      " |-- Country: string (nullable = true)\n",
      "\n"
     ]
    }
   ],
   "source": [
    "data = [(\"Banana\",1000,\"USA\"), (\"Carrots\",1500,\"USA\"), (\"Beans\",1600,\"USA\"), \\\n",
    "      (\"Orange\",2000,\"USA\"),(\"Orange\",2000,\"USA\"),(\"Banana\",400,\"China\"), \\\n",
    "      (\"Carrots\",1200,\"China\"),(\"Beans\",1500,\"China\"),(\"Orange\",4000,\"China\"), \\\n",
    "      (\"Banana\",2000,\"Canada\"),(\"Carrots\",2000,\"Canada\"),(\"Beans\",2000,\"Mexico\")]\n",
    "\n",
    "columns= [\"Product\",\"Amount\",\"Country\"]\n",
    "df = spark.createDataFrame(data = data, schema = columns)\n",
    "df.printSchema()"
   ]
  },
  {
   "cell_type": "code",
   "execution_count": 4,
   "id": "f684f5dc-df9a-48f3-a7d0-18d3a94255d8",
   "metadata": {},
   "outputs": [
    {
     "name": "stdout",
     "output_type": "stream",
     "text": [
      "+-------+------+-------+\n",
      "|Product|Amount|Country|\n",
      "+-------+------+-------+\n",
      "| Banana|  1000|    USA|\n",
      "|Carrots|  1500|    USA|\n",
      "|  Beans|  1600|    USA|\n",
      "| Orange|  2000|    USA|\n",
      "| Orange|  2000|    USA|\n",
      "| Banana|   400|  China|\n",
      "|Carrots|  1200|  China|\n",
      "|  Beans|  1500|  China|\n",
      "| Orange|  4000|  China|\n",
      "| Banana|  2000| Canada|\n",
      "|Carrots|  2000| Canada|\n",
      "|  Beans|  2000| Mexico|\n",
      "+-------+------+-------+\n",
      "\n"
     ]
    }
   ],
   "source": [
    "df.show()"
   ]
  },
  {
   "cell_type": "markdown",
   "id": "d77ad86e-2748-44c4-aa7e-58c1ac82eb09",
   "metadata": {
    "jp-MarkdownHeadingCollapsed": true
   },
   "source": [
    "## Pivot DataFrame"
   ]
  },
  {
   "cell_type": "code",
   "execution_count": 5,
   "id": "221ca434-547e-472e-83cc-ecbd0a84c155",
   "metadata": {},
   "outputs": [],
   "source": [
    "pivotDf = df.groupBy(\"Product\")\\\n",
    "            .pivot(\"Country\")\\\n",
    "            .sum(\"Amount\")"
   ]
  },
  {
   "cell_type": "code",
   "execution_count": 10,
   "id": "2b1d05b7-7e0a-4898-92ba-d8ebffb0f78c",
   "metadata": {},
   "outputs": [
    {
     "name": "stdout",
     "output_type": "stream",
     "text": [
      "+-------+------+-----+------+----+\n",
      "|Product|Canada|China|Mexico| USA|\n",
      "+-------+------+-----+------+----+\n",
      "| Orange|  null| 4000|  null|4000|\n",
      "|  Beans|  null| 1500|  2000|1600|\n",
      "| Banana|  2000|  400|  null|1000|\n",
      "|Carrots|  2000| 1200|  null|1500|\n",
      "+-------+------+-----+------+----+\n",
      "\n"
     ]
    }
   ],
   "source": [
    "pivotDf.show()"
   ]
  },
  {
   "cell_type": "code",
   "execution_count": 9,
   "id": "b6348d9d-b812-423e-8de2-2b62508d0b4e",
   "metadata": {},
   "outputs": [],
   "source": [
    "pivotDF = df.groupBy(\"Country\")\\\n",
    "            .pivot(\"Product\")\\\n",
    "            .sum(\"Amount\")\n",
    "\n",
    "# The column in the groupBy is created as the first column with its rows as values\n",
    "# The Pivot column is spread as the columns and\n",
    "# Sum is the aggregate value of each column and corresponding rows"
   ]
  },
  {
   "cell_type": "code",
   "execution_count": 8,
   "id": "c2dc5827-bfc8-4ace-b90d-88879810ff92",
   "metadata": {},
   "outputs": [
    {
     "name": "stdout",
     "output_type": "stream",
     "text": [
      "+-------+------+-----+-------+------+\n",
      "|Country|Banana|Beans|Carrots|Orange|\n",
      "+-------+------+-----+-------+------+\n",
      "|  China|   400| 1500|   1200|  4000|\n",
      "|    USA|  1000| 1600|   1500|  4000|\n",
      "| Mexico|  null| 2000|   null|  null|\n",
      "| Canada|  2000| null|   2000|  null|\n",
      "+-------+------+-----+-------+------+\n",
      "\n"
     ]
    }
   ],
   "source": [
    "pivotDF.show()"
   ]
  },
  {
   "cell_type": "code",
   "execution_count": 12,
   "id": "1d3e4a6a-691f-4f81-82dd-1015072e87c9",
   "metadata": {},
   "outputs": [
    {
     "name": "stdout",
     "output_type": "stream",
     "text": [
      "+-------+----+-----+------+------+\n",
      "|Product| USA|China|Mexico|Canada|\n",
      "+-------+----+-----+------+------+\n",
      "| Orange|4000| 4000|  null|  null|\n",
      "|  Beans|1600| 1500|  2000|  null|\n",
      "| Banana|1000|  400|  null|  2000|\n",
      "|Carrots|1500| 1200|  null|  2000|\n",
      "+-------+----+-----+------+------+\n",
      "\n"
     ]
    }
   ],
   "source": [
    "# We can choose the list order to print accordingly as columns.\n",
    "countries = [\"USA\", \"China\", \"Mexico\", \"Canada\"]\n",
    "pivotDF1 = df.groupBy(\"Product\")\\\n",
    "            .pivot(\"Country\", countries)\\\n",
    "            .sum(\"Amount\")\n",
    "pivotDF1.show()"
   ]
  },
  {
   "cell_type": "code",
   "execution_count": 14,
   "id": "7c7fab89-bd60-4ee1-b279-a42c32458637",
   "metadata": {},
   "outputs": [
    {
     "name": "stdout",
     "output_type": "stream",
     "text": [
      "+-------+------+-----+------+----+\n",
      "|Product|Canada|China|Mexico|USA |\n",
      "+-------+------+-----+------+----+\n",
      "|Orange |null  |4000 |null  |4000|\n",
      "|Beans  |null  |1500 |2000  |1600|\n",
      "|Banana |2000  |400  |null  |1000|\n",
      "|Carrots|2000  |1200 |null  |1500|\n",
      "+-------+------+-----+------+----+\n",
      "\n"
     ]
    }
   ],
   "source": [
    "pivotDF = df.groupBy(\"Product\",\"Country\") \\\n",
    "      .sum(\"Amount\") \\\n",
    "      .groupBy(\"Product\") \\\n",
    "      .pivot(\"Country\") \\\n",
    "      .sum(\"sum(Amount)\") \n",
    "pivotDF.show(truncate=False)"
   ]
  },
  {
   "cell_type": "markdown",
   "id": "f3732da3-1140-4374-a7fc-5971c89361e6",
   "metadata": {
    "jp-MarkdownHeadingCollapsed": true
   },
   "source": [
    "## Unpivot DataFrame"
   ]
  },
  {
   "cell_type": "code",
   "execution_count": 21,
   "id": "222f1180-ead8-40b6-aa6c-1a11279e3eb7",
   "metadata": {},
   "outputs": [
    {
     "name": "stdout",
     "output_type": "stream",
     "text": [
      "+-------+-------+-----+\n",
      "|Product|Country|Total|\n",
      "+-------+-------+-----+\n",
      "| Orange|   Cana| null|\n",
      "| Orange| Mexico| null|\n",
      "|  Beans|   Cana| null|\n",
      "|  Beans| Mexico| 2000|\n",
      "| Banana|   Cana| 2000|\n",
      "| Banana| Mexico| null|\n",
      "|Carrots|   Cana| 2000|\n",
      "|Carrots| Mexico| null|\n",
      "+-------+-------+-----+\n",
      "\n"
     ]
    }
   ],
   "source": [
    "from pyspark.sql.functions import expr\n",
    "unpivotExpr = \"stack(2, 'Cana', Canada, 'Mexico', Mexico) as (Country, Total)\"\n",
    "unpivotDF = pivotDF.select(\"Product\", expr(unpivotExpr))\n",
    "unpivotDF.show()"
   ]
  },
  {
   "cell_type": "code",
   "execution_count": 22,
   "id": "0c798118-ba7a-4039-a553-dac1f4c92f57",
   "metadata": {},
   "outputs": [
    {
     "name": "stdout",
     "output_type": "stream",
     "text": [
      "+-------+-------+-----+\n",
      "|Product|Country|Total|\n",
      "+-------+-------+-----+\n",
      "|  Beans| Mexico| 2000|\n",
      "| Banana|   Cana| 2000|\n",
      "|Carrots|   Cana| 2000|\n",
      "+-------+-------+-----+\n",
      "\n"
     ]
    }
   ],
   "source": [
    "#Printing Only not null values\n",
    "from pyspark.sql.functions import expr\n",
    "unpivotExpr = \"stack(2, 'Cana', Canada, 'Mexico', Mexico) as (Country, Total)\"\n",
    "unpivotDF = pivotDF.select(\"Product\", expr(unpivotExpr)).where(\"Total is not Null\")\n",
    "unpivotDF.show()"
   ]
  }
 ],
 "metadata": {
  "kernelspec": {
   "display_name": "Python 3 (ipykernel)",
   "language": "python",
   "name": "python3"
  },
  "language_info": {
   "codemirror_mode": {
    "name": "ipython",
    "version": 3
   },
   "file_extension": ".py",
   "mimetype": "text/x-python",
   "name": "python",
   "nbconvert_exporter": "python",
   "pygments_lexer": "ipython3",
   "version": "3.11.5"
  }
 },
 "nbformat": 4,
 "nbformat_minor": 5
}
