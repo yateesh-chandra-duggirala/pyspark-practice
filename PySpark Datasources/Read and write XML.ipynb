{
 "cells": [
  {
   "cell_type": "markdown",
   "metadata": {
    "application/vnd.databricks.v1+cell": {
     "cellMetadata": {
      "byteLimit": 2048000,
      "rowLimit": 10000
     },
     "inputWidgets": {},
     "nuid": "f017129b-060b-4168-b4d3-7a872e89427d",
     "showTitle": false,
     "title": ""
    }
   },
   "source": [
    "# Loading XML into Spark"
   ]
  },
  {
   "cell_type": "code",
   "execution_count": 0,
   "metadata": {
    "application/vnd.databricks.v1+cell": {
     "cellMetadata": {
      "byteLimit": 2048000,
      "rowLimit": 10000
     },
     "inputWidgets": {},
     "nuid": "5d7a7a70-2623-4c1a-91fe-53af856fe801",
     "showTitle": false,
     "title": ""
    }
   },
   "outputs": [
    {
     "output_type": "display_data",
     "data": {
      "text/html": [
       "<style scoped>\n",
       "  .ansiout {\n",
       "    display: block;\n",
       "    unicode-bidi: embed;\n",
       "    white-space: pre-wrap;\n",
       "    word-wrap: break-word;\n",
       "    word-break: break-all;\n",
       "    font-family: \"Menlo\", \"Monaco\", \"Consolas\", \"Ubuntu Mono\", \"Source Code Pro\", monospace;\n",
       "    font-size: 13px;\n",
       "    color: #555;\n",
       "    margin-left: 4px;\n",
       "    line-height: 19px;\n",
       "  }\n",
       "</style>\n",
       "<div class=\"ansiout\">&lt;?xml version=&quot;1.0&quot; encoding=&quot;UTF-8&quot;?&gt;\r\n",
       "  &lt;employees&gt;\r\n",
       "    &lt;employee&gt;\r\n",
       "      &lt;id&gt;1&lt;/id&gt;\r\n",
       "      &lt;name&gt;John Doe&lt;/name&gt;\r\n",
       "      &lt;position&gt;Software Engineer&lt;/position&gt;\r\n",
       "      &lt;department&gt;Engineering&lt;/department&gt;\r\n",
       "    &lt;/employee&gt;\r\n",
       "\r\n",
       "    &lt;employee&gt;\r\n",
       "      &lt;id&gt;2&lt;/id&gt;\r\n",
       "      &lt;name&gt;Steven Broad&lt;/name&gt;\r\n",
       "      &lt;position&gt;IT Engineer&lt;/position&gt;\r\n",
       "      &lt;department&gt;Engineering&lt;/department&gt;\r\n",
       "    &lt;/employee&gt;\r\n",
       "\r\n",
       "    &lt;employee&gt;\r\n",
       "      &lt;id&gt;3&lt;/id&gt;\r\n",
       "      &lt;name&gt;Jane Warner&lt;/name&gt;\r\n",
       "      &lt;position&gt;Software Engineer&lt;/position&gt;\r\n",
       "      &lt;department&gt;Engineering&lt;/department&gt;\r\n",
       "    &lt;/employee&gt;\r\n",
       "\r\n",
       "    &lt;employee&gt;\r\n",
       "      &lt;id&gt;4&lt;/id&gt;\r\n",
       "      &lt;name&gt;Ben Doe&lt;/name&gt;\r\n",
       "      &lt;position&gt;Software Engineer&lt;/position&gt;\r\n",
       "      &lt;department&gt;Engineering&lt;/department&gt;\r\n",
       "    &lt;/employee&gt;\r\n",
       "\r\n",
       "    &lt;employee&gt;\r\n",
       "      &lt;id&gt;5&lt;/id&gt;\r\n",
       "      &lt;name&gt;John Smith&lt;/name&gt;\r\n",
       "      &lt;position&gt;IT Engineer&lt;/position&gt;\r\n",
       "      &lt;department&gt;Engineering&lt;/department&gt;\r\n",
       "    &lt;/employee&gt;\r\n",
       "\r\n",
       "    &lt;employee&gt;\r\n",
       "      &lt;id&gt;6&lt;/id&gt;\r\n",
       "      &lt;name&gt;Ben Marsh&lt;/name&gt;\r\n",
       "      &lt;position&gt;Software Engineer&lt;/position&gt;\r\n",
       "      &lt;department&gt;Engineering&lt;/department&gt;\r\n",
       "    &lt;/employee&gt;\r\n",
       "\r\n",
       "    &lt;employee&gt;\r\n",
       "      &lt;id&gt;7&lt;/id&gt;\r\n",
       "      &lt;name&gt;Jonahan&lt;/name&gt;\r\n",
       "      &lt;position&gt;Software Engineer&lt;/position&gt;\r\n",
       "      &lt;department&gt;Engineering&lt;/department&gt;\r\n",
       "    &lt;/employee&gt;\r\n",
       "\r\n",
       "    &lt;employee&gt;\r\n",
       "      &lt;id&gt;8&lt;/id&gt;\r\n",
       "      &lt;name&gt;John Doe&lt;/name&gt;\r\n",
       "      &lt;position&gt;Software Engineer&lt;/position&gt;\r\n",
       "      &lt;department&gt;Engineering&lt;/department&gt;\r\n",
       "    &lt;/employee&gt;\r\n",
       "  &lt;/employees&gt;\r\n",
       "  \r\n",
       "  \n",
       "</div>"
      ]
     },
     "metadata": {
      "application/vnd.databricks.v1+output": {
       "addedWidgets": {},
       "arguments": {},
       "data": "<div class=\"ansiout\">&lt;?xml version=&quot;1.0&quot; encoding=&quot;UTF-8&quot;?&gt;\r\n  &lt;employees&gt;\r\n    &lt;employee&gt;\r\n      &lt;id&gt;1&lt;/id&gt;\r\n      &lt;name&gt;John Doe&lt;/name&gt;\r\n      &lt;position&gt;Software Engineer&lt;/position&gt;\r\n      &lt;department&gt;Engineering&lt;/department&gt;\r\n    &lt;/employee&gt;\r\n\r\n    &lt;employee&gt;\r\n      &lt;id&gt;2&lt;/id&gt;\r\n      &lt;name&gt;Steven Broad&lt;/name&gt;\r\n      &lt;position&gt;IT Engineer&lt;/position&gt;\r\n      &lt;department&gt;Engineering&lt;/department&gt;\r\n    &lt;/employee&gt;\r\n\r\n    &lt;employee&gt;\r\n      &lt;id&gt;3&lt;/id&gt;\r\n      &lt;name&gt;Jane Warner&lt;/name&gt;\r\n      &lt;position&gt;Software Engineer&lt;/position&gt;\r\n      &lt;department&gt;Engineering&lt;/department&gt;\r\n    &lt;/employee&gt;\r\n\r\n    &lt;employee&gt;\r\n      &lt;id&gt;4&lt;/id&gt;\r\n      &lt;name&gt;Ben Doe&lt;/name&gt;\r\n      &lt;position&gt;Software Engineer&lt;/position&gt;\r\n      &lt;department&gt;Engineering&lt;/department&gt;\r\n    &lt;/employee&gt;\r\n\r\n    &lt;employee&gt;\r\n      &lt;id&gt;5&lt;/id&gt;\r\n      &lt;name&gt;John Smith&lt;/name&gt;\r\n      &lt;position&gt;IT Engineer&lt;/position&gt;\r\n      &lt;department&gt;Engineering&lt;/department&gt;\r\n    &lt;/employee&gt;\r\n\r\n    &lt;employee&gt;\r\n      &lt;id&gt;6&lt;/id&gt;\r\n      &lt;name&gt;Ben Marsh&lt;/name&gt;\r\n      &lt;position&gt;Software Engineer&lt;/position&gt;\r\n      &lt;department&gt;Engineering&lt;/department&gt;\r\n    &lt;/employee&gt;\r\n\r\n    &lt;employee&gt;\r\n      &lt;id&gt;7&lt;/id&gt;\r\n      &lt;name&gt;Jonahan&lt;/name&gt;\r\n      &lt;position&gt;Software Engineer&lt;/position&gt;\r\n      &lt;department&gt;Engineering&lt;/department&gt;\r\n    &lt;/employee&gt;\r\n\r\n    &lt;employee&gt;\r\n      &lt;id&gt;8&lt;/id&gt;\r\n      &lt;name&gt;John Doe&lt;/name&gt;\r\n      &lt;position&gt;Software Engineer&lt;/position&gt;\r\n      &lt;department&gt;Engineering&lt;/department&gt;\r\n    &lt;/employee&gt;\r\n  &lt;/employees&gt;\r\n  \r\n  \n</div>",
       "datasetInfos": [],
       "metadata": {
        "isDbfsCommandResult": false
       },
       "removedWidgets": [],
       "type": "html"
      }
     },
     "output_type": "display_data"
    }
   ],
   "source": [
    "%fs head dbfs:/FileStore/shared_uploads/yateed1437@gmail.com/employee.xml"
   ]
  },
  {
   "cell_type": "code",
   "execution_count": 0,
   "metadata": {
    "application/vnd.databricks.v1+cell": {
     "cellMetadata": {
      "byteLimit": 2048000,
      "rowLimit": 10000
     },
     "inputWidgets": {},
     "nuid": "d010da6f-7ade-441c-8754-6852a831b87f",
     "showTitle": false,
     "title": ""
    }
   },
   "outputs": [
    {
     "output_type": "display_data",
     "data": {
      "text/html": [
       "<style scoped>\n",
       "  .table-result-container {\n",
       "    max-height: 300px;\n",
       "    overflow: auto;\n",
       "  }\n",
       "  table, th, td {\n",
       "    border: 1px solid black;\n",
       "    border-collapse: collapse;\n",
       "  }\n",
       "  th, td {\n",
       "    padding: 5px;\n",
       "  }\n",
       "  th {\n",
       "    text-align: left;\n",
       "  }\n",
       "</style><div class='table-result-container'><table class='table-result'><thead style='background-color: white'><tr><th>department</th><th>id</th><th>name</th><th>position</th></tr></thead><tbody><tr><td>Engineering</td><td>1</td><td>John Doe</td><td>Software Engineer</td></tr><tr><td>Engineering</td><td>2</td><td>Steven Broad</td><td>IT Engineer</td></tr><tr><td>Engineering</td><td>3</td><td>Jane Warner</td><td>Software Engineer</td></tr><tr><td>Engineering</td><td>4</td><td>Ben Doe</td><td>Software Engineer</td></tr><tr><td>Engineering</td><td>5</td><td>John Smith</td><td>IT Engineer</td></tr><tr><td>Engineering</td><td>6</td><td>Ben Marsh</td><td>Software Engineer</td></tr><tr><td>Engineering</td><td>7</td><td>Jonahan</td><td>Software Engineer</td></tr><tr><td>Engineering</td><td>8</td><td>John Doe</td><td>Software Engineer</td></tr></tbody></table></div>"
      ]
     },
     "metadata": {
      "application/vnd.databricks.v1+output": {
       "addedWidgets": {},
       "aggData": [],
       "aggError": "",
       "aggOverflow": false,
       "aggSchema": [],
       "aggSeriesLimitReached": false,
       "aggType": "",
       "arguments": {},
       "columnCustomDisplayInfos": {},
       "data": [
        [
         "Engineering",
         1,
         "John Doe",
         "Software Engineer"
        ],
        [
         "Engineering",
         2,
         "Steven Broad",
         "IT Engineer"
        ],
        [
         "Engineering",
         3,
         "Jane Warner",
         "Software Engineer"
        ],
        [
         "Engineering",
         4,
         "Ben Doe",
         "Software Engineer"
        ],
        [
         "Engineering",
         5,
         "John Smith",
         "IT Engineer"
        ],
        [
         "Engineering",
         6,
         "Ben Marsh",
         "Software Engineer"
        ],
        [
         "Engineering",
         7,
         "Jonahan",
         "Software Engineer"
        ],
        [
         "Engineering",
         8,
         "John Doe",
         "Software Engineer"
        ]
       ],
       "datasetInfos": [],
       "dbfsResultPath": null,
       "isJsonSchema": true,
       "metadata": {},
       "overflow": false,
       "plotOptions": {
        "customPlotOptions": {},
        "displayType": "table",
        "pivotAggregation": null,
        "pivotColumns": null,
        "xColumns": null,
        "yColumns": null
       },
       "removedWidgets": [],
       "schema": [
        {
         "metadata": "{}",
         "name": "department",
         "type": "\"string\""
        },
        {
         "metadata": "{}",
         "name": "id",
         "type": "\"long\""
        },
        {
         "metadata": "{}",
         "name": "name",
         "type": "\"string\""
        },
        {
         "metadata": "{}",
         "name": "position",
         "type": "\"string\""
        }
       ],
       "type": "table"
      }
     },
     "output_type": "display_data"
    }
   ],
   "source": [
    "xml_file = \"dbfs:/FileStore/shared_uploads/yateed1437@gmail.com/employee.xml\"\n",
    "df = spark.read.format(\"org.apache.spark.sql.execution.datasources.xml.XmlFileFormat\").option(\"rootTag\", \"employees\").option(\"rowTag\", \"employee\").load(xml_file)"
   ]
  },
  {
   "cell_type": "code",
   "execution_count": 0,
   "metadata": {
    "application/vnd.databricks.v1+cell": {
     "cellMetadata": {
      "byteLimit": 2048000,
      "rowLimit": 10000
     },
     "inputWidgets": {},
     "nuid": "7ea5f6b4-d53e-4e79-9ea7-2b49931d5c91",
     "showTitle": false,
     "title": ""
    }
   },
   "outputs": [],
   "source": [
    "df.createOrReplaceTempView(\"emp\")\n",
    "df1 = spark.sql(\"\"\"\n",
    "                    SELECT * FROM emp limit 5\n",
    "                \"\"\")"
   ]
  },
  {
   "cell_type": "code",
   "execution_count": 0,
   "metadata": {
    "application/vnd.databricks.v1+cell": {
     "cellMetadata": {
      "byteLimit": 2048000,
      "rowLimit": 10000
     },
     "inputWidgets": {},
     "nuid": "9043f2d7-f854-4238-b142-d7348b95e05d",
     "showTitle": false,
     "title": ""
    }
   },
   "outputs": [
    {
     "output_type": "display_data",
     "data": {
      "text/html": [
       "<style scoped>\n",
       "  .table-result-container {\n",
       "    max-height: 300px;\n",
       "    overflow: auto;\n",
       "  }\n",
       "  table, th, td {\n",
       "    border: 1px solid black;\n",
       "    border-collapse: collapse;\n",
       "  }\n",
       "  th, td {\n",
       "    padding: 5px;\n",
       "  }\n",
       "  th {\n",
       "    text-align: left;\n",
       "  }\n",
       "</style><div class='table-result-container'><table class='table-result'><thead style='background-color: white'><tr><th>department</th><th>id</th><th>name</th><th>position</th></tr></thead><tbody><tr><td>Engineering</td><td>1</td><td>John Doe</td><td>Software Engineer</td></tr><tr><td>Engineering</td><td>2</td><td>Steven Broad</td><td>IT Engineer</td></tr><tr><td>Engineering</td><td>3</td><td>Jane Warner</td><td>Software Engineer</td></tr><tr><td>Engineering</td><td>4</td><td>Ben Doe</td><td>Software Engineer</td></tr><tr><td>Engineering</td><td>5</td><td>John Smith</td><td>IT Engineer</td></tr></tbody></table></div>"
      ]
     },
     "metadata": {
      "application/vnd.databricks.v1+output": {
       "addedWidgets": {},
       "aggData": [],
       "aggError": "",
       "aggOverflow": false,
       "aggSchema": [],
       "aggSeriesLimitReached": false,
       "aggType": "",
       "arguments": {},
       "columnCustomDisplayInfos": {},
       "data": [
        [
         "Engineering",
         1,
         "John Doe",
         "Software Engineer"
        ],
        [
         "Engineering",
         2,
         "Steven Broad",
         "IT Engineer"
        ],
        [
         "Engineering",
         3,
         "Jane Warner",
         "Software Engineer"
        ],
        [
         "Engineering",
         4,
         "Ben Doe",
         "Software Engineer"
        ],
        [
         "Engineering",
         5,
         "John Smith",
         "IT Engineer"
        ]
       ],
       "datasetInfos": [],
       "dbfsResultPath": null,
       "isJsonSchema": true,
       "metadata": {},
       "overflow": false,
       "plotOptions": {
        "customPlotOptions": {},
        "displayType": "table",
        "pivotAggregation": null,
        "pivotColumns": null,
        "xColumns": null,
        "yColumns": null
       },
       "removedWidgets": [],
       "schema": [
        {
         "metadata": "{}",
         "name": "department",
         "type": "\"string\""
        },
        {
         "metadata": "{}",
         "name": "id",
         "type": "\"long\""
        },
        {
         "metadata": "{}",
         "name": "name",
         "type": "\"string\""
        },
        {
         "metadata": "{}",
         "name": "position",
         "type": "\"string\""
        }
       ],
       "type": "table"
      }
     },
     "output_type": "display_data"
    }
   ],
   "source": [
    "df1.display()"
   ]
  },
  {
   "cell_type": "markdown",
   "metadata": {
    "application/vnd.databricks.v1+cell": {
     "cellMetadata": {},
     "inputWidgets": {},
     "nuid": "3bf74dd0-53a7-449e-8a7e-c298e6c648fb",
     "showTitle": false,
     "title": ""
    }
   },
   "source": [
    "# Writing into XML File"
   ]
  },
  {
   "cell_type": "code",
   "execution_count": 0,
   "metadata": {
    "application/vnd.databricks.v1+cell": {
     "cellMetadata": {
      "byteLimit": 2048000,
      "rowLimit": 10000
     },
     "inputWidgets": {},
     "nuid": "c1da740d-846a-4e83-9108-804a5cfd46b0",
     "showTitle": false,
     "title": ""
    }
   },
   "outputs": [],
   "source": [
    "df1.write.format(\"org.apache.spark.sql.execution.datasources.xml.XmlFileFormat\")\\\n",
    "    .option(\"rootTag\", \"employees\")\\\n",
    "    .option(\"rowTag\", \"employee\")\\\n",
    "    .save(\"/FileStore/shared_uploads/yateed1437@gmail.com/emp.xml\")"
   ]
  },
  {
   "cell_type": "code",
   "execution_count": 0,
   "metadata": {
    "application/vnd.databricks.v1+cell": {
     "cellMetadata": {
      "byteLimit": 2048000,
      "rowLimit": 10000
     },
     "inputWidgets": {},
     "nuid": "84cd97e7-aa34-46fe-a736-e18a1241614e",
     "showTitle": false,
     "title": ""
    }
   },
   "outputs": [
    {
     "output_type": "display_data",
     "data": {
      "text/html": [
       "<style scoped>\n",
       "  .table-result-container {\n",
       "    max-height: 300px;\n",
       "    overflow: auto;\n",
       "  }\n",
       "  table, th, td {\n",
       "    border: 1px solid black;\n",
       "    border-collapse: collapse;\n",
       "  }\n",
       "  th, td {\n",
       "    padding: 5px;\n",
       "  }\n",
       "  th {\n",
       "    text-align: left;\n",
       "  }\n",
       "</style><div class='table-result-container'><table class='table-result'><thead style='background-color: white'><tr><th>department</th><th>id</th><th>name</th><th>position</th></tr></thead><tbody><tr><td>Engineering</td><td>1</td><td>John Doe</td><td>Software Engineer</td></tr><tr><td>Engineering</td><td>2</td><td>Steven Broad</td><td>IT Engineer</td></tr><tr><td>Engineering</td><td>3</td><td>Jane Warner</td><td>Software Engineer</td></tr><tr><td>Engineering</td><td>4</td><td>Ben Doe</td><td>Software Engineer</td></tr><tr><td>Engineering</td><td>5</td><td>John Smith</td><td>IT Engineer</td></tr></tbody></table></div>"
      ]
     },
     "metadata": {
      "application/vnd.databricks.v1+output": {
       "addedWidgets": {},
       "aggData": [],
       "aggError": "",
       "aggOverflow": false,
       "aggSchema": [],
       "aggSeriesLimitReached": false,
       "aggType": "",
       "arguments": {},
       "columnCustomDisplayInfos": {},
       "data": [
        [
         "Engineering",
         1,
         "John Doe",
         "Software Engineer"
        ],
        [
         "Engineering",
         2,
         "Steven Broad",
         "IT Engineer"
        ],
        [
         "Engineering",
         3,
         "Jane Warner",
         "Software Engineer"
        ],
        [
         "Engineering",
         4,
         "Ben Doe",
         "Software Engineer"
        ],
        [
         "Engineering",
         5,
         "John Smith",
         "IT Engineer"
        ]
       ],
       "datasetInfos": [],
       "dbfsResultPath": null,
       "isJsonSchema": true,
       "metadata": {},
       "overflow": false,
       "plotOptions": {
        "customPlotOptions": {},
        "displayType": "table",
        "pivotAggregation": null,
        "pivotColumns": null,
        "xColumns": null,
        "yColumns": null
       },
       "removedWidgets": [],
       "schema": [
        {
         "metadata": "{}",
         "name": "department",
         "type": "\"string\""
        },
        {
         "metadata": "{}",
         "name": "id",
         "type": "\"long\""
        },
        {
         "metadata": "{}",
         "name": "name",
         "type": "\"string\""
        },
        {
         "metadata": "{}",
         "name": "position",
         "type": "\"string\""
        }
       ],
       "type": "table"
      }
     },
     "output_type": "display_data"
    }
   ],
   "source": [
    "# Checking whether xml is saved or not\n",
    "df2 = spark.read.format(\"org.apache.spark.sql.execution.datasources.xml.XmlFileFormat\")\\\n",
    "    .option(\"rootTag\", \"employees\")\\\n",
    "        .option(\"rowTag\", \"employee\")\\\n",
    "        .load(\"/FileStore/shared_uploads/yateed1437@gmail.com/emp.xml\")\n",
    "df2.display()"
   ]
  }
 ],
 "metadata": {
  "application/vnd.databricks.v1+notebook": {
   "dashboards": [],
   "language": "python",
   "notebookMetadata": {
    "mostRecentlyExecutedCommandWithImplicitDF": {
     "commandId": 3057385946702368,
     "dataframes": [
      "_sqldf"
     ]
    },
    "pythonIndentUnit": 4
   },
   "notebookName": "Read and write XML",
   "widgets": {}
  }
 },
 "nbformat": 4,
 "nbformat_minor": 0
}
