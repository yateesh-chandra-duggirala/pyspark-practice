{
 "cells": [
  {
   "cell_type": "markdown",
   "metadata": {
    "application/vnd.databricks.v1+cell": {
     "cellMetadata": {},
     "inputWidgets": {},
     "nuid": "69d5c5db-c26a-42ef-acd4-a261e71d903b",
     "showTitle": false,
     "title": ""
    }
   },
   "source": [
    "# 1. Reading CSV File"
   ]
  },
  {
   "cell_type": "code",
   "execution_count": 0,
   "metadata": {
    "application/vnd.databricks.v1+cell": {
     "cellMetadata": {
      "byteLimit": 2048000,
      "rowLimit": 10000
     },
     "inputWidgets": {},
     "nuid": "8e318838-fbfc-4960-bc3f-a486f552334a",
     "showTitle": false,
     "title": ""
    }
   },
   "outputs": [
    {
     "output_type": "stream",
     "name": "stdout",
     "output_type": "stream",
     "text": [
      "+------------+-------+-----------+-------------------+-----+--------------+-----+-------+-----+-----+-----+-----------+-------+--------------------+--------------------+-------------+---------------+-------------------+----------+-------------+\n|RecordNumber|Zipcode|ZipCodeType|               City|State|  LocationType|  Lat|   Long|Xaxis|Yaxis|Zaxis|WorldRegion|Country|        LocationText|            Location|Decommisioned|TaxReturnsFiled|EstimatedPopulation|TotalWages|        Notes|\n+------------+-------+-----------+-------------------+-----+--------------+-----+-------+-----+-----+-----+-----------+-------+--------------------+--------------------+-------------+---------------+-------------------+----------+-------------+\n|           1|    704|   STANDARD|        PARC PARQUE|   PR|NOT ACCEPTABLE|17.96| -66.22| 0.38|-0.87|  0.3|         NA|     US|     Parc Parque, PR|NA-US-PR-PARC PARQUE|        false|           null|               null|      null|         null|\n|           2|    704|   STANDARD|PASEO COSTA DEL SUR|   PR|NOT ACCEPTABLE|17.96| -66.22| 0.38|-0.87|  0.3|         NA|     US|Paseo Costa Del S...|NA-US-PR-PASEO CO...|        false|           null|               null|      null|         null|\n|          10|    709|   STANDARD|       BDA SAN LUIS|   PR|NOT ACCEPTABLE|18.14| -66.26| 0.38|-0.86| 0.31|         NA|     US|    Bda San Luis, PR|NA-US-PR-BDA SAN ...|        false|           null|               null|      null|         null|\n|       61391|  76166|     UNIQUE|  CINGULAR WIRELESS|   TX|NOT ACCEPTABLE|32.72| -97.31| -0.1|-0.83| 0.54|         NA|     US|Cingular Wireless...|NA-US-TX-CINGULAR...|        false|           null|               null|      null|         null|\n|       61392|  76177|   STANDARD|         FORT WORTH|   TX|       PRIMARY|32.75| -97.33| -0.1|-0.83| 0.54|         NA|     US|      Fort Worth, TX| NA-US-TX-FORT WORTH|        false|           2126|               4053| 122396986|         null|\n|       61393|  76177|   STANDARD|           FT WORTH|   TX|    ACCEPTABLE|32.75| -97.33| -0.1|-0.83| 0.54|         NA|     US|        Ft Worth, TX|   NA-US-TX-FT WORTH|        false|           2126|               4053| 122396986|         null|\n|           4|    704|   STANDARD|    URB EUGENE RICE|   PR|NOT ACCEPTABLE|17.96| -66.22| 0.38|-0.87|  0.3|         NA|     US| Urb Eugene Rice, PR|NA-US-PR-URB EUGE...|        false|           null|               null|      null|         null|\n|       39827|  85209|   STANDARD|               MESA|   AZ|       PRIMARY|33.37|-111.64| -0.3|-0.77| 0.55|         NA|     US|            Mesa, AZ|       NA-US-AZ-MESA|        false|          14962|              26883| 563792730|no NWS data, |\n|       39828|  85210|   STANDARD|               MESA|   AZ|       PRIMARY|33.38|-111.84|-0.31|-0.77| 0.55|         NA|     US|            Mesa, AZ|       NA-US-AZ-MESA|        false|          14374|              25446| 471000465|         null|\n|       49345|  32046|   STANDARD|           HILLIARD|   FL|       PRIMARY|30.69| -81.92| 0.12|-0.85| 0.51|         NA|     US|        Hilliard, FL|   NA-US-FL-HILLIARD|        false|           3922|               7443| 133112149|         null|\n|       49346|  34445|     PO BOX|             HOLDER|   FL|       PRIMARY|28.96| -82.41| 0.11|-0.86| 0.48|         NA|     US|          Holder, FL|     NA-US-FL-HOLDER|        false|           null|               null|      null|         null|\n|       49347|  32564|   STANDARD|               HOLT|   FL|       PRIMARY|30.72| -86.67| 0.04|-0.85| 0.51|         NA|     US|            Holt, FL|       NA-US-FL-HOLT|        false|           1207|               2190|  36395913|         null|\n|       49348|  34487|     PO BOX|          HOMOSASSA|   FL|       PRIMARY|28.78| -82.61| 0.11|-0.86| 0.48|         NA|     US|       Homosassa, FL|  NA-US-FL-HOMOSASSA|        false|           null|               null|      null|         null|\n|          10|    708|   STANDARD|       BDA SAN LUIS|   PR|NOT ACCEPTABLE|18.14| -66.26| 0.38|-0.86| 0.31|         NA|     US|    Bda San Luis, PR|NA-US-PR-BDA SAN ...|        false|           null|               null|      null|         null|\n|           3|    704|   STANDARD|      SECT LANAUSSE|   PR|NOT ACCEPTABLE|17.96| -66.22| 0.38|-0.87|  0.3|         NA|     US|   Sect Lanausse, PR|NA-US-PR-SECT LAN...|        false|           null|               null|      null|         null|\n|       54354|  36275|     PO BOX|      SPRING GARDEN|   AL|       PRIMARY|33.97| -85.55| 0.06|-0.82| 0.55|         NA|     US|   Spring Garden, AL|NA-US-AL-SPRING G...|        false|           null|               null|      null|         null|\n|       54355|  35146|   STANDARD|        SPRINGVILLE|   AL|       PRIMARY|33.77| -86.47| 0.05|-0.82| 0.55|         NA|     US|     Springville, AL|NA-US-AL-SPRINGVILLE|        false|           4046|               7845| 172127599|         null|\n|       54356|  35585|   STANDARD|        SPRUCE PINE|   AL|       PRIMARY|34.37| -87.69| 0.03|-0.82| 0.56|         NA|     US|     Spruce Pine, AL|NA-US-AL-SPRUCE PINE|        false|            610|               1209|  18525517|         null|\n|       76511|  27007|   STANDARD|           ASH HILL|   NC|NOT ACCEPTABLE| 36.4| -80.56| 0.13|-0.79| 0.59|         NA|     US|        Ash Hill, NC|   NA-US-NC-ASH HILL|        false|            842|               1666|  28876493|         null|\n|       76512|  27203|   STANDARD|           ASHEBORO|   NC|       PRIMARY|35.71| -79.81| 0.14|-0.79| 0.58|         NA|     US|        Asheboro, NC|   NA-US-NC-ASHEBORO|        false|           8355|              15228| 215474318|         null|\n+------------+-------+-----------+-------------------+-----+--------------+-----+-------+-----+-----+-----+-----------+-------+--------------------+--------------------+-------------+---------------+-------------------+----------+-------------+\nonly showing top 20 rows\n\n"
     ]
    }
   ],
   "source": [
    "file_path = \"dbfs:/FileStore/shared_uploads/yateed1437@gmail.com/zipcodes.csv\"\n",
    "# Method 1\n",
    "df = spark.read.option(\"inferSchema\", True)\\\n",
    "    .option(\"header\", True)\\\n",
    "    .csv((file_path))\n",
    "df.show()"
   ]
  },
  {
   "cell_type": "code",
   "execution_count": 0,
   "metadata": {
    "application/vnd.databricks.v1+cell": {
     "cellMetadata": {
      "byteLimit": 2048000,
      "rowLimit": 10000
     },
     "inputWidgets": {},
     "nuid": "0473599b-d0cd-4a9c-927d-19202e79691c",
     "showTitle": false,
     "title": ""
    }
   },
   "outputs": [
    {
     "output_type": "stream",
     "name": "stdout",
     "output_type": "stream",
     "text": [
      "+------------+-------+-----------+-------------------+-----+--------------+-----+-------+-----+-----+-----+-----------+-------+--------------------+--------------------+-------------+---------------+-------------------+----------+-------------+\n|RecordNumber|Zipcode|ZipCodeType|               City|State|  LocationType|  Lat|   Long|Xaxis|Yaxis|Zaxis|WorldRegion|Country|        LocationText|            Location|Decommisioned|TaxReturnsFiled|EstimatedPopulation|TotalWages|        Notes|\n+------------+-------+-----------+-------------------+-----+--------------+-----+-------+-----+-----+-----+-----------+-------+--------------------+--------------------+-------------+---------------+-------------------+----------+-------------+\n|           1|    704|   STANDARD|        PARC PARQUE|   PR|NOT ACCEPTABLE|17.96| -66.22| 0.38|-0.87|  0.3|         NA|     US|     Parc Parque, PR|NA-US-PR-PARC PARQUE|        false|           null|               null|      null|         null|\n|           2|    704|   STANDARD|PASEO COSTA DEL SUR|   PR|NOT ACCEPTABLE|17.96| -66.22| 0.38|-0.87|  0.3|         NA|     US|Paseo Costa Del S...|NA-US-PR-PASEO CO...|        false|           null|               null|      null|         null|\n|          10|    709|   STANDARD|       BDA SAN LUIS|   PR|NOT ACCEPTABLE|18.14| -66.26| 0.38|-0.86| 0.31|         NA|     US|    Bda San Luis, PR|NA-US-PR-BDA SAN ...|        false|           null|               null|      null|         null|\n|       61391|  76166|     UNIQUE|  CINGULAR WIRELESS|   TX|NOT ACCEPTABLE|32.72| -97.31| -0.1|-0.83| 0.54|         NA|     US|Cingular Wireless...|NA-US-TX-CINGULAR...|        false|           null|               null|      null|         null|\n|       61392|  76177|   STANDARD|         FORT WORTH|   TX|       PRIMARY|32.75| -97.33| -0.1|-0.83| 0.54|         NA|     US|      Fort Worth, TX| NA-US-TX-FORT WORTH|        false|           2126|               4053| 122396986|         null|\n|       61393|  76177|   STANDARD|           FT WORTH|   TX|    ACCEPTABLE|32.75| -97.33| -0.1|-0.83| 0.54|         NA|     US|        Ft Worth, TX|   NA-US-TX-FT WORTH|        false|           2126|               4053| 122396986|         null|\n|           4|    704|   STANDARD|    URB EUGENE RICE|   PR|NOT ACCEPTABLE|17.96| -66.22| 0.38|-0.87|  0.3|         NA|     US| Urb Eugene Rice, PR|NA-US-PR-URB EUGE...|        false|           null|               null|      null|         null|\n|       39827|  85209|   STANDARD|               MESA|   AZ|       PRIMARY|33.37|-111.64| -0.3|-0.77| 0.55|         NA|     US|            Mesa, AZ|       NA-US-AZ-MESA|        false|          14962|              26883| 563792730|no NWS data, |\n|       39828|  85210|   STANDARD|               MESA|   AZ|       PRIMARY|33.38|-111.84|-0.31|-0.77| 0.55|         NA|     US|            Mesa, AZ|       NA-US-AZ-MESA|        false|          14374|              25446| 471000465|         null|\n|       49345|  32046|   STANDARD|           HILLIARD|   FL|       PRIMARY|30.69| -81.92| 0.12|-0.85| 0.51|         NA|     US|        Hilliard, FL|   NA-US-FL-HILLIARD|        false|           3922|               7443| 133112149|         null|\n|       49346|  34445|     PO BOX|             HOLDER|   FL|       PRIMARY|28.96| -82.41| 0.11|-0.86| 0.48|         NA|     US|          Holder, FL|     NA-US-FL-HOLDER|        false|           null|               null|      null|         null|\n|       49347|  32564|   STANDARD|               HOLT|   FL|       PRIMARY|30.72| -86.67| 0.04|-0.85| 0.51|         NA|     US|            Holt, FL|       NA-US-FL-HOLT|        false|           1207|               2190|  36395913|         null|\n|       49348|  34487|     PO BOX|          HOMOSASSA|   FL|       PRIMARY|28.78| -82.61| 0.11|-0.86| 0.48|         NA|     US|       Homosassa, FL|  NA-US-FL-HOMOSASSA|        false|           null|               null|      null|         null|\n|          10|    708|   STANDARD|       BDA SAN LUIS|   PR|NOT ACCEPTABLE|18.14| -66.26| 0.38|-0.86| 0.31|         NA|     US|    Bda San Luis, PR|NA-US-PR-BDA SAN ...|        false|           null|               null|      null|         null|\n|           3|    704|   STANDARD|      SECT LANAUSSE|   PR|NOT ACCEPTABLE|17.96| -66.22| 0.38|-0.87|  0.3|         NA|     US|   Sect Lanausse, PR|NA-US-PR-SECT LAN...|        false|           null|               null|      null|         null|\n|       54354|  36275|     PO BOX|      SPRING GARDEN|   AL|       PRIMARY|33.97| -85.55| 0.06|-0.82| 0.55|         NA|     US|   Spring Garden, AL|NA-US-AL-SPRING G...|        false|           null|               null|      null|         null|\n|       54355|  35146|   STANDARD|        SPRINGVILLE|   AL|       PRIMARY|33.77| -86.47| 0.05|-0.82| 0.55|         NA|     US|     Springville, AL|NA-US-AL-SPRINGVILLE|        false|           4046|               7845| 172127599|         null|\n|       54356|  35585|   STANDARD|        SPRUCE PINE|   AL|       PRIMARY|34.37| -87.69| 0.03|-0.82| 0.56|         NA|     US|     Spruce Pine, AL|NA-US-AL-SPRUCE PINE|        false|            610|               1209|  18525517|         null|\n|       76511|  27007|   STANDARD|           ASH HILL|   NC|NOT ACCEPTABLE| 36.4| -80.56| 0.13|-0.79| 0.59|         NA|     US|        Ash Hill, NC|   NA-US-NC-ASH HILL|        false|            842|               1666|  28876493|         null|\n|       76512|  27203|   STANDARD|           ASHEBORO|   NC|       PRIMARY|35.71| -79.81| 0.14|-0.79| 0.58|         NA|     US|        Asheboro, NC|   NA-US-NC-ASHEBORO|        false|           8355|              15228| 215474318|         null|\n+------------+-------+-----------+-------------------+-----+--------------+-----+-------+-----+-----+-----+-----------+-------+--------------------+--------------------+-------------+---------------+-------------------+----------+-------------+\nonly showing top 20 rows\n\n"
     ]
    }
   ],
   "source": [
    "# Method 2\n",
    "df2 = spark.read.options(header = True, inferSchema = True) \\\n",
    "    .csv(file_path)\n",
    "df2.show()"
   ]
  },
  {
   "cell_type": "code",
   "execution_count": 0,
   "metadata": {
    "application/vnd.databricks.v1+cell": {
     "cellMetadata": {
      "byteLimit": 2048000,
      "rowLimit": 10000
     },
     "inputWidgets": {},
     "nuid": "f23fee27-6d05-4c30-a84c-8c3967900402",
     "showTitle": false,
     "title": ""
    }
   },
   "outputs": [
    {
     "output_type": "stream",
     "name": "stdout",
     "output_type": "stream",
     "text": [
      "+------------+-------+-----------+-------------------+-----+--------------+-----+-------+-----+-----+-----+-----------+-------+--------------------+--------------------+-------------+---------------+-------------------+----------+-------------+\n|         _c0|    _c1|        _c2|                _c3|  _c4|           _c5|  _c6|    _c7|  _c8|  _c9| _c10|       _c11|   _c12|                _c13|                _c14|         _c15|           _c16|               _c17|      _c18|         _c19|\n+------------+-------+-----------+-------------------+-----+--------------+-----+-------+-----+-----+-----+-----------+-------+--------------------+--------------------+-------------+---------------+-------------------+----------+-------------+\n|RecordNumber|Zipcode|ZipCodeType|               City|State|  LocationType|  Lat|   Long|Xaxis|Yaxis|Zaxis|WorldRegion|Country|        LocationText|            Location|Decommisioned|TaxReturnsFiled|EstimatedPopulation|TotalWages|        Notes|\n|           1|    704|   STANDARD|        PARC PARQUE|   PR|NOT ACCEPTABLE|17.96| -66.22| 0.38|-0.87|  0.3|         NA|     US|     Parc Parque, PR|NA-US-PR-PARC PARQUE|        FALSE|           null|               null|      null|         null|\n|           2|    704|   STANDARD|PASEO COSTA DEL SUR|   PR|NOT ACCEPTABLE|17.96| -66.22| 0.38|-0.87|  0.3|         NA|     US|Paseo Costa Del S...|NA-US-PR-PASEO CO...|        FALSE|           null|               null|      null|         null|\n|          10|    709|   STANDARD|       BDA SAN LUIS|   PR|NOT ACCEPTABLE|18.14| -66.26| 0.38|-0.86| 0.31|         NA|     US|    Bda San Luis, PR|NA-US-PR-BDA SAN ...|        FALSE|           null|               null|      null|         null|\n|       61391|  76166|     UNIQUE|  CINGULAR WIRELESS|   TX|NOT ACCEPTABLE|32.72| -97.31| -0.1|-0.83| 0.54|         NA|     US|Cingular Wireless...|NA-US-TX-CINGULAR...|        FALSE|           null|               null|      null|         null|\n|       61392|  76177|   STANDARD|         FORT WORTH|   TX|       PRIMARY|32.75| -97.33| -0.1|-0.83| 0.54|         NA|     US|      Fort Worth, TX| NA-US-TX-FORT WORTH|        FALSE|           2126|               4053| 122396986|         null|\n|       61393|  76177|   STANDARD|           FT WORTH|   TX|    ACCEPTABLE|32.75| -97.33| -0.1|-0.83| 0.54|         NA|     US|        Ft Worth, TX|   NA-US-TX-FT WORTH|        FALSE|           2126|               4053| 122396986|         null|\n|           4|    704|   STANDARD|    URB EUGENE RICE|   PR|NOT ACCEPTABLE|17.96| -66.22| 0.38|-0.87|  0.3|         NA|     US| Urb Eugene Rice, PR|NA-US-PR-URB EUGE...|        FALSE|           null|               null|      null|         null|\n|       39827|  85209|   STANDARD|               MESA|   AZ|       PRIMARY|33.37|-111.64| -0.3|-0.77| 0.55|         NA|     US|            Mesa, AZ|       NA-US-AZ-MESA|        FALSE|          14962|              26883| 563792730|no NWS data, |\n|       39828|  85210|   STANDARD|               MESA|   AZ|       PRIMARY|33.38|-111.84|-0.31|-0.77| 0.55|         NA|     US|            Mesa, AZ|       NA-US-AZ-MESA|        FALSE|          14374|              25446| 471000465|         null|\n|       49345|  32046|   STANDARD|           HILLIARD|   FL|       PRIMARY|30.69| -81.92| 0.12|-0.85| 0.51|         NA|     US|        Hilliard, FL|   NA-US-FL-HILLIARD|        FALSE|           3922|               7443| 133112149|         null|\n|       49346|  34445|     PO BOX|             HOLDER|   FL|       PRIMARY|28.96| -82.41| 0.11|-0.86| 0.48|         NA|     US|          Holder, FL|     NA-US-FL-HOLDER|        FALSE|           null|               null|      null|         null|\n|       49347|  32564|   STANDARD|               HOLT|   FL|       PRIMARY|30.72| -86.67| 0.04|-0.85| 0.51|         NA|     US|            Holt, FL|       NA-US-FL-HOLT|        FALSE|           1207|               2190|  36395913|         null|\n|       49348|  34487|     PO BOX|          HOMOSASSA|   FL|       PRIMARY|28.78| -82.61| 0.11|-0.86| 0.48|         NA|     US|       Homosassa, FL|  NA-US-FL-HOMOSASSA|        FALSE|           null|               null|      null|         null|\n|          10|    708|   STANDARD|       BDA SAN LUIS|   PR|NOT ACCEPTABLE|18.14| -66.26| 0.38|-0.86| 0.31|         NA|     US|    Bda San Luis, PR|NA-US-PR-BDA SAN ...|        FALSE|           null|               null|      null|         null|\n|           3|    704|   STANDARD|      SECT LANAUSSE|   PR|NOT ACCEPTABLE|17.96| -66.22| 0.38|-0.87|  0.3|         NA|     US|   Sect Lanausse, PR|NA-US-PR-SECT LAN...|        FALSE|           null|               null|      null|         null|\n|       54354|  36275|     PO BOX|      SPRING GARDEN|   AL|       PRIMARY|33.97| -85.55| 0.06|-0.82| 0.55|         NA|     US|   Spring Garden, AL|NA-US-AL-SPRING G...|        FALSE|           null|               null|      null|         null|\n|       54355|  35146|   STANDARD|        SPRINGVILLE|   AL|       PRIMARY|33.77| -86.47| 0.05|-0.82| 0.55|         NA|     US|     Springville, AL|NA-US-AL-SPRINGVILLE|        FALSE|           4046|               7845| 172127599|         null|\n|       54356|  35585|   STANDARD|        SPRUCE PINE|   AL|       PRIMARY|34.37| -87.69| 0.03|-0.82| 0.56|         NA|     US|     Spruce Pine, AL|NA-US-AL-SPRUCE PINE|        FALSE|            610|               1209|  18525517|         null|\n|       76511|  27007|   STANDARD|           ASH HILL|   NC|NOT ACCEPTABLE| 36.4| -80.56| 0.13|-0.79| 0.59|         NA|     US|        Ash Hill, NC|   NA-US-NC-ASH HILL|        FALSE|            842|               1666|  28876493|         null|\n+------------+-------+-----------+-------------------+-----+--------------+-----+-------+-----+-----+-----+-----------+-------+--------------------+--------------------+-------------+---------------+-------------------+----------+-------------+\nonly showing top 20 rows\n\n"
     ]
    }
   ],
   "source": [
    "# Method 3 - Loading the CSV\n",
    "df3 = spark.read.format(\"csv\")\\\n",
    "    .load(file_path)\n",
    "df3.show()"
   ]
  },
  {
   "cell_type": "code",
   "execution_count": 0,
   "metadata": {
    "application/vnd.databricks.v1+cell": {
     "cellMetadata": {
      "byteLimit": 2048000,
      "rowLimit": 10000
     },
     "inputWidgets": {},
     "nuid": "57626900-6c29-4c66-ab33-d16c54dfbbff",
     "showTitle": false,
     "title": ""
    }
   },
   "outputs": [
    {
     "output_type": "display_data",
     "data": {
      "text/html": [
       "<style scoped>\n",
       "  .table-result-container {\n",
       "    max-height: 300px;\n",
       "    overflow: auto;\n",
       "  }\n",
       "  table, th, td {\n",
       "    border: 1px solid black;\n",
       "    border-collapse: collapse;\n",
       "  }\n",
       "  th, td {\n",
       "    padding: 5px;\n",
       "  }\n",
       "  th {\n",
       "    text-align: left;\n",
       "  }\n",
       "</style><div class='table-result-container'><table class='table-result'><thead style='background-color: white'><tr><th>RecordNumber</th><th>Zipcode</th><th>ZipCodeType</th><th>City</th><th>State</th><th>LocationType</th><th>Lat</th><th>Long</th><th>Xaxis</th><th>Yaxis</th><th>Zaxis</th><th>WorldRegion</th><th>Country</th><th>LocationText</th><th>Location</th><th>Decommisioned</th><th>TaxReturnsFiled</th><th>EstimatedPopulation</th><th>TotalWages</th><th>Notes</th></tr></thead><tbody><tr><td>1</td><td>704</td><td>STANDARD</td><td>PARC PARQUE</td><td>null</td><td>NOT ACCEPTABLE</td><td>17.96</td><td>-66.22</td><td>0.38</td><td>-0.87</td><td>0.3</td><td>NA</td><td>US</td><td>Parc Parque, PR</td><td>NA-US-PR-PARC PARQUE</td><td>false</td><td>null</td><td>null</td><td>null</td><td>null</td></tr><tr><td>2</td><td>704</td><td>STANDARD</td><td>PASEO COSTA DEL SUR</td><td>null</td><td>NOT ACCEPTABLE</td><td>17.96</td><td>-66.22</td><td>0.38</td><td>-0.87</td><td>0.3</td><td>NA</td><td>US</td><td>Paseo Costa Del Sur, PR</td><td>NA-US-PR-PASEO COSTA DEL SUR</td><td>false</td><td>null</td><td>null</td><td>null</td><td>null</td></tr><tr><td>10</td><td>709</td><td>STANDARD</td><td>BDA SAN LUIS</td><td>null</td><td>NOT ACCEPTABLE</td><td>18.14</td><td>-66.26</td><td>0.38</td><td>-0.86</td><td>0.31</td><td>NA</td><td>US</td><td>Bda San Luis, PR</td><td>NA-US-PR-BDA SAN LUIS</td><td>false</td><td>null</td><td>null</td><td>null</td><td>null</td></tr><tr><td>61391</td><td>76166</td><td>UNIQUE</td><td>CINGULAR WIRELESS</td><td>TX</td><td>NOT ACCEPTABLE</td><td>32.72</td><td>-97.31</td><td>-0.1</td><td>-0.83</td><td>0.54</td><td>NA</td><td>US</td><td>Cingular Wireless, TX</td><td>NA-US-TX-CINGULAR WIRELESS</td><td>false</td><td>null</td><td>null</td><td>null</td><td>null</td></tr><tr><td>61392</td><td>76177</td><td>STANDARD</td><td>FORT WORTH</td><td>TX</td><td>PRIMARY</td><td>32.75</td><td>-97.33</td><td>-0.1</td><td>-0.83</td><td>0.54</td><td>NA</td><td>US</td><td>Fort Worth, TX</td><td>NA-US-TX-FORT WORTH</td><td>false</td><td>2126</td><td>4053</td><td>122396986</td><td>null</td></tr><tr><td>61393</td><td>76177</td><td>STANDARD</td><td>FT WORTH</td><td>TX</td><td>ACCEPTABLE</td><td>32.75</td><td>-97.33</td><td>-0.1</td><td>-0.83</td><td>0.54</td><td>NA</td><td>US</td><td>Ft Worth, TX</td><td>NA-US-TX-FT WORTH</td><td>false</td><td>2126</td><td>4053</td><td>122396986</td><td>null</td></tr><tr><td>4</td><td>704</td><td>STANDARD</td><td>URB EUGENE RICE</td><td>null</td><td>NOT ACCEPTABLE</td><td>17.96</td><td>-66.22</td><td>0.38</td><td>-0.87</td><td>0.3</td><td>NA</td><td>US</td><td>Urb Eugene Rice, PR</td><td>NA-US-PR-URB EUGENE RICE</td><td>false</td><td>null</td><td>null</td><td>null</td><td>null</td></tr><tr><td>39827</td><td>85209</td><td>STANDARD</td><td>MESA</td><td>AZ</td><td>PRIMARY</td><td>33.37</td><td>-111.64</td><td>-0.3</td><td>-0.77</td><td>0.55</td><td>NA</td><td>US</td><td>Mesa, AZ</td><td>NA-US-AZ-MESA</td><td>false</td><td>14962</td><td>26883</td><td>563792730</td><td>no NWS data, </td></tr><tr><td>39828</td><td>85210</td><td>STANDARD</td><td>MESA</td><td>AZ</td><td>PRIMARY</td><td>33.38</td><td>-111.84</td><td>-0.31</td><td>-0.77</td><td>0.55</td><td>NA</td><td>US</td><td>Mesa, AZ</td><td>NA-US-AZ-MESA</td><td>false</td><td>14374</td><td>25446</td><td>471000465</td><td>null</td></tr><tr><td>49345</td><td>32046</td><td>STANDARD</td><td>HILLIARD</td><td>FL</td><td>PRIMARY</td><td>30.69</td><td>-81.92</td><td>0.12</td><td>-0.85</td><td>0.51</td><td>NA</td><td>US</td><td>Hilliard, FL</td><td>NA-US-FL-HILLIARD</td><td>false</td><td>3922</td><td>7443</td><td>133112149</td><td>null</td></tr><tr><td>49346</td><td>34445</td><td>PO BOX</td><td>HOLDER</td><td>FL</td><td>PRIMARY</td><td>28.96</td><td>-82.41</td><td>0.11</td><td>-0.86</td><td>0.48</td><td>NA</td><td>US</td><td>Holder, FL</td><td>NA-US-FL-HOLDER</td><td>false</td><td>null</td><td>null</td><td>null</td><td>null</td></tr><tr><td>49347</td><td>32564</td><td>STANDARD</td><td>HOLT</td><td>FL</td><td>PRIMARY</td><td>30.72</td><td>-86.67</td><td>0.04</td><td>-0.85</td><td>0.51</td><td>NA</td><td>US</td><td>Holt, FL</td><td>NA-US-FL-HOLT</td><td>false</td><td>1207</td><td>2190</td><td>36395913</td><td>null</td></tr><tr><td>49348</td><td>34487</td><td>PO BOX</td><td>HOMOSASSA</td><td>FL</td><td>PRIMARY</td><td>28.78</td><td>-82.61</td><td>0.11</td><td>-0.86</td><td>0.48</td><td>NA</td><td>US</td><td>Homosassa, FL</td><td>NA-US-FL-HOMOSASSA</td><td>false</td><td>null</td><td>null</td><td>null</td><td>null</td></tr><tr><td>10</td><td>708</td><td>STANDARD</td><td>BDA SAN LUIS</td><td>null</td><td>NOT ACCEPTABLE</td><td>18.14</td><td>-66.26</td><td>0.38</td><td>-0.86</td><td>0.31</td><td>NA</td><td>US</td><td>Bda San Luis, PR</td><td>NA-US-PR-BDA SAN LUIS</td><td>false</td><td>null</td><td>null</td><td>null</td><td>null</td></tr><tr><td>3</td><td>704</td><td>STANDARD</td><td>SECT LANAUSSE</td><td>null</td><td>NOT ACCEPTABLE</td><td>17.96</td><td>-66.22</td><td>0.38</td><td>-0.87</td><td>0.3</td><td>NA</td><td>US</td><td>Sect Lanausse, PR</td><td>NA-US-PR-SECT LANAUSSE</td><td>false</td><td>null</td><td>null</td><td>null</td><td>null</td></tr><tr><td>54354</td><td>36275</td><td>PO BOX</td><td>SPRING GARDEN</td><td>AL</td><td>PRIMARY</td><td>33.97</td><td>-85.55</td><td>0.06</td><td>-0.82</td><td>0.55</td><td>NA</td><td>US</td><td>Spring Garden, AL</td><td>NA-US-AL-SPRING GARDEN</td><td>false</td><td>null</td><td>null</td><td>null</td><td>null</td></tr><tr><td>54355</td><td>35146</td><td>STANDARD</td><td>SPRINGVILLE</td><td>AL</td><td>PRIMARY</td><td>33.77</td><td>-86.47</td><td>0.05</td><td>-0.82</td><td>0.55</td><td>NA</td><td>US</td><td>Springville, AL</td><td>NA-US-AL-SPRINGVILLE</td><td>false</td><td>4046</td><td>7845</td><td>172127599</td><td>null</td></tr><tr><td>54356</td><td>35585</td><td>STANDARD</td><td>SPRUCE PINE</td><td>AL</td><td>PRIMARY</td><td>34.37</td><td>-87.69</td><td>0.03</td><td>-0.82</td><td>0.56</td><td>NA</td><td>US</td><td>Spruce Pine, AL</td><td>NA-US-AL-SPRUCE PINE</td><td>false</td><td>610</td><td>1209</td><td>18525517</td><td>null</td></tr><tr><td>76511</td><td>27007</td><td>STANDARD</td><td>ASH HILL</td><td>NC</td><td>NOT ACCEPTABLE</td><td>36.4</td><td>-80.56</td><td>0.13</td><td>-0.79</td><td>0.59</td><td>NA</td><td>US</td><td>Ash Hill, NC</td><td>NA-US-NC-ASH HILL</td><td>false</td><td>842</td><td>1666</td><td>28876493</td><td>null</td></tr><tr><td>76512</td><td>27203</td><td>STANDARD</td><td>ASHEBORO</td><td>NC</td><td>PRIMARY</td><td>35.71</td><td>-79.81</td><td>0.14</td><td>-0.79</td><td>0.58</td><td>NA</td><td>US</td><td>Asheboro, NC</td><td>NA-US-NC-ASHEBORO</td><td>false</td><td>8355</td><td>15228</td><td>215474318</td><td>null</td></tr><tr><td>76513</td><td>27204</td><td>PO BOX</td><td>ASHEBORO</td><td>NC</td><td>PRIMARY</td><td>35.71</td><td>-79.81</td><td>0.14</td><td>-0.79</td><td>0.58</td><td>NA</td><td>US</td><td>Asheboro, NC</td><td>NA-US-NC-ASHEBORO</td><td>false</td><td>1035</td><td>1816</td><td>30322473</td><td>null</td></tr></tbody></table></div>"
      ]
     },
     "metadata": {
      "application/vnd.databricks.v1+output": {
       "addedWidgets": {},
       "aggData": [],
       "aggError": "",
       "aggOverflow": false,
       "aggSchema": [],
       "aggSeriesLimitReached": false,
       "aggType": "",
       "arguments": {},
       "columnCustomDisplayInfos": {},
       "data": [
        [
         1,
         704,
         "STANDARD",
         "PARC PARQUE",
         null,
         "NOT ACCEPTABLE",
         17.96,
         -66.22,
         0.38,
         -0.87,
         0.3,
         "NA",
         "US",
         "Parc Parque, PR",
         "NA-US-PR-PARC PARQUE",
         false,
         null,
         null,
         null,
         null
        ],
        [
         2,
         704,
         "STANDARD",
         "PASEO COSTA DEL SUR",
         null,
         "NOT ACCEPTABLE",
         17.96,
         -66.22,
         0.38,
         -0.87,
         0.3,
         "NA",
         "US",
         "Paseo Costa Del Sur, PR",
         "NA-US-PR-PASEO COSTA DEL SUR",
         false,
         null,
         null,
         null,
         null
        ],
        [
         10,
         709,
         "STANDARD",
         "BDA SAN LUIS",
         null,
         "NOT ACCEPTABLE",
         18.14,
         -66.26,
         0.38,
         -0.86,
         0.31,
         "NA",
         "US",
         "Bda San Luis, PR",
         "NA-US-PR-BDA SAN LUIS",
         false,
         null,
         null,
         null,
         null
        ],
        [
         61391,
         76166,
         "UNIQUE",
         "CINGULAR WIRELESS",
         "TX",
         "NOT ACCEPTABLE",
         32.72,
         -97.31,
         -0.1,
         -0.83,
         0.54,
         "NA",
         "US",
         "Cingular Wireless, TX",
         "NA-US-TX-CINGULAR WIRELESS",
         false,
         null,
         null,
         null,
         null
        ],
        [
         61392,
         76177,
         "STANDARD",
         "FORT WORTH",
         "TX",
         "PRIMARY",
         32.75,
         -97.33,
         -0.1,
         -0.83,
         0.54,
         "NA",
         "US",
         "Fort Worth, TX",
         "NA-US-TX-FORT WORTH",
         false,
         2126,
         4053,
         122396986,
         null
        ],
        [
         61393,
         76177,
         "STANDARD",
         "FT WORTH",
         "TX",
         "ACCEPTABLE",
         32.75,
         -97.33,
         -0.1,
         -0.83,
         0.54,
         "NA",
         "US",
         "Ft Worth, TX",
         "NA-US-TX-FT WORTH",
         false,
         2126,
         4053,
         122396986,
         null
        ],
        [
         4,
         704,
         "STANDARD",
         "URB EUGENE RICE",
         null,
         "NOT ACCEPTABLE",
         17.96,
         -66.22,
         0.38,
         -0.87,
         0.3,
         "NA",
         "US",
         "Urb Eugene Rice, PR",
         "NA-US-PR-URB EUGENE RICE",
         false,
         null,
         null,
         null,
         null
        ],
        [
         39827,
         85209,
         "STANDARD",
         "MESA",
         "AZ",
         "PRIMARY",
         33.37,
         -111.64,
         -0.3,
         -0.77,
         0.55,
         "NA",
         "US",
         "Mesa, AZ",
         "NA-US-AZ-MESA",
         false,
         14962,
         26883,
         563792730,
         "no NWS data, "
        ],
        [
         39828,
         85210,
         "STANDARD",
         "MESA",
         "AZ",
         "PRIMARY",
         33.38,
         -111.84,
         -0.31,
         -0.77,
         0.55,
         "NA",
         "US",
         "Mesa, AZ",
         "NA-US-AZ-MESA",
         false,
         14374,
         25446,
         471000465,
         null
        ],
        [
         49345,
         32046,
         "STANDARD",
         "HILLIARD",
         "FL",
         "PRIMARY",
         30.69,
         -81.92,
         0.12,
         -0.85,
         0.51,
         "NA",
         "US",
         "Hilliard, FL",
         "NA-US-FL-HILLIARD",
         false,
         3922,
         7443,
         133112149,
         null
        ],
        [
         49346,
         34445,
         "PO BOX",
         "HOLDER",
         "FL",
         "PRIMARY",
         28.96,
         -82.41,
         0.11,
         -0.86,
         0.48,
         "NA",
         "US",
         "Holder, FL",
         "NA-US-FL-HOLDER",
         false,
         null,
         null,
         null,
         null
        ],
        [
         49347,
         32564,
         "STANDARD",
         "HOLT",
         "FL",
         "PRIMARY",
         30.72,
         -86.67,
         0.04,
         -0.85,
         0.51,
         "NA",
         "US",
         "Holt, FL",
         "NA-US-FL-HOLT",
         false,
         1207,
         2190,
         36395913,
         null
        ],
        [
         49348,
         34487,
         "PO BOX",
         "HOMOSASSA",
         "FL",
         "PRIMARY",
         28.78,
         -82.61,
         0.11,
         -0.86,
         0.48,
         "NA",
         "US",
         "Homosassa, FL",
         "NA-US-FL-HOMOSASSA",
         false,
         null,
         null,
         null,
         null
        ],
        [
         10,
         708,
         "STANDARD",
         "BDA SAN LUIS",
         null,
         "NOT ACCEPTABLE",
         18.14,
         -66.26,
         0.38,
         -0.86,
         0.31,
         "NA",
         "US",
         "Bda San Luis, PR",
         "NA-US-PR-BDA SAN LUIS",
         false,
         null,
         null,
         null,
         null
        ],
        [
         3,
         704,
         "STANDARD",
         "SECT LANAUSSE",
         null,
         "NOT ACCEPTABLE",
         17.96,
         -66.22,
         0.38,
         -0.87,
         0.3,
         "NA",
         "US",
         "Sect Lanausse, PR",
         "NA-US-PR-SECT LANAUSSE",
         false,
         null,
         null,
         null,
         null
        ],
        [
         54354,
         36275,
         "PO BOX",
         "SPRING GARDEN",
         "AL",
         "PRIMARY",
         33.97,
         -85.55,
         0.06,
         -0.82,
         0.55,
         "NA",
         "US",
         "Spring Garden, AL",
         "NA-US-AL-SPRING GARDEN",
         false,
         null,
         null,
         null,
         null
        ],
        [
         54355,
         35146,
         "STANDARD",
         "SPRINGVILLE",
         "AL",
         "PRIMARY",
         33.77,
         -86.47,
         0.05,
         -0.82,
         0.55,
         "NA",
         "US",
         "Springville, AL",
         "NA-US-AL-SPRINGVILLE",
         false,
         4046,
         7845,
         172127599,
         null
        ],
        [
         54356,
         35585,
         "STANDARD",
         "SPRUCE PINE",
         "AL",
         "PRIMARY",
         34.37,
         -87.69,
         0.03,
         -0.82,
         0.56,
         "NA",
         "US",
         "Spruce Pine, AL",
         "NA-US-AL-SPRUCE PINE",
         false,
         610,
         1209,
         18525517,
         null
        ],
        [
         76511,
         27007,
         "STANDARD",
         "ASH HILL",
         "NC",
         "NOT ACCEPTABLE",
         36.4,
         -80.56,
         0.13,
         -0.79,
         0.59,
         "NA",
         "US",
         "Ash Hill, NC",
         "NA-US-NC-ASH HILL",
         false,
         842,
         1666,
         28876493,
         null
        ],
        [
         76512,
         27203,
         "STANDARD",
         "ASHEBORO",
         "NC",
         "PRIMARY",
         35.71,
         -79.81,
         0.14,
         -0.79,
         0.58,
         "NA",
         "US",
         "Asheboro, NC",
         "NA-US-NC-ASHEBORO",
         false,
         8355,
         15228,
         215474318,
         null
        ],
        [
         76513,
         27204,
         "PO BOX",
         "ASHEBORO",
         "NC",
         "PRIMARY",
         35.71,
         -79.81,
         0.14,
         -0.79,
         0.58,
         "NA",
         "US",
         "Asheboro, NC",
         "NA-US-NC-ASHEBORO",
         false,
         1035,
         1816,
         30322473,
         null
        ]
       ],
       "datasetInfos": [],
       "dbfsResultPath": null,
       "isJsonSchema": true,
       "metadata": {},
       "overflow": false,
       "plotOptions": {
        "customPlotOptions": {},
        "displayType": "table",
        "pivotAggregation": null,
        "pivotColumns": null,
        "xColumns": null,
        "yColumns": null
       },
       "removedWidgets": [],
       "schema": [
        {
         "metadata": "{}",
         "name": "RecordNumber",
         "type": "\"integer\""
        },
        {
         "metadata": "{}",
         "name": "Zipcode",
         "type": "\"integer\""
        },
        {
         "metadata": "{}",
         "name": "ZipCodeType",
         "type": "\"string\""
        },
        {
         "metadata": "{}",
         "name": "City",
         "type": "\"string\""
        },
        {
         "metadata": "{}",
         "name": "State",
         "type": "\"string\""
        },
        {
         "metadata": "{}",
         "name": "LocationType",
         "type": "\"string\""
        },
        {
         "metadata": "{}",
         "name": "Lat",
         "type": "\"double\""
        },
        {
         "metadata": "{}",
         "name": "Long",
         "type": "\"double\""
        },
        {
         "metadata": "{}",
         "name": "Xaxis",
         "type": "\"double\""
        },
        {
         "metadata": "{}",
         "name": "Yaxis",
         "type": "\"double\""
        },
        {
         "metadata": "{}",
         "name": "Zaxis",
         "type": "\"double\""
        },
        {
         "metadata": "{}",
         "name": "WorldRegion",
         "type": "\"string\""
        },
        {
         "metadata": "{}",
         "name": "Country",
         "type": "\"string\""
        },
        {
         "metadata": "{}",
         "name": "LocationText",
         "type": "\"string\""
        },
        {
         "metadata": "{}",
         "name": "Location",
         "type": "\"string\""
        },
        {
         "metadata": "{}",
         "name": "Decommisioned",
         "type": "\"boolean\""
        },
        {
         "metadata": "{}",
         "name": "TaxReturnsFiled",
         "type": "\"integer\""
        },
        {
         "metadata": "{}",
         "name": "EstimatedPopulation",
         "type": "\"integer\""
        },
        {
         "metadata": "{}",
         "name": "TotalWages",
         "type": "\"integer\""
        },
        {
         "metadata": "{}",
         "name": "Notes",
         "type": "\"string\""
        }
       ],
       "type": "table"
      }
     },
     "output_type": "display_data"
    }
   ],
   "source": [
    "# df4 is created in order to check how nullValue works\n",
    "# In this, Where ever PR is written, it will be marked as null through out the entire DataFrame\n",
    "df4 = spark.read.option(\"inferSchema\", True) \\\n",
    "    .option(\"header\", \"true\") \\\n",
    "    .option(\"nullValue\", \"PR\") \\\n",
    "        .csv(file_path)\n",
    "df4.createOrReplaceTempView(\"temp\")\n",
    "\n",
    "spark.sql(\"\"\"\n",
    "          SELECT * from temp\n",
    "          \"\"\")\\\n",
    "              .display()"
   ]
  },
  {
   "cell_type": "code",
   "execution_count": 0,
   "metadata": {
    "application/vnd.databricks.v1+cell": {
     "cellMetadata": {
      "byteLimit": 2048000,
      "rowLimit": 10000
     },
     "inputWidgets": {},
     "nuid": "229f296c-943c-4db4-8144-6c0b7b629e92",
     "showTitle": false,
     "title": ""
    }
   },
   "outputs": [
    {
     "output_type": "stream",
     "name": "stdout",
     "output_type": "stream",
     "text": [
      "+------------+-------+-----------+-------------------+-----+--------------+-----+-------+-----+-----+-----+-----------+-------+--------------------+--------------------+-------------+---------------+-------------------+----------+-------------+\n|RecordNumber|Zipcode|ZipCodeType|               City|State|  LocationType|  Lat|   Long|Xaxis|Yaxis|Zaxis|WorldRegion|Country|        LocationText|            Location|Decommisioned|TaxReturnsFiled|EstimatedPopulation|TotalWages|        Notes|\n+------------+-------+-----------+-------------------+-----+--------------+-----+-------+-----+-----+-----+-----------+-------+--------------------+--------------------+-------------+---------------+-------------------+----------+-------------+\n|           1|    704|   STANDARD|        PARC PARQUE|   PR|NOT ACCEPTABLE|17.96| -66.22| 0.38|-0.87|  0.3|         NA|     US|     Parc Parque, PR|NA-US-PR-PARC PARQUE|        false|           null|               null|      null|         null|\n|           2|    704|   STANDARD|PASEO COSTA DEL SUR|   PR|NOT ACCEPTABLE|17.96| -66.22| 0.38|-0.87|  0.3|         NA|     US|Paseo Costa Del S...|NA-US-PR-PASEO CO...|        false|           null|               null|      null|         null|\n|          10|    709|   STANDARD|       BDA SAN LUIS|   PR|NOT ACCEPTABLE|18.14| -66.26| 0.38|-0.86| 0.31|         NA|     US|    Bda San Luis, PR|NA-US-PR-BDA SAN ...|        false|           null|               null|      null|         null|\n|       61391|  76166|     UNIQUE|  CINGULAR WIRELESS|   TX|NOT ACCEPTABLE|32.72| -97.31| -0.1|-0.83| 0.54|         NA|     US|Cingular Wireless...|NA-US-TX-CINGULAR...|        false|           null|               null|      null|         null|\n|       61392|  76177|   STANDARD|         FORT WORTH|   TX|       PRIMARY|32.75| -97.33| -0.1|-0.83| 0.54|         NA|     US|      Fort Worth, TX| NA-US-TX-FORT WORTH|        false|           2126|               4053| 122396986|         null|\n|       61393|  76177|   STANDARD|           FT WORTH|   TX|    ACCEPTABLE|32.75| -97.33| -0.1|-0.83| 0.54|         NA|     US|        Ft Worth, TX|   NA-US-TX-FT WORTH|        false|           2126|               4053| 122396986|         null|\n|           4|    704|   STANDARD|    URB EUGENE RICE|   PR|NOT ACCEPTABLE|17.96| -66.22| 0.38|-0.87|  0.3|         NA|     US| Urb Eugene Rice, PR|NA-US-PR-URB EUGE...|        false|           null|               null|      null|         null|\n|       39827|  85209|   STANDARD|               MESA|   AZ|       PRIMARY|33.37|-111.64| -0.3|-0.77| 0.55|         NA|     US|            Mesa, AZ|       NA-US-AZ-MESA|        false|          14962|              26883| 563792730|no NWS data, |\n|       39828|  85210|   STANDARD|               MESA|   AZ|       PRIMARY|33.38|-111.84|-0.31|-0.77| 0.55|         NA|     US|            Mesa, AZ|       NA-US-AZ-MESA|        false|          14374|              25446| 471000465|         null|\n|       49345|  32046|   STANDARD|           HILLIARD|   FL|       PRIMARY|30.69| -81.92| 0.12|-0.85| 0.51|         NA|     US|        Hilliard, FL|   NA-US-FL-HILLIARD|        false|           3922|               7443| 133112149|         null|\n|       49346|  34445|     PO BOX|             HOLDER|   FL|       PRIMARY|28.96| -82.41| 0.11|-0.86| 0.48|         NA|     US|          Holder, FL|     NA-US-FL-HOLDER|        false|           null|               null|      null|         null|\n|       49347|  32564|   STANDARD|               HOLT|   FL|       PRIMARY|30.72| -86.67| 0.04|-0.85| 0.51|         NA|     US|            Holt, FL|       NA-US-FL-HOLT|        false|           1207|               2190|  36395913|         null|\n|       49348|  34487|     PO BOX|          HOMOSASSA|   FL|       PRIMARY|28.78| -82.61| 0.11|-0.86| 0.48|         NA|     US|       Homosassa, FL|  NA-US-FL-HOMOSASSA|        false|           null|               null|      null|         null|\n|          10|    708|   STANDARD|       BDA SAN LUIS|   PR|NOT ACCEPTABLE|18.14| -66.26| 0.38|-0.86| 0.31|         NA|     US|    Bda San Luis, PR|NA-US-PR-BDA SAN ...|        false|           null|               null|      null|         null|\n|           3|    704|   STANDARD|      SECT LANAUSSE|   PR|NOT ACCEPTABLE|17.96| -66.22| 0.38|-0.87|  0.3|         NA|     US|   Sect Lanausse, PR|NA-US-PR-SECT LAN...|        false|           null|               null|      null|         null|\n|       54354|  36275|     PO BOX|      SPRING GARDEN|   AL|       PRIMARY|33.97| -85.55| 0.06|-0.82| 0.55|         NA|     US|   Spring Garden, AL|NA-US-AL-SPRING G...|        false|           null|               null|      null|         null|\n|       54355|  35146|   STANDARD|        SPRINGVILLE|   AL|       PRIMARY|33.77| -86.47| 0.05|-0.82| 0.55|         NA|     US|     Springville, AL|NA-US-AL-SPRINGVILLE|        false|           4046|               7845| 172127599|         null|\n|       54356|  35585|   STANDARD|        SPRUCE PINE|   AL|       PRIMARY|34.37| -87.69| 0.03|-0.82| 0.56|         NA|     US|     Spruce Pine, AL|NA-US-AL-SPRUCE PINE|        false|            610|               1209|  18525517|         null|\n|       76511|  27007|   STANDARD|           ASH HILL|   NC|NOT ACCEPTABLE| 36.4| -80.56| 0.13|-0.79| 0.59|         NA|     US|        Ash Hill, NC|   NA-US-NC-ASH HILL|        false|            842|               1666|  28876493|         null|\n|       76512|  27203|   STANDARD|           ASHEBORO|   NC|       PRIMARY|35.71| -79.81| 0.14|-0.79| 0.58|         NA|     US|        Asheboro, NC|   NA-US-NC-ASHEBORO|        false|           8355|              15228| 215474318|         null|\n+------------+-------+-----------+-------------------+-----+--------------+-----+-------+-----+-----+-----+-----------+-------+--------------------+--------------------+-------------+---------------+-------------------+----------+-------------+\nonly showing top 20 rows\n\n"
     ]
    }
   ],
   "source": [
    "# df5 is created in order to understand the concept of dateFormat\n",
    "df5 = spark.read.option(\"inferSchema\", True) \\\n",
    "    .option(\"header\", True)\\\n",
    "    .option(\"dateFormat\", \"dd-MMM-yyyy\")\\\n",
    "        .csv(file_path)\n",
    "df5.show()"
   ]
  },
  {
   "cell_type": "code",
   "execution_count": 0,
   "metadata": {
    "application/vnd.databricks.v1+cell": {
     "cellMetadata": {
      "byteLimit": 2048000,
      "rowLimit": 10000
     },
     "inputWidgets": {},
     "nuid": "2d4aed6f-e5d3-4308-ab29-febadaff8025",
     "showTitle": false,
     "title": ""
    }
   },
   "outputs": [
    {
     "output_type": "stream",
     "name": "stdout",
     "output_type": "stream",
     "text": [
      "+------------+-------+-----------+-------------------+-----+--------------+-----+-------+-----+-----+-----+-----------+-------+--------------------+--------------------+-------------+---------------+-------------------+----------+-------------+\n|RecordNumber|Zipcode|ZipCodeType|               City|State|   LocationTyp|  Lat|   Long|Xaxis|Yaxis|Zaxis|WorldRegion|Country|        LocationText|            Location|Decommisioned|TaxReturnsFiled|EstimatedPopulation|TotalWages|        Notes|\n+------------+-------+-----------+-------------------+-----+--------------+-----+-------+-----+-----+-----+-----------+-------+--------------------+--------------------+-------------+---------------+-------------------+----------+-------------+\n|           1|    704|   STANDARD|        PARC PARQUE|   PR|NOT ACCEPTABLE|17.96| -66.22| null|-0.87|  0.3|         NA|     US|     Parc Parque, PR|NA-US-PR-PARC PARQUE|        false|           null|               null|      null|         null|\n|           2|    704|   STANDARD|PASEO COSTA DEL SUR|   PR|NOT ACCEPTABLE|17.96| -66.22| null|-0.87|  0.3|         NA|     US|Paseo Costa Del S...|NA-US-PR-PASEO CO...|        false|           null|               null|      null|         null|\n|          10|    709|   STANDARD|       BDA SAN LUIS|   PR|NOT ACCEPTABLE|18.14| -66.26| null|-0.86| 0.31|         NA|     US|    Bda San Luis, PR|NA-US-PR-BDA SAN ...|        false|           null|               null|      null|         null|\n|       61391|  76166|     UNIQUE|  CINGULAR WIRELESS|   TX|NOT ACCEPTABLE|32.72| -97.31| null|-0.83| 0.54|         NA|     US|Cingular Wireless...|NA-US-TX-CINGULAR...|        false|           null|               null|      null|         null|\n|       61392|  76177|   STANDARD|         FORT WORTH|   TX|       PRIMARY|32.75| -97.33| null|-0.83| 0.54|         NA|     US|      Fort Worth, TX| NA-US-TX-FORT WORTH|        false|           2126|               4053| 122396986|         null|\n|       61393|  76177|   STANDARD|           FT WORTH|   TX|    ACCEPTABLE|32.75| -97.33| null|-0.83| 0.54|         NA|     US|        Ft Worth, TX|   NA-US-TX-FT WORTH|        false|           2126|               4053| 122396986|         null|\n|           4|    704|   STANDARD|    URB EUGENE RICE|   PR|NOT ACCEPTABLE|17.96| -66.22| null|-0.87|  0.3|         NA|     US| Urb Eugene Rice, PR|NA-US-PR-URB EUGE...|        false|           null|               null|      null|         null|\n|       39827|  85209|   STANDARD|               MESA|   AZ|       PRIMARY|33.37|-111.64| null|-0.77| 0.55|         NA|     US|            Mesa, AZ|       NA-US-AZ-MESA|        false|          14962|              26883| 563792730|no NWS data, |\n|       39828|  85210|   STANDARD|               MESA|   AZ|       PRIMARY|33.38|-111.84| null|-0.77| 0.55|         NA|     US|            Mesa, AZ|       NA-US-AZ-MESA|        false|          14374|              25446| 471000465|         null|\n|       49345|  32046|   STANDARD|           HILLIARD|   FL|       PRIMARY|30.69| -81.92| null|-0.85| 0.51|         NA|     US|        Hilliard, FL|   NA-US-FL-HILLIARD|        false|           3922|               7443| 133112149|         null|\n|       49346|  34445|     PO BOX|             HOLDER|   FL|       PRIMARY|28.96| -82.41| null|-0.86| 0.48|         NA|     US|          Holder, FL|     NA-US-FL-HOLDER|        false|           null|               null|      null|         null|\n|       49347|  32564|   STANDARD|               HOLT|   FL|       PRIMARY|30.72| -86.67| null|-0.85| 0.51|         NA|     US|            Holt, FL|       NA-US-FL-HOLT|        false|           1207|               2190|  36395913|         null|\n|       49348|  34487|     PO BOX|          HOMOSASSA|   FL|       PRIMARY|28.78| -82.61| null|-0.86| 0.48|         NA|     US|       Homosassa, FL|  NA-US-FL-HOMOSASSA|        false|           null|               null|      null|         null|\n|          10|    708|   STANDARD|       BDA SAN LUIS|   PR|NOT ACCEPTABLE|18.14| -66.26| null|-0.86| 0.31|         NA|     US|    Bda San Luis, PR|NA-US-PR-BDA SAN ...|        false|           null|               null|      null|         null|\n|           3|    704|   STANDARD|      SECT LANAUSSE|   PR|NOT ACCEPTABLE|17.96| -66.22| null|-0.87|  0.3|         NA|     US|   Sect Lanausse, PR|NA-US-PR-SECT LAN...|        false|           null|               null|      null|         null|\n|       54354|  36275|     PO BOX|      SPRING GARDEN|   AL|       PRIMARY|33.97| -85.55| null|-0.82| 0.55|         NA|     US|   Spring Garden, AL|NA-US-AL-SPRING G...|        false|           null|               null|      null|         null|\n|       54355|  35146|   STANDARD|        SPRINGVILLE|   AL|       PRIMARY|33.77| -86.47| null|-0.82| 0.55|         NA|     US|     Springville, AL|NA-US-AL-SPRINGVILLE|        false|           4046|               7845| 172127599|         null|\n|       54356|  35585|   STANDARD|        SPRUCE PINE|   AL|       PRIMARY|34.37| -87.69| null|-0.82| 0.56|         NA|     US|     Spruce Pine, AL|NA-US-AL-SPRUCE PINE|        false|            610|               1209|  18525517|         null|\n|       76511|  27007|   STANDARD|           ASH HILL|   NC|NOT ACCEPTABLE| 36.4| -80.56| null|-0.79| 0.59|         NA|     US|        Ash Hill, NC|   NA-US-NC-ASH HILL|        false|            842|               1666|  28876493|         null|\n|       76512|  27203|   STANDARD|           ASHEBORO|   NC|       PRIMARY|35.71| -79.81| null|-0.79| 0.58|         NA|     US|        Asheboro, NC|   NA-US-NC-ASHEBORO|        false|           8355|              15228| 215474318|         null|\n+------------+-------+-----------+-------------------+-----+--------------+-----+-------+-----+-----+-----+-----------+-------+--------------------+--------------------+-------------+---------------+-------------------+----------+-------------+\nonly showing top 20 rows\n\n"
     ]
    }
   ],
   "source": [
    "# Providing Custom Schema in case we donot want to use the inferSchema\n",
    "# Create a schema\n",
    "from pyspark.sql.types import StructType, IntegerType, StringType, DoubleType, BooleanType\n",
    "schema = StructType() \\\n",
    "    .add(\"RecordNumber\", IntegerType(), True) \\\n",
    "    .add(\"Zipcode\",IntegerType(),True) \\\n",
    "    .add(\"ZipCodeType\",StringType(),True) \\\n",
    "    .add(\"City\",StringType(),True) \\\n",
    "    .add(\"State\",StringType(),True) \\\n",
    "    .add(\"LocationType\",StringType(),True) \\\n",
    "    .add(\"Lat\",DoubleType(),True) \\\n",
    "    .add(\"Long\",DoubleType(),True) \\\n",
    "    .add(\"Xaxis\",IntegerType(),True) \\\n",
    "    .add(\"Yaxis\",DoubleType(),True) \\\n",
    "    .add(\"Zaxis\",DoubleType(),True) \\\n",
    "    .add(\"WorldRegion\",StringType(),True) \\\n",
    "    .add(\"Country\",StringType(),True) \\\n",
    "    .add(\"LocationText\",StringType(),True) \\\n",
    "    .add(\"Location\",StringType(),True) \\\n",
    "    .add(\"Decommisioned\",BooleanType(),True) \\\n",
    "    .add(\"TaxReturnsFiled\",StringType(),True) \\\n",
    "    .add(\"EstimatedPopulation\",IntegerType(),True) \\\n",
    "    .add(\"TotalWages\",IntegerType(),True) \\\n",
    "    .add(\"Notes\",StringType(),True)\n",
    "\n",
    "# Reading the CSV format into DataFrame\n",
    "df6 = spark.read.format(\"csv\")\\\n",
    "    .option(\"header\", True)\\\n",
    "    .schema(schema)\\\n",
    "        .load(file_path)\n",
    "df6.show()"
   ]
  },
  {
   "cell_type": "markdown",
   "metadata": {
    "application/vnd.databricks.v1+cell": {
     "cellMetadata": {},
     "inputWidgets": {},
     "nuid": "871542e0-3ad7-4335-824f-91dcd9d395c3",
     "showTitle": false,
     "title": ""
    }
   },
   "source": [
    "# 2. Writing DataFrame into CSV"
   ]
  },
  {
   "cell_type": "code",
   "execution_count": 0,
   "metadata": {
    "application/vnd.databricks.v1+cell": {
     "cellMetadata": {
      "byteLimit": 2048000,
      "rowLimit": 10000
     },
     "inputWidgets": {},
     "nuid": "8e3c170f-e65d-46ce-a3a6-dcec29fa9cb7",
     "showTitle": false,
     "title": ""
    }
   },
   "outputs": [],
   "source": [
    "path = \"/dbfs/temp/zip.csv\"\n",
    "\n",
    "# Writing into CSV File\n",
    "df5.write.option(\"header\", True)\\\n",
    "    .option(\"mode\", \"overwrite\")\\\n",
    "    .csv(path)\n",
    "\n",
    "# Checking whether it is saved by loading it again\n",
    "df7 = spark.read.format(\"csv\")\\\n",
    "    .option(\"header\", \"True\")\\\n",
    "    .option(\"inferSchema\", \"True\")\\\n",
    "    .load(path)\n",
    "df7.show()"
   ]
  },
  {
   "cell_type": "code",
   "execution_count": 0,
   "metadata": {
    "application/vnd.databricks.v1+cell": {
     "cellMetadata": {
      "byteLimit": 2048000,
      "rowLimit": 10000
     },
     "inputWidgets": {},
     "nuid": "f1d1bcfa-c476-4244-b11c-b36207d64a1e",
     "showTitle": false,
     "title": ""
    }
   },
   "outputs": [],
   "source": [
    "# Saving into csv\n",
    "file_p = \"/dbfs/temp/zipcode_csv\"\n",
    "df4.write.format(\"csv\")\\\n",
    "    .mode(\"overwrite\")\\\n",
    "    .option(\"header\", \"true\")\\\n",
    "    .option(\"inferschema\", True)\\\n",
    "        .save(file_p)\n",
    "\n",
    "# Checking it is existing or not\n",
    "df8 = spark.read.option(\"header\", \"true\").csv(file_p)\n",
    "df8.show()"
   ]
  }
 ],
 "metadata": {
  "application/vnd.databricks.v1+notebook": {
   "dashboards": [],
   "language": "python",
   "notebookMetadata": {
    "pythonIndentUnit": 4
   },
   "notebookName": "Read  & Write CSV File",
   "widgets": {}
  }
 },
 "nbformat": 4,
 "nbformat_minor": 0
}
