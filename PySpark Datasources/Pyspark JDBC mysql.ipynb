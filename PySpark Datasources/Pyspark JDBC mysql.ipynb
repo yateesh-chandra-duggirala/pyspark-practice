{
 "cells": [
  {
   "cell_type": "markdown",
   "id": "50efb2fb-f735-419c-84b1-63fa32cdeed0",
   "metadata": {},
   "source": [
    "## System Environment Variables"
   ]
  },
  {
   "cell_type": "code",
   "execution_count": 1,
   "id": "95ad47d9-3aeb-497d-bce4-ea9e033125b3",
   "metadata": {},
   "outputs": [],
   "source": [
    "import os\n",
    "import sys\n",
    "os.environ[\"PYSPARK_PYTHON\"] = sys.executable\n",
    "os.environ[\"PYSPARK_DRIVER_PYTHON\"] = sys.executable"
   ]
  },
  {
   "cell_type": "markdown",
   "id": "55332c77-fabe-4f9d-a11d-463005b9f478",
   "metadata": {},
   "source": [
    "## SparkSession"
   ]
  },
  {
   "cell_type": "code",
   "execution_count": 2,
   "id": "768b0a59-6033-4f06-b5db-795d5de15fa6",
   "metadata": {},
   "outputs": [],
   "source": [
    "from pyspark.sql import SparkSession\n",
    "\n",
    "# Create SparkSession- with configuration\n",
    "spark = SparkSession.builder \\\n",
    "           .appName('Read JDBC') \\\n",
    "           .config(\"spark.jars\", \"mysql-connector-java-8.0.13.jar\") \\\n",
    "           .getOrCreate()"
   ]
  },
  {
   "cell_type": "markdown",
   "id": "a007e179-57ea-42d1-9d5a-d44c935b4e60",
   "metadata": {},
   "source": [
    "## Read table using jdbc()"
   ]
  },
  {
   "cell_type": "code",
   "execution_count": 3,
   "id": "a61ac407-3f06-4048-b429-b313e2411847",
   "metadata": {},
   "outputs": [
    {
     "name": "stdout",
     "output_type": "stream",
     "text": [
      "+----------+---------+--------+----------+--------------------+--------+\n",
      "|EmployeeID|FirstName|LastName|Department|            Position|  Salary|\n",
      "+----------+---------+--------+----------+--------------------+--------+\n",
      "|         1|     John|     Doe|        IT|   Software Engineer|75000.00|\n",
      "|         2|     Jane|   Smith|        HR|          HR Manager|80000.00|\n",
      "|         3|  Michael| Johnson|   Finance|          Accountant|65000.00|\n",
      "|         4|    Emily|Williams| Marketing|Marketing Specialist|70000.00|\n",
      "|         5|   Daniel|   Brown|        IT|System Administrator|70000.00|\n",
      "|         6|   Olivia|   Jones|   Finance|   Financial Analyst|72000.00|\n",
      "|         7|     Liam|  Miller| Marketing|Marketing Coordin...|60000.00|\n",
      "|         8|   Sophia|   Davis|        HR|        HR Assistant|55000.00|\n",
      "|         9|    Aiden|Anderson|        IT|Database Administ...|78000.00|\n",
      "|        10|      Mia|Martinez|   Finance|   Senior Accountant|85000.00|\n",
      "|        11|    Ethan|  Taylor| Marketing|     Product Manager|90000.00|\n",
      "|        12| Isabella|   Moore|        HR|Recruitment Speci...|68000.00|\n",
      "|        13|    Caden|   White|        IT|    Network Engineer|72000.00|\n",
      "|        14|      Ava|   Clark|   Finance|   Financial Manager|95000.00|\n",
      "|        15|    Logan|  Wilson| Marketing|Public Relations ...|72000.00|\n",
      "+----------+---------+--------+----------+--------------------+--------+\n",
      "\n"
     ]
    }
   ],
   "source": [
    "jdbc_url = \"jdbc:mysql://127.0.0.1:3306\"\n",
    "jdbc_database = \"employee\"\n",
    "jdbc_table = \"employee\"\n",
    "jdbc_credentials = {\n",
    "    \"user\" : \"yatee\",\n",
    "    \"password\" : \"03072001\",\n",
    "    \"driver\" : \"com.mysql.cj.jdbc.Driver\"\n",
    "}\n",
    "\n",
    "df = spark.read \\\n",
    "    .jdbc(jdbc_url + \"/\" + jdbc_database,\\\n",
    "          jdbc_table, \\\n",
    "          properties=jdbc_credentials)\n",
    "df.show()"
   ]
  },
  {
   "cell_type": "markdown",
   "id": "2a03437e-ade8-487c-bb52-cb8580a5629b",
   "metadata": {},
   "source": [
    "## Read from MySQL with JDBC Options"
   ]
  },
  {
   "cell_type": "code",
   "execution_count": 4,
   "id": "efe71059-1726-4b75-a337-477a8d3ee33a",
   "metadata": {},
   "outputs": [
    {
     "name": "stdout",
     "output_type": "stream",
     "text": [
      "root\n",
      " |-- EmployeeID: integer (nullable = true)\n",
      " |-- FirstName: string (nullable = true)\n",
      " |-- LastName: string (nullable = true)\n",
      " |-- Department: string (nullable = true)\n",
      " |-- Position: string (nullable = true)\n",
      " |-- Salary: decimal(10,2) (nullable = true)\n",
      "\n"
     ]
    }
   ],
   "source": [
    "df = spark.read \\\n",
    "    .format(\"jdbc\") \\\n",
    "    .option(\"url\", \"jdbc:mysql://localhost:3306/employee\") \\\n",
    "    .option(\"user\", \"yatee\") \\\n",
    "    .option(\"password\", \"03072001\") \\\n",
    "    .option(\"driver\", \"com.mysql.cj.jdbc.Driver\")\\\n",
    "    .option(\"dbtable\", \"employee\") \\\n",
    "    .load()\n",
    "df.printSchema()"
   ]
  },
  {
   "cell_type": "markdown",
   "id": "411d3f4c-70e3-411b-8d71-81084e7af87b",
   "metadata": {},
   "source": [
    "## Specific Columns from MySql"
   ]
  },
  {
   "cell_type": "code",
   "execution_count": 5,
   "id": "cdd6067d-541a-4f34-90e4-c0d99314dcbb",
   "metadata": {},
   "outputs": [
    {
     "name": "stdout",
     "output_type": "stream",
     "text": [
      "+---------+--------------------+--------+\n",
      "|FirstName|            Position|  Salary|\n",
      "+---------+--------------------+--------+\n",
      "|   Olivia|   Financial Analyst|72000.00|\n",
      "|    Caden|    Network Engineer|72000.00|\n",
      "|    Logan|Public Relations ...|72000.00|\n",
      "+---------+--------------------+--------+\n",
      "\n"
     ]
    }
   ],
   "source": [
    "df = spark.read \\\n",
    "    .format(\"jdbc\") \\\n",
    "    .option(\"url\", \"jdbc:mysql://localhost:3306/employee\") \\\n",
    "    .option(\"driver\", \"com.mysql.cj.jdbc.Driver\") \\\n",
    "    .option(\"query\", \"select FirstName,Position,Salary from employee where Salary=72000.00\") \\\n",
    "    .option(\"user\", \"yatee\") \\\n",
    "    .option(\"password\", \"03072001\") \\\n",
    "    .load()\n",
    "\n",
    "df.show()"
   ]
  }
 ],
 "metadata": {
  "kernelspec": {
   "display_name": "Python 3 (ipykernel)",
   "language": "python",
   "name": "python3"
  },
  "language_info": {
   "codemirror_mode": {
    "name": "ipython",
    "version": 3
   },
   "file_extension": ".py",
   "mimetype": "text/x-python",
   "name": "python",
   "nbconvert_exporter": "python",
   "pygments_lexer": "ipython3",
   "version": "3.11.5"
  }
 },
 "nbformat": 4,
 "nbformat_minor": 5
}
