{
 "cells": [
  {
   "cell_type": "markdown",
   "id": "2d95397e-9034-47d5-9b77-57cf9483911b",
   "metadata": {
    "jp-MarkdownHeadingCollapsed": true
   },
   "source": [
    "##  Setting Environment Variables"
   ]
  },
  {
   "cell_type": "code",
   "execution_count": 1,
   "id": "2ce76fec-8ab3-432c-81d7-97a9598a33df",
   "metadata": {},
   "outputs": [],
   "source": [
    "import os\n",
    "import sys\n",
    "os.environ[\"PYSPARK_PYTHON\"] = sys.executable\n",
    "os.environ[\"PYSPARK_DRIVER_PYTHON\"] = sys.executable"
   ]
  },
  {
   "cell_type": "markdown",
   "id": "d1f1c874-4577-41e8-bf57-3ba1db2557c6",
   "metadata": {
    "jp-MarkdownHeadingCollapsed": true
   },
   "source": [
    "## Creating SparkSession"
   ]
  },
  {
   "cell_type": "code",
   "execution_count": 2,
   "id": "f95ac2d5-d794-4f58-ba2c-6f39eafaed87",
   "metadata": {},
   "outputs": [],
   "source": [
    "from pyspark.sql import SparkSession\n",
    "\n",
    "# Create SparkSession- with configuration\n",
    "spark = SparkSession.builder \\\n",
    "           .appName('Read JDBC from postgres') \\\n",
    "           .config(\"spark.jars\", \"postgresql-42.7.1.jar\") \\\n",
    "           .getOrCreate()"
   ]
  },
  {
   "cell_type": "markdown",
   "id": "b9447f5a-4676-4900-acc9-318c8cfceb5b",
   "metadata": {
    "jp-MarkdownHeadingCollapsed": true
   },
   "source": [
    "## Reading Data from PostgresDB"
   ]
  },
  {
   "cell_type": "code",
   "execution_count": 6,
   "id": "64089c16-7a92-413c-b371-b648491e1b2c",
   "metadata": {},
   "outputs": [
    {
     "name": "stdout",
     "output_type": "stream",
     "text": [
      "+----+-------------+----------+\n",
      "|  id|         name|percentage|\n",
      "+----+-------------+----------+\n",
      "|   1|       Tinkle|     98.65|\n",
      "|   2|Sesha sainath|     87.00|\n",
      "|1901|        Priya|     84.00|\n",
      "|   3|         Ajay|     80.00|\n",
      "+----+-------------+----------+\n",
      "\n"
     ]
    }
   ],
   "source": [
    "df = spark.read.format(\"jdbc\")\\\n",
    "    .option(\"url\", \"jdbc:postgresql://localhost:5432/db\")\\\n",
    "    .option(\"user\", \"postgres\")\\\n",
    "    .option(\"password\", \"postgres\")\\\n",
    "    .option(\"driver\", \"org.postgresql.Driver\")\\\n",
    "    .option(\"dbtable\", \"data\")\\\n",
    "    .load()\n",
    "df.show()"
   ]
  },
  {
   "cell_type": "code",
   "execution_count": 12,
   "id": "2ec96b2d-eafb-4ca7-a160-319079c40125",
   "metadata": {},
   "outputs": [
    {
     "name": "stdout",
     "output_type": "stream",
     "text": [
      "+-----+---------------+-------+\n",
      "|hr_id|        hr_name| salary|\n",
      "+-----+---------------+-------+\n",
      "|    1|Yateesh Chandra|56000.0|\n",
      "|    2|    Ramakrishna|65000.0|\n",
      "|    3|       Mahendra|60000.0|\n",
      "+-----+---------------+-------+\n",
      "\n"
     ]
    }
   ],
   "source": [
    "jdbc_url = \"jdbc:postgresql://127.0.0.1:5432\"\n",
    "database_name = \"organization\"\n",
    "table_name = \"hr\"\n",
    "properities = {\n",
    "    'user' : 'postgres',\n",
    "    'password' : 'postgres',\n",
    "    'driver' : 'org.postgresql.Driver'  \n",
    "}\n",
    "\n",
    "df2 = spark.read.jdbc(jdbc_url + \"/\" + database_name , table_name, properties = properities)\n",
    "df2.show()"
   ]
  }
 ],
 "metadata": {
  "kernelspec": {
   "display_name": "Python 3 (ipykernel)",
   "language": "python",
   "name": "python3"
  },
  "language_info": {
   "codemirror_mode": {
    "name": "ipython",
    "version": 3
   },
   "file_extension": ".py",
   "mimetype": "text/x-python",
   "name": "python",
   "nbconvert_exporter": "python",
   "pygments_lexer": "ipython3",
   "version": "3.11.5"
  }
 },
 "nbformat": 4,
 "nbformat_minor": 5
}
