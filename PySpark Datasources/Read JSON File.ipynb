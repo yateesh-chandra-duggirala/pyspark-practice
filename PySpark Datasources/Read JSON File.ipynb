{
 "cells": [
  {
   "cell_type": "markdown",
   "metadata": {
    "application/vnd.databricks.v1+cell": {
     "cellMetadata": {},
     "inputWidgets": {},
     "nuid": "7cd25355-7219-4d4e-b162-5ff148719b2e",
     "showTitle": false,
     "title": ""
    }
   },
   "source": [
    "# Variables with path to the json file"
   ]
  },
  {
   "cell_type": "code",
   "execution_count": null,
   "metadata": {
    "application/vnd.databricks.v1+cell": {
     "cellMetadata": {
      "byteLimit": 2048000,
      "rowLimit": 10000
     },
     "inputWidgets": {},
     "nuid": "f8c23a57-bf6f-429e-b2c4-5f25097aa4e6",
     "showTitle": false,
     "title": ""
    }
   },
   "outputs": [],
   "source": [
    "json_file_mz = \"dbfs:/FileStore/shared_uploads/yateed1437@gmail.com/multiline_zipcode.json\"\n",
    "json_file = \"dbfs:/FileStore/shared_uploads/yateed1437@gmail.com/zipcodes.json\"\n",
    "json_zc1 = \"dbfs:/FileStore/shared_uploads/yateed1437@gmail.com/zipcode2.json\"\n",
    "json_zc2 = \"dbfs:/FileStore/shared_uploads/yateed1437@gmail.com/zipcode1.json\""
   ]
  },
  {
   "cell_type": "markdown",
   "metadata": {
    "application/vnd.databricks.v1+cell": {
     "cellMetadata": {},
     "inputWidgets": {},
     "nuid": "a537b28a-13dc-49b1-84dc-1f24b4ec126d",
     "showTitle": false,
     "title": ""
    }
   },
   "source": [
    "# Reading with json()"
   ]
  },
  {
   "cell_type": "code",
   "execution_count": null,
   "metadata": {
    "application/vnd.databricks.v1+cell": {
     "cellMetadata": {
      "byteLimit": 2048000,
      "rowLimit": 10000
     },
     "inputWidgets": {},
     "nuid": "19cfc4b0-46c5-4b1f-b6fd-da3c0233f926",
     "showTitle": false,
     "title": ""
    }
   },
   "outputs": [
    {
     "name": "stdout",
     "output_type": "stream",
     "text": [
      "root\n",
      " |-- City: string (nullable = true)\n",
      " |-- Country: string (nullable = true)\n",
      " |-- Decommisioned: boolean (nullable = true)\n",
      " |-- EstimatedPopulation: long (nullable = true)\n",
      " |-- Lat: double (nullable = true)\n",
      " |-- Location: string (nullable = true)\n",
      " |-- LocationText: string (nullable = true)\n",
      " |-- LocationType: string (nullable = true)\n",
      " |-- Long: double (nullable = true)\n",
      " |-- Notes: string (nullable = true)\n",
      " |-- RecordNumber: long (nullable = true)\n",
      " |-- State: string (nullable = true)\n",
      " |-- TaxReturnsFiled: long (nullable = true)\n",
      " |-- TotalWages: long (nullable = true)\n",
      " |-- WorldRegion: string (nullable = true)\n",
      " |-- Xaxis: double (nullable = true)\n",
      " |-- Yaxis: double (nullable = true)\n",
      " |-- Zaxis: double (nullable = true)\n",
      " |-- ZipCodeType: string (nullable = true)\n",
      " |-- Zipcode: long (nullable = true)\n",
      "\n",
      "+-------------------+-------+-------------+-------------------+-----+--------------------+--------------------+--------------+-------+-------------+------------+-----+---------------+----------+-----------+-----+-----+-----+-----------+-------+\n",
      "|               City|Country|Decommisioned|EstimatedPopulation|  Lat|            Location|        LocationText|  LocationType|   Long|        Notes|RecordNumber|State|TaxReturnsFiled|TotalWages|WorldRegion|Xaxis|Yaxis|Zaxis|ZipCodeType|Zipcode|\n",
      "+-------------------+-------+-------------+-------------------+-----+--------------------+--------------------+--------------+-------+-------------+------------+-----+---------------+----------+-----------+-----+-----+-----+-----------+-------+\n",
      "|        PARC PARQUE|     US|        false|               NULL|17.96|NA-US-PR-PARC PARQUE|     Parc Parque, PR|NOT ACCEPTABLE| -66.22|         NULL|           1|   PR|           NULL|      NULL|         NA| 0.38|-0.87|  0.3|   STANDARD|    704|\n",
      "|PASEO COSTA DEL SUR|     US|        false|               NULL|17.96|NA-US-PR-PASEO CO...|Paseo Costa Del S...|NOT ACCEPTABLE| -66.22|         NULL|           2|   PR|           NULL|      NULL|         NA| 0.38|-0.87|  0.3|   STANDARD|    704|\n",
      "|       BDA SAN LUIS|     US|        false|               NULL|18.14|NA-US-PR-BDA SAN ...|    Bda San Luis, PR|NOT ACCEPTABLE| -66.26|         NULL|          10|   PR|           NULL|      NULL|         NA| 0.38|-0.86| 0.31|   STANDARD|    709|\n",
      "|  CINGULAR WIRELESS|     US|        false|               NULL|32.72|NA-US-TX-CINGULAR...|Cingular Wireless...|NOT ACCEPTABLE| -97.31|         NULL|       61391|   TX|           NULL|      NULL|         NA| -0.1|-0.83| 0.54|     UNIQUE|  76166|\n",
      "|         FORT WORTH|     US|        false|               4053|32.75| NA-US-TX-FORT WORTH|      Fort Worth, TX|       PRIMARY| -97.33|         NULL|       61392|   TX|           2126| 122396986|         NA| -0.1|-0.83| 0.54|   STANDARD|  76177|\n",
      "|           FT WORTH|     US|        false|               4053|32.75|   NA-US-TX-FT WORTH|        Ft Worth, TX|    ACCEPTABLE| -97.33|         NULL|       61393|   TX|           2126| 122396986|         NA| -0.1|-0.83| 0.54|   STANDARD|  76177|\n",
      "|    URB EUGENE RICE|     US|        false|               NULL|17.96|NA-US-PR-URB EUGE...| Urb Eugene Rice, PR|NOT ACCEPTABLE| -66.22|         NULL|           4|   PR|           NULL|      NULL|         NA| 0.38|-0.87|  0.3|   STANDARD|    704|\n",
      "|               MESA|     US|        false|              26883|33.37|       NA-US-AZ-MESA|            Mesa, AZ|       PRIMARY|-111.64|no NWS data, |       39827|   AZ|          14962| 563792730|         NA| -0.3|-0.77| 0.55|   STANDARD|  85209|\n",
      "|               MESA|     US|        false|              25446|33.38|       NA-US-AZ-MESA|            Mesa, AZ|       PRIMARY|-111.84|         NULL|       39828|   AZ|          14374| 471000465|         NA|-0.31|-0.77| 0.55|   STANDARD|  85210|\n",
      "|           HILLIARD|     US|        false|               7443|30.69|   NA-US-FL-HILLIARD|        Hilliard, FL|       PRIMARY| -81.92|         NULL|       49345|   FL|           3922| 133112149|         NA| 0.12|-0.85| 0.51|   STANDARD|  32046|\n",
      "|             HOLDER|     US|        false|               NULL|28.96|     NA-US-FL-HOLDER|          Holder, FL|       PRIMARY| -82.41|         NULL|       49346|   FL|           NULL|      NULL|         NA| 0.11|-0.86| 0.48|     PO BOX|  34445|\n",
      "|               HOLT|     US|        false|               2190|30.72|       NA-US-FL-HOLT|            Holt, FL|       PRIMARY| -86.67|         NULL|       49347|   FL|           1207|  36395913|         NA| 0.04|-0.85| 0.51|   STANDARD|  32564|\n",
      "|          HOMOSASSA|     US|        false|               NULL|28.78|  NA-US-FL-HOMOSASSA|       Homosassa, FL|       PRIMARY| -82.61|         NULL|       49348|   FL|           NULL|      NULL|         NA| 0.11|-0.86| 0.48|     PO BOX|  34487|\n",
      "|       BDA SAN LUIS|     US|        false|               NULL|18.14|NA-US-PR-BDA SAN ...|    Bda San Luis, PR|NOT ACCEPTABLE| -66.26|         NULL|          10|   PR|           NULL|      NULL|         NA| 0.38|-0.86| 0.31|   STANDARD|    708|\n",
      "|      SECT LANAUSSE|     US|        false|               NULL|17.96|NA-US-PR-SECT LAN...|   Sect Lanausse, PR|NOT ACCEPTABLE| -66.22|         NULL|           3|   PR|           NULL|      NULL|         NA| 0.38|-0.87|  0.3|   STANDARD|    704|\n",
      "|      SPRING GARDEN|     US|        false|               NULL|33.97|NA-US-AL-SPRING G...|   Spring Garden, AL|       PRIMARY| -85.55|         NULL|       54354|   AL|           NULL|      NULL|         NA| 0.06|-0.82| 0.55|     PO BOX|  36275|\n",
      "|        SPRINGVILLE|     US|        false|               7845|33.77|NA-US-AL-SPRINGVILLE|     Springville, AL|       PRIMARY| -86.47|         NULL|       54355|   AL|           4046| 172127599|         NA| 0.05|-0.82| 0.55|   STANDARD|  35146|\n",
      "|        SPRUCE PINE|     US|        false|               1209|34.37|NA-US-AL-SPRUCE PINE|     Spruce Pine, AL|       PRIMARY| -87.69|         NULL|       54356|   AL|            610|  18525517|         NA| 0.03|-0.82| 0.56|   STANDARD|  35585|\n",
      "|           ASH HILL|     US|        false|               1666| 36.4|   NA-US-NC-ASH HILL|        Ash Hill, NC|NOT ACCEPTABLE| -80.56|         NULL|       76511|   NC|            842|  28876493|         NA| 0.13|-0.79| 0.59|   STANDARD|  27007|\n",
      "|           ASHEBORO|     US|        false|              15228|35.71|   NA-US-NC-ASHEBORO|        Asheboro, NC|       PRIMARY| -79.81|         NULL|       76512|   NC|           8355| 215474318|         NA| 0.14|-0.79| 0.58|   STANDARD|  27203|\n",
      "+-------------------+-------+-------------+-------------------+-----+--------------------+--------------------+--------------+-------+-------------+------------+-----+---------------+----------+-----------+-----+-----+-----+-----------+-------+\n",
      "only showing top 20 rows\n",
      "\n"
     ]
    }
   ],
   "source": [
    "df = spark.read.json(\"dbfs:/FileStore/shared_uploads/yateed1437@gmail.com/zipcodes.json\")\n",
    "df.printSchema()\n",
    "df.show()"
   ]
  },
  {
   "cell_type": "markdown",
   "metadata": {
    "application/vnd.databricks.v1+cell": {
     "cellMetadata": {
      "byteLimit": 2048000,
      "rowLimit": 10000
     },
     "inputWidgets": {},
     "nuid": "235902b3-cb18-4b3f-b06a-8be0929433d2",
     "showTitle": false,
     "title": ""
    }
   },
   "source": [
    "# Reading with format()"
   ]
  },
  {
   "cell_type": "code",
   "execution_count": null,
   "metadata": {
    "application/vnd.databricks.v1+cell": {
     "cellMetadata": {
      "byteLimit": 2048000,
      "rowLimit": 10000
     },
     "inputWidgets": {},
     "nuid": "36d3c938-bf11-4451-bc5b-1e34a13956e6",
     "showTitle": false,
     "title": ""
    }
   },
   "outputs": [],
   "source": [
    "df = spark.read.format('org.apache.spark.sql.json') \\\n",
    "        .load(json_file)"
   ]
  },
  {
   "cell_type": "markdown",
   "metadata": {
    "application/vnd.databricks.v1+cell": {
     "cellMetadata": {},
     "inputWidgets": {},
     "nuid": "d220ac33-2f93-4e7e-b997-41ad093ceb43",
     "showTitle": false,
     "title": ""
    }
   },
   "source": [
    "# Reading with multiline option()"
   ]
  },
  {
   "cell_type": "code",
   "execution_count": null,
   "metadata": {
    "application/vnd.databricks.v1+cell": {
     "cellMetadata": {
      "byteLimit": 2048000,
      "rowLimit": 10000
     },
     "inputWidgets": {},
     "nuid": "a61bce04-1b16-4361-b0f0-f787f126575a",
     "showTitle": false,
     "title": ""
    }
   },
   "outputs": [
    {
     "name": "stdout",
     "output_type": "stream",
     "text": [
      "+-------------------+------------+-----+-----------+-------+\n",
      "|               City|RecordNumber|State|ZipCodeType|Zipcode|\n",
      "+-------------------+------------+-----+-----------+-------+\n",
      "|PASEO COSTA DEL SUR|           2|   PR|   STANDARD|    704|\n",
      "|       BDA SAN LUIS|          10|   PR|   STANDARD|    709|\n",
      "+-------------------+------------+-----+-----------+-------+\n",
      "\n"
     ]
    }
   ],
   "source": [
    "multiline_df = spark.read.option(\"multiline\", \"true\")\\\n",
    "    .json(json_file_mz)\n",
    "multiline_df.show()"
   ]
  },
  {
   "cell_type": "markdown",
   "metadata": {
    "application/vnd.databricks.v1+cell": {
     "cellMetadata": {},
     "inputWidgets": {},
     "nuid": "7a37e99c-095d-437a-a7e2-0608f3c49f9b",
     "showTitle": false,
     "title": ""
    }
   },
   "source": [
    "# Reading multiple files at once"
   ]
  },
  {
   "cell_type": "code",
   "execution_count": null,
   "metadata": {
    "application/vnd.databricks.v1+cell": {
     "cellMetadata": {
      "byteLimit": 2048000,
      "rowLimit": 10000
     },
     "inputWidgets": {},
     "nuid": "ab92878d-5404-4e40-b55e-c8f8b50dad31",
     "showTitle": false,
     "title": ""
    }
   },
   "outputs": [
    {
     "name": "stdout",
     "output_type": "stream",
     "text": [
      "+-------------------+-------+-------------+-----+--------------------+--------------------+--------------+------+------------+-----+-----------+-----+-----+-----+-----------+-------+\n",
      "|               City|Country|Decommisioned|  Lat|            Location|        LocationText|  LocationType|  Long|RecordNumber|State|WorldRegion|Xaxis|Yaxis|Zaxis|ZipCodeType|Zipcode|\n",
      "+-------------------+-------+-------------+-----+--------------------+--------------------+--------------+------+------------+-----+-----------+-----+-----+-----+-----------+-------+\n",
      "|PASEO COSTA DEL SUR|     US|        false|17.96|NA-US-PR-PASEO CO...|Paseo Costa Del S...|NOT ACCEPTABLE|-66.22|           2|   PR|         NA| 0.38|-0.87|  0.3|   STANDARD|    704|\n",
      "|       BDA SAN LUIS|     US|        false|18.14|NA-US-PR-BDA SAN ...|    Bda San Luis, PR|NOT ACCEPTABLE|-66.26|          10|   PR|         NA| 0.38|-0.86| 0.31|   STANDARD|    709|\n",
      "|        PARC PARQUE|     US|        false|17.96|NA-US-PR-PARC PARQUE|     Parc Parque, PR|NOT ACCEPTABLE|-66.22|           1|   PR|         NA| 0.38|-0.87|  0.3|   STANDARD|    704|\n",
      "+-------------------+-------+-------------+-----+--------------------+--------------------+--------------+------+------------+-----+-----------+-----+-----+-----+-----------+-------+\n",
      "\n"
     ]
    }
   ],
   "source": [
    "mul_df = spark.read.json([json_zc1, json_zc2])\n",
    "mul_df.show()"
   ]
  },
  {
   "cell_type": "markdown",
   "metadata": {
    "application/vnd.databricks.v1+cell": {
     "cellMetadata": {},
     "inputWidgets": {},
     "nuid": "31b5687e-34eb-4ee6-b3d4-60e5c2e81d62",
     "showTitle": false,
     "title": ""
    }
   },
   "source": [
    "# Reading all files in Folder"
   ]
  },
  {
   "cell_type": "code",
   "execution_count": null,
   "metadata": {
    "application/vnd.databricks.v1+cell": {
     "cellMetadata": {
      "byteLimit": 2048000,
      "rowLimit": 10000
     },
     "inputWidgets": {},
     "nuid": "eada7275-eb35-4e1a-bb74-c8c884c7fe63",
     "showTitle": false,
     "title": ""
    }
   },
   "outputs": [
    {
     "name": "stdout",
     "output_type": "stream",
     "text": [
      "+-------------------+-------+-------------+-------------------+-----+--------------------+--------------------+--------------+-------+-------------+------------+-----+---------------+----------+-----------+-----+-----+-----+-----------+-------+---------------+\n",
      "|               City|Country|Decommisioned|EstimatedPopulation|  Lat|            Location|        LocationText|  LocationType|   Long|        Notes|RecordNumber|State|TaxReturnsFiled|TotalWages|WorldRegion|Xaxis|Yaxis|Zaxis|ZipCodeType|Zipcode|_corrupt_record|\n",
      "+-------------------+-------+-------------+-------------------+-----+--------------------+--------------------+--------------+-------+-------------+------------+-----+---------------+----------+-----------+-----+-----+-----+-----------+-------+---------------+\n",
      "|        PARC PARQUE|     US|        false|               NULL|17.96|NA-US-PR-PARC PARQUE|     Parc Parque, PR|NOT ACCEPTABLE| -66.22|         NULL|           1|   PR|           NULL|      NULL|         NA| 0.38|-0.87|  0.3|   STANDARD|    704|           NULL|\n",
      "|PASEO COSTA DEL SUR|     US|        false|               NULL|17.96|NA-US-PR-PASEO CO...|Paseo Costa Del S...|NOT ACCEPTABLE| -66.22|         NULL|           2|   PR|           NULL|      NULL|         NA| 0.38|-0.87|  0.3|   STANDARD|    704|           NULL|\n",
      "|       BDA SAN LUIS|     US|        false|               NULL|18.14|NA-US-PR-BDA SAN ...|    Bda San Luis, PR|NOT ACCEPTABLE| -66.26|         NULL|          10|   PR|           NULL|      NULL|         NA| 0.38|-0.86| 0.31|   STANDARD|    709|           NULL|\n",
      "|  CINGULAR WIRELESS|     US|        false|               NULL|32.72|NA-US-TX-CINGULAR...|Cingular Wireless...|NOT ACCEPTABLE| -97.31|         NULL|       61391|   TX|           NULL|      NULL|         NA| -0.1|-0.83| 0.54|     UNIQUE|  76166|           NULL|\n",
      "|         FORT WORTH|     US|        false|               4053|32.75| NA-US-TX-FORT WORTH|      Fort Worth, TX|       PRIMARY| -97.33|         NULL|       61392|   TX|           2126| 122396986|         NA| -0.1|-0.83| 0.54|   STANDARD|  76177|           NULL|\n",
      "|           FT WORTH|     US|        false|               4053|32.75|   NA-US-TX-FT WORTH|        Ft Worth, TX|    ACCEPTABLE| -97.33|         NULL|       61393|   TX|           2126| 122396986|         NA| -0.1|-0.83| 0.54|   STANDARD|  76177|           NULL|\n",
      "|    URB EUGENE RICE|     US|        false|               NULL|17.96|NA-US-PR-URB EUGE...| Urb Eugene Rice, PR|NOT ACCEPTABLE| -66.22|         NULL|           4|   PR|           NULL|      NULL|         NA| 0.38|-0.87|  0.3|   STANDARD|    704|           NULL|\n",
      "|               MESA|     US|        false|              26883|33.37|       NA-US-AZ-MESA|            Mesa, AZ|       PRIMARY|-111.64|no NWS data, |       39827|   AZ|          14962| 563792730|         NA| -0.3|-0.77| 0.55|   STANDARD|  85209|           NULL|\n",
      "|               MESA|     US|        false|              25446|33.38|       NA-US-AZ-MESA|            Mesa, AZ|       PRIMARY|-111.84|         NULL|       39828|   AZ|          14374| 471000465|         NA|-0.31|-0.77| 0.55|   STANDARD|  85210|           NULL|\n",
      "|           HILLIARD|     US|        false|               7443|30.69|   NA-US-FL-HILLIARD|        Hilliard, FL|       PRIMARY| -81.92|         NULL|       49345|   FL|           3922| 133112149|         NA| 0.12|-0.85| 0.51|   STANDARD|  32046|           NULL|\n",
      "|             HOLDER|     US|        false|               NULL|28.96|     NA-US-FL-HOLDER|          Holder, FL|       PRIMARY| -82.41|         NULL|       49346|   FL|           NULL|      NULL|         NA| 0.11|-0.86| 0.48|     PO BOX|  34445|           NULL|\n",
      "|               HOLT|     US|        false|               2190|30.72|       NA-US-FL-HOLT|            Holt, FL|       PRIMARY| -86.67|         NULL|       49347|   FL|           1207|  36395913|         NA| 0.04|-0.85| 0.51|   STANDARD|  32564|           NULL|\n",
      "|          HOMOSASSA|     US|        false|               NULL|28.78|  NA-US-FL-HOMOSASSA|       Homosassa, FL|       PRIMARY| -82.61|         NULL|       49348|   FL|           NULL|      NULL|         NA| 0.11|-0.86| 0.48|     PO BOX|  34487|           NULL|\n",
      "|       BDA SAN LUIS|     US|        false|               NULL|18.14|NA-US-PR-BDA SAN ...|    Bda San Luis, PR|NOT ACCEPTABLE| -66.26|         NULL|          10|   PR|           NULL|      NULL|         NA| 0.38|-0.86| 0.31|   STANDARD|    708|           NULL|\n",
      "|      SECT LANAUSSE|     US|        false|               NULL|17.96|NA-US-PR-SECT LAN...|   Sect Lanausse, PR|NOT ACCEPTABLE| -66.22|         NULL|           3|   PR|           NULL|      NULL|         NA| 0.38|-0.87|  0.3|   STANDARD|    704|           NULL|\n",
      "|      SPRING GARDEN|     US|        false|               NULL|33.97|NA-US-AL-SPRING G...|   Spring Garden, AL|       PRIMARY| -85.55|         NULL|       54354|   AL|           NULL|      NULL|         NA| 0.06|-0.82| 0.55|     PO BOX|  36275|           NULL|\n",
      "|        SPRINGVILLE|     US|        false|               7845|33.77|NA-US-AL-SPRINGVILLE|     Springville, AL|       PRIMARY| -86.47|         NULL|       54355|   AL|           4046| 172127599|         NA| 0.05|-0.82| 0.55|   STANDARD|  35146|           NULL|\n",
      "|        SPRUCE PINE|     US|        false|               1209|34.37|NA-US-AL-SPRUCE PINE|     Spruce Pine, AL|       PRIMARY| -87.69|         NULL|       54356|   AL|            610|  18525517|         NA| 0.03|-0.82| 0.56|   STANDARD|  35585|           NULL|\n",
      "|           ASH HILL|     US|        false|               1666| 36.4|   NA-US-NC-ASH HILL|        Ash Hill, NC|NOT ACCEPTABLE| -80.56|         NULL|       76511|   NC|            842|  28876493|         NA| 0.13|-0.79| 0.59|   STANDARD|  27007|           NULL|\n",
      "|           ASHEBORO|     US|        false|              15228|35.71|   NA-US-NC-ASHEBORO|        Asheboro, NC|       PRIMARY| -79.81|         NULL|       76512|   NC|           8355| 215474318|         NA| 0.14|-0.79| 0.58|   STANDARD|  27203|           NULL|\n",
      "+-------------------+-------+-------------+-------------------+-----+--------------------+--------------------+--------------+-------+-------------+------------+-----+---------------+----------+-----------+-----+-----+-----+-----------+-------+---------------+\n",
      "only showing top 20 rows\n",
      "\n"
     ]
    }
   ],
   "source": [
    "all_json = spark.read.json(\"dbfs:/FileStore/shared_uploads/yateed1437@gmail.com/*.json\")\n",
    "all_json.show()"
   ]
  },
  {
   "cell_type": "markdown",
   "metadata": {
    "application/vnd.databricks.v1+cell": {
     "cellMetadata": {},
     "inputWidgets": {},
     "nuid": "14824594-b4bb-4891-b6bb-04d70a4696a1",
     "showTitle": false,
     "title": ""
    }
   },
   "source": [
    "# Defining our own schema"
   ]
  },
  {
   "cell_type": "code",
   "execution_count": null,
   "metadata": {
    "application/vnd.databricks.v1+cell": {
     "cellMetadata": {
      "byteLimit": 2048000,
      "rowLimit": 10000
     },
     "inputWidgets": {},
     "nuid": "6f7744f7-2471-43d8-810d-3193bee6e3de",
     "showTitle": false,
     "title": ""
    }
   },
   "outputs": [
    {
     "name": "stdout",
     "output_type": "stream",
     "text": [
      "+------------+-------+-----------+-------------------+-----+--------------+-----+-------+-----+-----+-----+-----------+-------+--------------------+--------------------+-------------+---------------+-------------------+----------+-------------+\n",
      "|RecordNumber|Zipcode|ZipCodeType|               City|State|  LocationType|  Lat|   Long|Xaxis|Yaxis|Zaxis|WorldRegion|Country|        LocationText|            Location|Decommisioned|TaxReturnsFiled|EstimatedPopulation|TotalWages|        Notes|\n",
      "+------------+-------+-----------+-------------------+-----+--------------+-----+-------+-----+-----+-----+-----------+-------+--------------------+--------------------+-------------+---------------+-------------------+----------+-------------+\n",
      "|           1|    704|   STANDARD|        PARC PARQUE|   PR|NOT ACCEPTABLE|17.96| -66.22| null|-0.87|  0.3|         NA|     US|     Parc Parque, PR|NA-US-PR-PARC PARQUE|        false|           null|               null|      null|         null|\n",
      "|           2|    704|   STANDARD|PASEO COSTA DEL SUR|   PR|NOT ACCEPTABLE|17.96| -66.22| null|-0.87|  0.3|         NA|     US|Paseo Costa Del S...|NA-US-PR-PASEO CO...|        false|           null|               null|      null|         null|\n",
      "|          10|    709|   STANDARD|       BDA SAN LUIS|   PR|NOT ACCEPTABLE|18.14| -66.26| null|-0.86| 0.31|         NA|     US|    Bda San Luis, PR|NA-US-PR-BDA SAN ...|        false|           null|               null|      null|         null|\n",
      "|       61391|  76166|     UNIQUE|  CINGULAR WIRELESS|   TX|NOT ACCEPTABLE|32.72| -97.31| null|-0.83| 0.54|         NA|     US|Cingular Wireless...|NA-US-TX-CINGULAR...|        false|           null|               null|      null|         null|\n",
      "|       61392|  76177|   STANDARD|         FORT WORTH|   TX|       PRIMARY|32.75| -97.33| null|-0.83| 0.54|         NA|     US|      Fort Worth, TX| NA-US-TX-FORT WORTH|        false|           2126|               4053| 122396986|         null|\n",
      "|       61393|  76177|   STANDARD|           FT WORTH|   TX|    ACCEPTABLE|32.75| -97.33| null|-0.83| 0.54|         NA|     US|        Ft Worth, TX|   NA-US-TX-FT WORTH|        false|           2126|               4053| 122396986|         null|\n",
      "|           4|    704|   STANDARD|    URB EUGENE RICE|   PR|NOT ACCEPTABLE|17.96| -66.22| null|-0.87|  0.3|         NA|     US| Urb Eugene Rice, PR|NA-US-PR-URB EUGE...|        false|           null|               null|      null|         null|\n",
      "|       39827|  85209|   STANDARD|               MESA|   AZ|       PRIMARY|33.37|-111.64| null|-0.77| 0.55|         NA|     US|            Mesa, AZ|       NA-US-AZ-MESA|        false|          14962|              26883| 563792730|no NWS data, |\n",
      "|       39828|  85210|   STANDARD|               MESA|   AZ|       PRIMARY|33.38|-111.84| null|-0.77| 0.55|         NA|     US|            Mesa, AZ|       NA-US-AZ-MESA|        false|          14374|              25446| 471000465|         null|\n",
      "|       49345|  32046|   STANDARD|           HILLIARD|   FL|       PRIMARY|30.69| -81.92| null|-0.85| 0.51|         NA|     US|        Hilliard, FL|   NA-US-FL-HILLIARD|        false|           3922|               7443| 133112149|         null|\n",
      "|       49346|  34445|     PO BOX|             HOLDER|   FL|       PRIMARY|28.96| -82.41| null|-0.86| 0.48|         NA|     US|          Holder, FL|     NA-US-FL-HOLDER|        false|           null|               null|      null|         null|\n",
      "|       49347|  32564|   STANDARD|               HOLT|   FL|       PRIMARY|30.72| -86.67| null|-0.85| 0.51|         NA|     US|            Holt, FL|       NA-US-FL-HOLT|        false|           1207|               2190|  36395913|         null|\n",
      "|       49348|  34487|     PO BOX|          HOMOSASSA|   FL|       PRIMARY|28.78| -82.61| null|-0.86| 0.48|         NA|     US|       Homosassa, FL|  NA-US-FL-HOMOSASSA|        false|           null|               null|      null|         null|\n",
      "|          10|    708|   STANDARD|       BDA SAN LUIS|   PR|NOT ACCEPTABLE|18.14| -66.26| null|-0.86| 0.31|         NA|     US|    Bda San Luis, PR|NA-US-PR-BDA SAN ...|        false|           null|               null|      null|         null|\n",
      "|           3|    704|   STANDARD|      SECT LANAUSSE|   PR|NOT ACCEPTABLE|17.96| -66.22| null|-0.87|  0.3|         NA|     US|   Sect Lanausse, PR|NA-US-PR-SECT LAN...|        false|           null|               null|      null|         null|\n",
      "|       54354|  36275|     PO BOX|      SPRING GARDEN|   AL|       PRIMARY|33.97| -85.55| null|-0.82| 0.55|         NA|     US|   Spring Garden, AL|NA-US-AL-SPRING G...|        false|           null|               null|      null|         null|\n",
      "|       54355|  35146|   STANDARD|        SPRINGVILLE|   AL|       PRIMARY|33.77| -86.47| null|-0.82| 0.55|         NA|     US|     Springville, AL|NA-US-AL-SPRINGVILLE|        false|           4046|               7845| 172127599|         null|\n",
      "|       54356|  35585|   STANDARD|        SPRUCE PINE|   AL|       PRIMARY|34.37| -87.69| null|-0.82| 0.56|         NA|     US|     Spruce Pine, AL|NA-US-AL-SPRUCE PINE|        false|            610|               1209|  18525517|         null|\n",
      "|       76511|  27007|   STANDARD|           ASH HILL|   NC|NOT ACCEPTABLE| 36.4| -80.56| null|-0.79| 0.59|         NA|     US|        Ash Hill, NC|   NA-US-NC-ASH HILL|        false|            842|               1666|  28876493|         null|\n",
      "|       76512|  27203|   STANDARD|           ASHEBORO|   NC|       PRIMARY|35.71| -79.81| null|-0.79| 0.58|         NA|     US|        Asheboro, NC|   NA-US-NC-ASHEBORO|        false|           8355|              15228| 215474318|         null|\n",
      "+------------+-------+-----------+-------------------+-----+--------------+-----+-------+-----+-----+-----+-----------+-------+--------------------+--------------------+-------------+---------------+-------------------+----------+-------------+\n",
      "only showing top 20 rows\n",
      "\n"
     ]
    }
   ],
   "source": [
    "from pyspark.sql.types import StructType, StructField, IntegerType, DoubleType, StringType, BooleanType\n",
    "schema = StructType([\n",
    "    StructField(\"RecordNumber\",IntegerType(),True),\n",
    "      StructField(\"Zipcode\",IntegerType(),True),\n",
    "      StructField(\"ZipCodeType\",StringType(),True),\n",
    "      StructField(\"City\",StringType(),True),\n",
    "      StructField(\"State\",StringType(),True),\n",
    "      StructField(\"LocationType\",StringType(),True),\n",
    "      StructField(\"Lat\",DoubleType(),True),\n",
    "      StructField(\"Long\",DoubleType(),True),\n",
    "      StructField(\"Xaxis\",IntegerType(),True),\n",
    "      StructField(\"Yaxis\",DoubleType(),True),\n",
    "      StructField(\"Zaxis\",DoubleType(),True),\n",
    "      StructField(\"WorldRegion\",StringType(),True),\n",
    "      StructField(\"Country\",StringType(),True),\n",
    "      StructField(\"LocationText\",StringType(),True),\n",
    "      StructField(\"Location\",StringType(),True),\n",
    "      StructField(\"Decommisioned\",BooleanType(),True),\n",
    "      StructField(\"TaxReturnsFiled\",StringType(),True),\n",
    "      StructField(\"EstimatedPopulation\",IntegerType(),True),\n",
    "      StructField(\"TotalWages\",IntegerType(),True),\n",
    "      StructField(\"Notes\",StringType(),True)\n",
    "])\n",
    "\n",
    "df1 = spark.read.schema(schema)\\\n",
    "    .json(json_file)\n",
    "df1.show()"
   ]
  },
  {
   "cell_type": "code",
   "execution_count": null,
   "metadata": {
    "application/vnd.databricks.v1+cell": {
     "cellMetadata": {
      "byteLimit": 2048000,
      "rowLimit": 10000
     },
     "inputWidgets": {},
     "nuid": "23655c5d-056c-4e1a-a3b3-f0b59a3f08fb",
     "showTitle": false,
     "title": ""
    }
   },
   "outputs": [
    {
     "data": {
      "text/html": [
       "<style scoped>\n",
       "  .table-result-container {\n",
       "    max-height: 300px;\n",
       "    overflow: auto;\n",
       "  }\n",
       "  table, th, td {\n",
       "    border: 1px solid black;\n",
       "    border-collapse: collapse;\n",
       "  }\n",
       "  th, td {\n",
       "    padding: 5px;\n",
       "  }\n",
       "  th {\n",
       "    text-align: left;\n",
       "  }\n",
       "</style><div class='table-result-container'><table class='table-result'><thead style='background-color: white'><tr><th>RecordNumber</th><th>Zipcode</th><th>ZipCodeType</th><th>City</th><th>State</th><th>LocationType</th><th>Lat</th><th>Long</th><th>Xaxis</th><th>Yaxis</th><th>Zaxis</th><th>WorldRegion</th><th>Country</th><th>LocationText</th><th>Location</th><th>Decommisioned</th><th>TaxReturnsFiled</th><th>EstimatedPopulation</th><th>TotalWages</th><th>Notes</th></tr></thead><tbody><tr><td>1</td><td>704</td><td>STANDARD</td><td>PARC PARQUE</td><td>PR</td><td>NOT ACCEPTABLE</td><td>17.96</td><td>-66.22</td><td>null</td><td>-0.87</td><td>0.3</td><td>NA</td><td>US</td><td>Parc Parque, PR</td><td>NA-US-PR-PARC PARQUE</td><td>false</td><td>null</td><td>null</td><td>null</td><td>null</td></tr><tr><td>2</td><td>704</td><td>STANDARD</td><td>PASEO COSTA DEL SUR</td><td>PR</td><td>NOT ACCEPTABLE</td><td>17.96</td><td>-66.22</td><td>null</td><td>-0.87</td><td>0.3</td><td>NA</td><td>US</td><td>Paseo Costa Del Sur, PR</td><td>NA-US-PR-PASEO COSTA DEL SUR</td><td>false</td><td>null</td><td>null</td><td>null</td><td>null</td></tr><tr><td>10</td><td>709</td><td>STANDARD</td><td>BDA SAN LUIS</td><td>PR</td><td>NOT ACCEPTABLE</td><td>18.14</td><td>-66.26</td><td>null</td><td>-0.86</td><td>0.31</td><td>NA</td><td>US</td><td>Bda San Luis, PR</td><td>NA-US-PR-BDA SAN LUIS</td><td>false</td><td>null</td><td>null</td><td>null</td><td>null</td></tr><tr><td>61391</td><td>76166</td><td>UNIQUE</td><td>CINGULAR WIRELESS</td><td>TX</td><td>NOT ACCEPTABLE</td><td>32.72</td><td>-97.31</td><td>null</td><td>-0.83</td><td>0.54</td><td>NA</td><td>US</td><td>Cingular Wireless, TX</td><td>NA-US-TX-CINGULAR WIRELESS</td><td>false</td><td>null</td><td>null</td><td>null</td><td>null</td></tr><tr><td>61392</td><td>76177</td><td>STANDARD</td><td>FORT WORTH</td><td>TX</td><td>PRIMARY</td><td>32.75</td><td>-97.33</td><td>null</td><td>-0.83</td><td>0.54</td><td>NA</td><td>US</td><td>Fort Worth, TX</td><td>NA-US-TX-FORT WORTH</td><td>false</td><td>2126</td><td>4053</td><td>122396986</td><td>null</td></tr><tr><td>61393</td><td>76177</td><td>STANDARD</td><td>FT WORTH</td><td>TX</td><td>ACCEPTABLE</td><td>32.75</td><td>-97.33</td><td>null</td><td>-0.83</td><td>0.54</td><td>NA</td><td>US</td><td>Ft Worth, TX</td><td>NA-US-TX-FT WORTH</td><td>false</td><td>2126</td><td>4053</td><td>122396986</td><td>null</td></tr><tr><td>4</td><td>704</td><td>STANDARD</td><td>URB EUGENE RICE</td><td>PR</td><td>NOT ACCEPTABLE</td><td>17.96</td><td>-66.22</td><td>null</td><td>-0.87</td><td>0.3</td><td>NA</td><td>US</td><td>Urb Eugene Rice, PR</td><td>NA-US-PR-URB EUGENE RICE</td><td>false</td><td>null</td><td>null</td><td>null</td><td>null</td></tr><tr><td>39827</td><td>85209</td><td>STANDARD</td><td>MESA</td><td>AZ</td><td>PRIMARY</td><td>33.37</td><td>-111.64</td><td>null</td><td>-0.77</td><td>0.55</td><td>NA</td><td>US</td><td>Mesa, AZ</td><td>NA-US-AZ-MESA</td><td>false</td><td>14962</td><td>26883</td><td>563792730</td><td>no NWS data, </td></tr><tr><td>39828</td><td>85210</td><td>STANDARD</td><td>MESA</td><td>AZ</td><td>PRIMARY</td><td>33.38</td><td>-111.84</td><td>null</td><td>-0.77</td><td>0.55</td><td>NA</td><td>US</td><td>Mesa, AZ</td><td>NA-US-AZ-MESA</td><td>false</td><td>14374</td><td>25446</td><td>471000465</td><td>null</td></tr><tr><td>49345</td><td>32046</td><td>STANDARD</td><td>HILLIARD</td><td>FL</td><td>PRIMARY</td><td>30.69</td><td>-81.92</td><td>null</td><td>-0.85</td><td>0.51</td><td>NA</td><td>US</td><td>Hilliard, FL</td><td>NA-US-FL-HILLIARD</td><td>false</td><td>3922</td><td>7443</td><td>133112149</td><td>null</td></tr><tr><td>49346</td><td>34445</td><td>PO BOX</td><td>HOLDER</td><td>FL</td><td>PRIMARY</td><td>28.96</td><td>-82.41</td><td>null</td><td>-0.86</td><td>0.48</td><td>NA</td><td>US</td><td>Holder, FL</td><td>NA-US-FL-HOLDER</td><td>false</td><td>null</td><td>null</td><td>null</td><td>null</td></tr><tr><td>49347</td><td>32564</td><td>STANDARD</td><td>HOLT</td><td>FL</td><td>PRIMARY</td><td>30.72</td><td>-86.67</td><td>null</td><td>-0.85</td><td>0.51</td><td>NA</td><td>US</td><td>Holt, FL</td><td>NA-US-FL-HOLT</td><td>false</td><td>1207</td><td>2190</td><td>36395913</td><td>null</td></tr><tr><td>49348</td><td>34487</td><td>PO BOX</td><td>HOMOSASSA</td><td>FL</td><td>PRIMARY</td><td>28.78</td><td>-82.61</td><td>null</td><td>-0.86</td><td>0.48</td><td>NA</td><td>US</td><td>Homosassa, FL</td><td>NA-US-FL-HOMOSASSA</td><td>false</td><td>null</td><td>null</td><td>null</td><td>null</td></tr><tr><td>10</td><td>708</td><td>STANDARD</td><td>BDA SAN LUIS</td><td>PR</td><td>NOT ACCEPTABLE</td><td>18.14</td><td>-66.26</td><td>null</td><td>-0.86</td><td>0.31</td><td>NA</td><td>US</td><td>Bda San Luis, PR</td><td>NA-US-PR-BDA SAN LUIS</td><td>false</td><td>null</td><td>null</td><td>null</td><td>null</td></tr><tr><td>3</td><td>704</td><td>STANDARD</td><td>SECT LANAUSSE</td><td>PR</td><td>NOT ACCEPTABLE</td><td>17.96</td><td>-66.22</td><td>null</td><td>-0.87</td><td>0.3</td><td>NA</td><td>US</td><td>Sect Lanausse, PR</td><td>NA-US-PR-SECT LANAUSSE</td><td>false</td><td>null</td><td>null</td><td>null</td><td>null</td></tr><tr><td>54354</td><td>36275</td><td>PO BOX</td><td>SPRING GARDEN</td><td>AL</td><td>PRIMARY</td><td>33.97</td><td>-85.55</td><td>null</td><td>-0.82</td><td>0.55</td><td>NA</td><td>US</td><td>Spring Garden, AL</td><td>NA-US-AL-SPRING GARDEN</td><td>false</td><td>null</td><td>null</td><td>null</td><td>null</td></tr><tr><td>54355</td><td>35146</td><td>STANDARD</td><td>SPRINGVILLE</td><td>AL</td><td>PRIMARY</td><td>33.77</td><td>-86.47</td><td>null</td><td>-0.82</td><td>0.55</td><td>NA</td><td>US</td><td>Springville, AL</td><td>NA-US-AL-SPRINGVILLE</td><td>false</td><td>4046</td><td>7845</td><td>172127599</td><td>null</td></tr><tr><td>54356</td><td>35585</td><td>STANDARD</td><td>SPRUCE PINE</td><td>AL</td><td>PRIMARY</td><td>34.37</td><td>-87.69</td><td>null</td><td>-0.82</td><td>0.56</td><td>NA</td><td>US</td><td>Spruce Pine, AL</td><td>NA-US-AL-SPRUCE PINE</td><td>false</td><td>610</td><td>1209</td><td>18525517</td><td>null</td></tr><tr><td>76511</td><td>27007</td><td>STANDARD</td><td>ASH HILL</td><td>NC</td><td>NOT ACCEPTABLE</td><td>36.4</td><td>-80.56</td><td>null</td><td>-0.79</td><td>0.59</td><td>NA</td><td>US</td><td>Ash Hill, NC</td><td>NA-US-NC-ASH HILL</td><td>false</td><td>842</td><td>1666</td><td>28876493</td><td>null</td></tr><tr><td>76512</td><td>27203</td><td>STANDARD</td><td>ASHEBORO</td><td>NC</td><td>PRIMARY</td><td>35.71</td><td>-79.81</td><td>null</td><td>-0.79</td><td>0.58</td><td>NA</td><td>US</td><td>Asheboro, NC</td><td>NA-US-NC-ASHEBORO</td><td>false</td><td>8355</td><td>15228</td><td>215474318</td><td>null</td></tr><tr><td>76513</td><td>27204</td><td>PO BOX</td><td>ASHEBORO</td><td>NC</td><td>PRIMARY</td><td>35.71</td><td>-79.81</td><td>null</td><td>-0.79</td><td>0.58</td><td>NA</td><td>US</td><td>Asheboro, NC</td><td>NA-US-NC-ASHEBORO</td><td>false</td><td>1035</td><td>1816</td><td>30322473</td><td>null</td></tr></tbody></table></div>"
      ]
     },
     "metadata": {
      "application/vnd.databricks.v1+output": {
       "addedWidgets": {},
       "aggData": [],
       "aggError": "",
       "aggOverflow": false,
       "aggSchema": [],
       "aggSeriesLimitReached": false,
       "aggType": "",
       "arguments": {},
       "columnCustomDisplayInfos": {},
       "data": [
        [
         1,
         704,
         "STANDARD",
         "PARC PARQUE",
         "PR",
         "NOT ACCEPTABLE",
         17.96,
         -66.22,
         null,
         -0.87,
         0.3,
         "NA",
         "US",
         "Parc Parque, PR",
         "NA-US-PR-PARC PARQUE",
         false,
         null,
         null,
         null,
         null
        ],
        [
         2,
         704,
         "STANDARD",
         "PASEO COSTA DEL SUR",
         "PR",
         "NOT ACCEPTABLE",
         17.96,
         -66.22,
         null,
         -0.87,
         0.3,
         "NA",
         "US",
         "Paseo Costa Del Sur, PR",
         "NA-US-PR-PASEO COSTA DEL SUR",
         false,
         null,
         null,
         null,
         null
        ],
        [
         10,
         709,
         "STANDARD",
         "BDA SAN LUIS",
         "PR",
         "NOT ACCEPTABLE",
         18.14,
         -66.26,
         null,
         -0.86,
         0.31,
         "NA",
         "US",
         "Bda San Luis, PR",
         "NA-US-PR-BDA SAN LUIS",
         false,
         null,
         null,
         null,
         null
        ],
        [
         61391,
         76166,
         "UNIQUE",
         "CINGULAR WIRELESS",
         "TX",
         "NOT ACCEPTABLE",
         32.72,
         -97.31,
         null,
         -0.83,
         0.54,
         "NA",
         "US",
         "Cingular Wireless, TX",
         "NA-US-TX-CINGULAR WIRELESS",
         false,
         null,
         null,
         null,
         null
        ],
        [
         61392,
         76177,
         "STANDARD",
         "FORT WORTH",
         "TX",
         "PRIMARY",
         32.75,
         -97.33,
         null,
         -0.83,
         0.54,
         "NA",
         "US",
         "Fort Worth, TX",
         "NA-US-TX-FORT WORTH",
         false,
         "2126",
         4053,
         122396986,
         null
        ],
        [
         61393,
         76177,
         "STANDARD",
         "FT WORTH",
         "TX",
         "ACCEPTABLE",
         32.75,
         -97.33,
         null,
         -0.83,
         0.54,
         "NA",
         "US",
         "Ft Worth, TX",
         "NA-US-TX-FT WORTH",
         false,
         "2126",
         4053,
         122396986,
         null
        ],
        [
         4,
         704,
         "STANDARD",
         "URB EUGENE RICE",
         "PR",
         "NOT ACCEPTABLE",
         17.96,
         -66.22,
         null,
         -0.87,
         0.3,
         "NA",
         "US",
         "Urb Eugene Rice, PR",
         "NA-US-PR-URB EUGENE RICE",
         false,
         null,
         null,
         null,
         null
        ],
        [
         39827,
         85209,
         "STANDARD",
         "MESA",
         "AZ",
         "PRIMARY",
         33.37,
         -111.64,
         null,
         -0.77,
         0.55,
         "NA",
         "US",
         "Mesa, AZ",
         "NA-US-AZ-MESA",
         false,
         "14962",
         26883,
         563792730,
         "no NWS data, "
        ],
        [
         39828,
         85210,
         "STANDARD",
         "MESA",
         "AZ",
         "PRIMARY",
         33.38,
         -111.84,
         null,
         -0.77,
         0.55,
         "NA",
         "US",
         "Mesa, AZ",
         "NA-US-AZ-MESA",
         false,
         "14374",
         25446,
         471000465,
         null
        ],
        [
         49345,
         32046,
         "STANDARD",
         "HILLIARD",
         "FL",
         "PRIMARY",
         30.69,
         -81.92,
         null,
         -0.85,
         0.51,
         "NA",
         "US",
         "Hilliard, FL",
         "NA-US-FL-HILLIARD",
         false,
         "3922",
         7443,
         133112149,
         null
        ],
        [
         49346,
         34445,
         "PO BOX",
         "HOLDER",
         "FL",
         "PRIMARY",
         28.96,
         -82.41,
         null,
         -0.86,
         0.48,
         "NA",
         "US",
         "Holder, FL",
         "NA-US-FL-HOLDER",
         false,
         null,
         null,
         null,
         null
        ],
        [
         49347,
         32564,
         "STANDARD",
         "HOLT",
         "FL",
         "PRIMARY",
         30.72,
         -86.67,
         null,
         -0.85,
         0.51,
         "NA",
         "US",
         "Holt, FL",
         "NA-US-FL-HOLT",
         false,
         "1207",
         2190,
         36395913,
         null
        ],
        [
         49348,
         34487,
         "PO BOX",
         "HOMOSASSA",
         "FL",
         "PRIMARY",
         28.78,
         -82.61,
         null,
         -0.86,
         0.48,
         "NA",
         "US",
         "Homosassa, FL",
         "NA-US-FL-HOMOSASSA",
         false,
         null,
         null,
         null,
         null
        ],
        [
         10,
         708,
         "STANDARD",
         "BDA SAN LUIS",
         "PR",
         "NOT ACCEPTABLE",
         18.14,
         -66.26,
         null,
         -0.86,
         0.31,
         "NA",
         "US",
         "Bda San Luis, PR",
         "NA-US-PR-BDA SAN LUIS",
         false,
         null,
         null,
         null,
         null
        ],
        [
         3,
         704,
         "STANDARD",
         "SECT LANAUSSE",
         "PR",
         "NOT ACCEPTABLE",
         17.96,
         -66.22,
         null,
         -0.87,
         0.3,
         "NA",
         "US",
         "Sect Lanausse, PR",
         "NA-US-PR-SECT LANAUSSE",
         false,
         null,
         null,
         null,
         null
        ],
        [
         54354,
         36275,
         "PO BOX",
         "SPRING GARDEN",
         "AL",
         "PRIMARY",
         33.97,
         -85.55,
         null,
         -0.82,
         0.55,
         "NA",
         "US",
         "Spring Garden, AL",
         "NA-US-AL-SPRING GARDEN",
         false,
         null,
         null,
         null,
         null
        ],
        [
         54355,
         35146,
         "STANDARD",
         "SPRINGVILLE",
         "AL",
         "PRIMARY",
         33.77,
         -86.47,
         null,
         -0.82,
         0.55,
         "NA",
         "US",
         "Springville, AL",
         "NA-US-AL-SPRINGVILLE",
         false,
         "4046",
         7845,
         172127599,
         null
        ],
        [
         54356,
         35585,
         "STANDARD",
         "SPRUCE PINE",
         "AL",
         "PRIMARY",
         34.37,
         -87.69,
         null,
         -0.82,
         0.56,
         "NA",
         "US",
         "Spruce Pine, AL",
         "NA-US-AL-SPRUCE PINE",
         false,
         "610",
         1209,
         18525517,
         null
        ],
        [
         76511,
         27007,
         "STANDARD",
         "ASH HILL",
         "NC",
         "NOT ACCEPTABLE",
         36.4,
         -80.56,
         null,
         -0.79,
         0.59,
         "NA",
         "US",
         "Ash Hill, NC",
         "NA-US-NC-ASH HILL",
         false,
         "842",
         1666,
         28876493,
         null
        ],
        [
         76512,
         27203,
         "STANDARD",
         "ASHEBORO",
         "NC",
         "PRIMARY",
         35.71,
         -79.81,
         null,
         -0.79,
         0.58,
         "NA",
         "US",
         "Asheboro, NC",
         "NA-US-NC-ASHEBORO",
         false,
         "8355",
         15228,
         215474318,
         null
        ],
        [
         76513,
         27204,
         "PO BOX",
         "ASHEBORO",
         "NC",
         "PRIMARY",
         35.71,
         -79.81,
         null,
         -0.79,
         0.58,
         "NA",
         "US",
         "Asheboro, NC",
         "NA-US-NC-ASHEBORO",
         false,
         "1035",
         1816,
         30322473,
         null
        ]
       ],
       "datasetInfos": [],
       "dbfsResultPath": null,
       "isJsonSchema": true,
       "metadata": {},
       "overflow": false,
       "plotOptions": {
        "customPlotOptions": {},
        "displayType": "table",
        "pivotAggregation": null,
        "pivotColumns": null,
        "xColumns": null,
        "yColumns": null
       },
       "removedWidgets": [],
       "schema": [
        {
         "metadata": "{}",
         "name": "RecordNumber",
         "type": "\"integer\""
        },
        {
         "metadata": "{}",
         "name": "Zipcode",
         "type": "\"integer\""
        },
        {
         "metadata": "{}",
         "name": "ZipCodeType",
         "type": "\"string\""
        },
        {
         "metadata": "{}",
         "name": "City",
         "type": "\"string\""
        },
        {
         "metadata": "{}",
         "name": "State",
         "type": "\"string\""
        },
        {
         "metadata": "{}",
         "name": "LocationType",
         "type": "\"string\""
        },
        {
         "metadata": "{}",
         "name": "Lat",
         "type": "\"double\""
        },
        {
         "metadata": "{}",
         "name": "Long",
         "type": "\"double\""
        },
        {
         "metadata": "{}",
         "name": "Xaxis",
         "type": "\"integer\""
        },
        {
         "metadata": "{}",
         "name": "Yaxis",
         "type": "\"double\""
        },
        {
         "metadata": "{}",
         "name": "Zaxis",
         "type": "\"double\""
        },
        {
         "metadata": "{}",
         "name": "WorldRegion",
         "type": "\"string\""
        },
        {
         "metadata": "{}",
         "name": "Country",
         "type": "\"string\""
        },
        {
         "metadata": "{}",
         "name": "LocationText",
         "type": "\"string\""
        },
        {
         "metadata": "{}",
         "name": "Location",
         "type": "\"string\""
        },
        {
         "metadata": "{}",
         "name": "Decommisioned",
         "type": "\"boolean\""
        },
        {
         "metadata": "{}",
         "name": "TaxReturnsFiled",
         "type": "\"string\""
        },
        {
         "metadata": "{}",
         "name": "EstimatedPopulation",
         "type": "\"integer\""
        },
        {
         "metadata": "{}",
         "name": "TotalWages",
         "type": "\"integer\""
        },
        {
         "metadata": "{}",
         "name": "Notes",
         "type": "\"string\""
        }
       ],
       "type": "table"
      }
     },
     "output_type": "display_data"
    }
   ],
   "source": [
    "df1.display()"
   ]
  },
  {
   "cell_type": "code",
   "execution_count": null,
   "metadata": {
    "application/vnd.databricks.v1+cell": {
     "cellMetadata": {
      "byteLimit": 2048000,
      "implicitDf": true,
      "rowLimit": 10000
     },
     "inputWidgets": {},
     "nuid": "37f8c517-c2bf-40ba-82cc-6e5751e5f01a",
     "showTitle": false,
     "title": ""
    }
   },
   "outputs": [
    {
     "name": "stdout",
     "output_type": "stream",
     "text": [
      "+-------------------+-------+-------------+-------------------+-----+--------------------+--------------------+--------------+-------+-------------+------------+-----+---------------+----------+-----------+-----+-----+-----+-----------+-------+\n",
      "|               City|Country|Decommisioned|EstimatedPopulation|  Lat|            Location|        LocationText|  LocationType|   Long|        Notes|RecordNumber|State|TaxReturnsFiled|TotalWages|WorldRegion|Xaxis|Yaxis|Zaxis|ZipCodeType|Zipcode|\n",
      "+-------------------+-------+-------------+-------------------+-----+--------------------+--------------------+--------------+-------+-------------+------------+-----+---------------+----------+-----------+-----+-----+-----+-----------+-------+\n",
      "|        PARC PARQUE|     US|        false|               null|17.96|NA-US-PR-PARC PARQUE|     Parc Parque, PR|NOT ACCEPTABLE| -66.22|         null|           1|   PR|           null|      null|         NA| 0.38|-0.87|  0.3|   STANDARD|    704|\n",
      "|PASEO COSTA DEL SUR|     US|        false|               null|17.96|NA-US-PR-PASEO CO...|Paseo Costa Del S...|NOT ACCEPTABLE| -66.22|         null|           2|   PR|           null|      null|         NA| 0.38|-0.87|  0.3|   STANDARD|    704|\n",
      "|       BDA SAN LUIS|     US|        false|               null|18.14|NA-US-PR-BDA SAN ...|    Bda San Luis, PR|NOT ACCEPTABLE| -66.26|         null|          10|   PR|           null|      null|         NA| 0.38|-0.86| 0.31|   STANDARD|    709|\n",
      "|  CINGULAR WIRELESS|     US|        false|               null|32.72|NA-US-TX-CINGULAR...|Cingular Wireless...|NOT ACCEPTABLE| -97.31|         null|       61391|   TX|           null|      null|         NA| -0.1|-0.83| 0.54|     UNIQUE|  76166|\n",
      "|         FORT WORTH|     US|        false|               4053|32.75| NA-US-TX-FORT WORTH|      Fort Worth, TX|       PRIMARY| -97.33|         null|       61392|   TX|           2126| 122396986|         NA| -0.1|-0.83| 0.54|   STANDARD|  76177|\n",
      "|           FT WORTH|     US|        false|               4053|32.75|   NA-US-TX-FT WORTH|        Ft Worth, TX|    ACCEPTABLE| -97.33|         null|       61393|   TX|           2126| 122396986|         NA| -0.1|-0.83| 0.54|   STANDARD|  76177|\n",
      "|    URB EUGENE RICE|     US|        false|               null|17.96|NA-US-PR-URB EUGE...| Urb Eugene Rice, PR|NOT ACCEPTABLE| -66.22|         null|           4|   PR|           null|      null|         NA| 0.38|-0.87|  0.3|   STANDARD|    704|\n",
      "|               MESA|     US|        false|              26883|33.37|       NA-US-AZ-MESA|            Mesa, AZ|       PRIMARY|-111.64|no NWS data, |       39827|   AZ|          14962| 563792730|         NA| -0.3|-0.77| 0.55|   STANDARD|  85209|\n",
      "|               MESA|     US|        false|              25446|33.38|       NA-US-AZ-MESA|            Mesa, AZ|       PRIMARY|-111.84|         null|       39828|   AZ|          14374| 471000465|         NA|-0.31|-0.77| 0.55|   STANDARD|  85210|\n",
      "|           HILLIARD|     US|        false|               7443|30.69|   NA-US-FL-HILLIARD|        Hilliard, FL|       PRIMARY| -81.92|         null|       49345|   FL|           3922| 133112149|         NA| 0.12|-0.85| 0.51|   STANDARD|  32046|\n",
      "|             HOLDER|     US|        false|               null|28.96|     NA-US-FL-HOLDER|          Holder, FL|       PRIMARY| -82.41|         null|       49346|   FL|           null|      null|         NA| 0.11|-0.86| 0.48|     PO BOX|  34445|\n",
      "|               HOLT|     US|        false|               2190|30.72|       NA-US-FL-HOLT|            Holt, FL|       PRIMARY| -86.67|         null|       49347|   FL|           1207|  36395913|         NA| 0.04|-0.85| 0.51|   STANDARD|  32564|\n",
      "|          HOMOSASSA|     US|        false|               null|28.78|  NA-US-FL-HOMOSASSA|       Homosassa, FL|       PRIMARY| -82.61|         null|       49348|   FL|           null|      null|         NA| 0.11|-0.86| 0.48|     PO BOX|  34487|\n",
      "|       BDA SAN LUIS|     US|        false|               null|18.14|NA-US-PR-BDA SAN ...|    Bda San Luis, PR|NOT ACCEPTABLE| -66.26|         null|          10|   PR|           null|      null|         NA| 0.38|-0.86| 0.31|   STANDARD|    708|\n",
      "|      SECT LANAUSSE|     US|        false|               null|17.96|NA-US-PR-SECT LAN...|   Sect Lanausse, PR|NOT ACCEPTABLE| -66.22|         null|           3|   PR|           null|      null|         NA| 0.38|-0.87|  0.3|   STANDARD|    704|\n",
      "|      SPRING GARDEN|     US|        false|               null|33.97|NA-US-AL-SPRING G...|   Spring Garden, AL|       PRIMARY| -85.55|         null|       54354|   AL|           null|      null|         NA| 0.06|-0.82| 0.55|     PO BOX|  36275|\n",
      "|        SPRINGVILLE|     US|        false|               7845|33.77|NA-US-AL-SPRINGVILLE|     Springville, AL|       PRIMARY| -86.47|         null|       54355|   AL|           4046| 172127599|         NA| 0.05|-0.82| 0.55|   STANDARD|  35146|\n",
      "|        SPRUCE PINE|     US|        false|               1209|34.37|NA-US-AL-SPRUCE PINE|     Spruce Pine, AL|       PRIMARY| -87.69|         null|       54356|   AL|            610|  18525517|         NA| 0.03|-0.82| 0.56|   STANDARD|  35585|\n",
      "|           ASH HILL|     US|        false|               1666| 36.4|   NA-US-NC-ASH HILL|        Ash Hill, NC|NOT ACCEPTABLE| -80.56|         null|       76511|   NC|            842|  28876493|         NA| 0.13|-0.79| 0.59|   STANDARD|  27007|\n",
      "|           ASHEBORO|     US|        false|              15228|35.71|   NA-US-NC-ASHEBORO|        Asheboro, NC|       PRIMARY| -79.81|         null|       76512|   NC|           8355| 215474318|         NA| 0.14|-0.79| 0.58|   STANDARD|  27203|\n",
      "+-------------------+-------+-------------+-------------------+-----+--------------------+--------------------+--------------+-------+-------------+------------+-----+---------------+----------+-----------+-----+-----+-----+-----------+-------+\n",
      "only showing top 20 rows\n",
      "\n"
     ]
    }
   ],
   "source": [
    "spark.sql(f\"CREATE OR REPLACE TEMPORARY VIEW zipcode USING json OPTIONS\" + \n",
    "          f\" (path '{json_file}')\")\n",
    "spark.sql(\"SELECT * FROM zipcode\").show()"
   ]
  },
  {
   "cell_type": "markdown",
   "metadata": {
    "application/vnd.databricks.v1+cell": {
     "cellMetadata": {},
     "inputWidgets": {},
     "nuid": "7b01c150-412d-494b-8176-77aa80225cd9",
     "showTitle": false,
     "title": ""
    }
   },
   "source": [
    "# Writing into JSON format"
   ]
  },
  {
   "cell_type": "code",
   "execution_count": null,
   "metadata": {
    "application/vnd.databricks.v1+cell": {
     "cellMetadata": {
      "byteLimit": 2048000,
      "rowLimit": 10000
     },
     "inputWidgets": {},
     "nuid": "5e32c3d7-8c05-4e2e-9942-8d5fd680a2d1",
     "showTitle": false,
     "title": ""
    }
   },
   "outputs": [],
   "source": [
    "df1.write.json(\"/temp/spark_output/sample.json\")"
   ]
  },
  {
   "cell_type": "code",
   "execution_count": null,
   "metadata": {
    "application/vnd.databricks.v1+cell": {
     "cellMetadata": {
      "byteLimit": 2048000,
      "rowLimit": 10000
     },
     "inputWidgets": {},
     "nuid": "2a6a8199-bdfc-44ff-9710-a92f7351c720",
     "showTitle": false,
     "title": ""
    }
   },
   "outputs": [],
   "source": [
    "# Mode\n",
    "# overwrite – mode is used to overwrite the existing file\n",
    "# append – To add the data to the existing file\n",
    "# ignore – Ignores write operation when the file already exists\n",
    "# errorifexists or error – This is a default option when the file already exists, it returns an error\n",
    "df1.write.mode(\"overwrite\").json('/temp/spark_output/temp.json')"
   ]
  },
  {
   "cell_type": "code",
   "execution_count": null,
   "metadata": {
    "application/vnd.databricks.v1+cell": {
     "cellMetadata": {
      "byteLimit": 2048000,
      "rowLimit": 10000
     },
     "inputWidgets": {},
     "nuid": "33bee2e7-deaa-4c5c-9bf2-b9c586a99e00",
     "showTitle": false,
     "title": ""
    }
   },
   "outputs": [
    {
     "data": {
      "text/html": [
       "<style scoped>\n",
       "  .table-result-container {\n",
       "    max-height: 300px;\n",
       "    overflow: auto;\n",
       "  }\n",
       "  table, th, td {\n",
       "    border: 1px solid black;\n",
       "    border-collapse: collapse;\n",
       "  }\n",
       "  th, td {\n",
       "    padding: 5px;\n",
       "  }\n",
       "  th {\n",
       "    text-align: left;\n",
       "  }\n",
       "</style><div class='table-result-container'><table class='table-result'><thead style='background-color: white'><tr><th>City</th><th>Country</th><th>Decommisioned</th><th>EstimatedPopulation</th><th>Lat</th><th>Location</th><th>LocationText</th><th>LocationType</th><th>Long</th><th>Notes</th><th>RecordNumber</th><th>State</th><th>TaxReturnsFiled</th><th>TotalWages</th><th>WorldRegion</th><th>Yaxis</th><th>Zaxis</th><th>ZipCodeType</th><th>Zipcode</th></tr></thead><tbody><tr><td>PARC PARQUE</td><td>US</td><td>false</td><td>null</td><td>17.96</td><td>NA-US-PR-PARC PARQUE</td><td>Parc Parque, PR</td><td>NOT ACCEPTABLE</td><td>-66.22</td><td>null</td><td>1</td><td>PR</td><td>null</td><td>null</td><td>NA</td><td>-0.87</td><td>0.3</td><td>STANDARD</td><td>704</td></tr><tr><td>PASEO COSTA DEL SUR</td><td>US</td><td>false</td><td>null</td><td>17.96</td><td>NA-US-PR-PASEO COSTA DEL SUR</td><td>Paseo Costa Del Sur, PR</td><td>NOT ACCEPTABLE</td><td>-66.22</td><td>null</td><td>2</td><td>PR</td><td>null</td><td>null</td><td>NA</td><td>-0.87</td><td>0.3</td><td>STANDARD</td><td>704</td></tr><tr><td>BDA SAN LUIS</td><td>US</td><td>false</td><td>null</td><td>18.14</td><td>NA-US-PR-BDA SAN LUIS</td><td>Bda San Luis, PR</td><td>NOT ACCEPTABLE</td><td>-66.26</td><td>null</td><td>10</td><td>PR</td><td>null</td><td>null</td><td>NA</td><td>-0.86</td><td>0.31</td><td>STANDARD</td><td>709</td></tr><tr><td>CINGULAR WIRELESS</td><td>US</td><td>false</td><td>null</td><td>32.72</td><td>NA-US-TX-CINGULAR WIRELESS</td><td>Cingular Wireless, TX</td><td>NOT ACCEPTABLE</td><td>-97.31</td><td>null</td><td>61391</td><td>TX</td><td>null</td><td>null</td><td>NA</td><td>-0.83</td><td>0.54</td><td>UNIQUE</td><td>76166</td></tr><tr><td>FORT WORTH</td><td>US</td><td>false</td><td>4053</td><td>32.75</td><td>NA-US-TX-FORT WORTH</td><td>Fort Worth, TX</td><td>PRIMARY</td><td>-97.33</td><td>null</td><td>61392</td><td>TX</td><td>2126</td><td>122396986</td><td>NA</td><td>-0.83</td><td>0.54</td><td>STANDARD</td><td>76177</td></tr><tr><td>FT WORTH</td><td>US</td><td>false</td><td>4053</td><td>32.75</td><td>NA-US-TX-FT WORTH</td><td>Ft Worth, TX</td><td>ACCEPTABLE</td><td>-97.33</td><td>null</td><td>61393</td><td>TX</td><td>2126</td><td>122396986</td><td>NA</td><td>-0.83</td><td>0.54</td><td>STANDARD</td><td>76177</td></tr><tr><td>URB EUGENE RICE</td><td>US</td><td>false</td><td>null</td><td>17.96</td><td>NA-US-PR-URB EUGENE RICE</td><td>Urb Eugene Rice, PR</td><td>NOT ACCEPTABLE</td><td>-66.22</td><td>null</td><td>4</td><td>PR</td><td>null</td><td>null</td><td>NA</td><td>-0.87</td><td>0.3</td><td>STANDARD</td><td>704</td></tr><tr><td>MESA</td><td>US</td><td>false</td><td>26883</td><td>33.37</td><td>NA-US-AZ-MESA</td><td>Mesa, AZ</td><td>PRIMARY</td><td>-111.64</td><td>no NWS data, </td><td>39827</td><td>AZ</td><td>14962</td><td>563792730</td><td>NA</td><td>-0.77</td><td>0.55</td><td>STANDARD</td><td>85209</td></tr><tr><td>MESA</td><td>US</td><td>false</td><td>25446</td><td>33.38</td><td>NA-US-AZ-MESA</td><td>Mesa, AZ</td><td>PRIMARY</td><td>-111.84</td><td>null</td><td>39828</td><td>AZ</td><td>14374</td><td>471000465</td><td>NA</td><td>-0.77</td><td>0.55</td><td>STANDARD</td><td>85210</td></tr><tr><td>HILLIARD</td><td>US</td><td>false</td><td>7443</td><td>30.69</td><td>NA-US-FL-HILLIARD</td><td>Hilliard, FL</td><td>PRIMARY</td><td>-81.92</td><td>null</td><td>49345</td><td>FL</td><td>3922</td><td>133112149</td><td>NA</td><td>-0.85</td><td>0.51</td><td>STANDARD</td><td>32046</td></tr><tr><td>HOLDER</td><td>US</td><td>false</td><td>null</td><td>28.96</td><td>NA-US-FL-HOLDER</td><td>Holder, FL</td><td>PRIMARY</td><td>-82.41</td><td>null</td><td>49346</td><td>FL</td><td>null</td><td>null</td><td>NA</td><td>-0.86</td><td>0.48</td><td>PO BOX</td><td>34445</td></tr><tr><td>HOLT</td><td>US</td><td>false</td><td>2190</td><td>30.72</td><td>NA-US-FL-HOLT</td><td>Holt, FL</td><td>PRIMARY</td><td>-86.67</td><td>null</td><td>49347</td><td>FL</td><td>1207</td><td>36395913</td><td>NA</td><td>-0.85</td><td>0.51</td><td>STANDARD</td><td>32564</td></tr><tr><td>HOMOSASSA</td><td>US</td><td>false</td><td>null</td><td>28.78</td><td>NA-US-FL-HOMOSASSA</td><td>Homosassa, FL</td><td>PRIMARY</td><td>-82.61</td><td>null</td><td>49348</td><td>FL</td><td>null</td><td>null</td><td>NA</td><td>-0.86</td><td>0.48</td><td>PO BOX</td><td>34487</td></tr><tr><td>BDA SAN LUIS</td><td>US</td><td>false</td><td>null</td><td>18.14</td><td>NA-US-PR-BDA SAN LUIS</td><td>Bda San Luis, PR</td><td>NOT ACCEPTABLE</td><td>-66.26</td><td>null</td><td>10</td><td>PR</td><td>null</td><td>null</td><td>NA</td><td>-0.86</td><td>0.31</td><td>STANDARD</td><td>708</td></tr><tr><td>SECT LANAUSSE</td><td>US</td><td>false</td><td>null</td><td>17.96</td><td>NA-US-PR-SECT LANAUSSE</td><td>Sect Lanausse, PR</td><td>NOT ACCEPTABLE</td><td>-66.22</td><td>null</td><td>3</td><td>PR</td><td>null</td><td>null</td><td>NA</td><td>-0.87</td><td>0.3</td><td>STANDARD</td><td>704</td></tr><tr><td>SPRING GARDEN</td><td>US</td><td>false</td><td>null</td><td>33.97</td><td>NA-US-AL-SPRING GARDEN</td><td>Spring Garden, AL</td><td>PRIMARY</td><td>-85.55</td><td>null</td><td>54354</td><td>AL</td><td>null</td><td>null</td><td>NA</td><td>-0.82</td><td>0.55</td><td>PO BOX</td><td>36275</td></tr><tr><td>SPRINGVILLE</td><td>US</td><td>false</td><td>7845</td><td>33.77</td><td>NA-US-AL-SPRINGVILLE</td><td>Springville, AL</td><td>PRIMARY</td><td>-86.47</td><td>null</td><td>54355</td><td>AL</td><td>4046</td><td>172127599</td><td>NA</td><td>-0.82</td><td>0.55</td><td>STANDARD</td><td>35146</td></tr><tr><td>SPRUCE PINE</td><td>US</td><td>false</td><td>1209</td><td>34.37</td><td>NA-US-AL-SPRUCE PINE</td><td>Spruce Pine, AL</td><td>PRIMARY</td><td>-87.69</td><td>null</td><td>54356</td><td>AL</td><td>610</td><td>18525517</td><td>NA</td><td>-0.82</td><td>0.56</td><td>STANDARD</td><td>35585</td></tr><tr><td>ASH HILL</td><td>US</td><td>false</td><td>1666</td><td>36.4</td><td>NA-US-NC-ASH HILL</td><td>Ash Hill, NC</td><td>NOT ACCEPTABLE</td><td>-80.56</td><td>null</td><td>76511</td><td>NC</td><td>842</td><td>28876493</td><td>NA</td><td>-0.79</td><td>0.59</td><td>STANDARD</td><td>27007</td></tr><tr><td>ASHEBORO</td><td>US</td><td>false</td><td>15228</td><td>35.71</td><td>NA-US-NC-ASHEBORO</td><td>Asheboro, NC</td><td>PRIMARY</td><td>-79.81</td><td>null</td><td>76512</td><td>NC</td><td>8355</td><td>215474318</td><td>NA</td><td>-0.79</td><td>0.58</td><td>STANDARD</td><td>27203</td></tr><tr><td>ASHEBORO</td><td>US</td><td>false</td><td>1816</td><td>35.71</td><td>NA-US-NC-ASHEBORO</td><td>Asheboro, NC</td><td>PRIMARY</td><td>-79.81</td><td>null</td><td>76513</td><td>NC</td><td>1035</td><td>30322473</td><td>NA</td><td>-0.79</td><td>0.58</td><td>PO BOX</td><td>27204</td></tr></tbody></table></div>"
      ]
     },
     "metadata": {
      "application/vnd.databricks.v1+output": {
       "addedWidgets": {},
       "aggData": [],
       "aggError": "",
       "aggOverflow": false,
       "aggSchema": [],
       "aggSeriesLimitReached": false,
       "aggType": "",
       "arguments": {},
       "columnCustomDisplayInfos": {},
       "data": [
        [
         "PARC PARQUE",
         "US",
         false,
         null,
         17.96,
         "NA-US-PR-PARC PARQUE",
         "Parc Parque, PR",
         "NOT ACCEPTABLE",
         -66.22,
         null,
         1,
         "PR",
         null,
         null,
         "NA",
         -0.87,
         0.3,
         "STANDARD",
         704
        ],
        [
         "PASEO COSTA DEL SUR",
         "US",
         false,
         null,
         17.96,
         "NA-US-PR-PASEO COSTA DEL SUR",
         "Paseo Costa Del Sur, PR",
         "NOT ACCEPTABLE",
         -66.22,
         null,
         2,
         "PR",
         null,
         null,
         "NA",
         -0.87,
         0.3,
         "STANDARD",
         704
        ],
        [
         "BDA SAN LUIS",
         "US",
         false,
         null,
         18.14,
         "NA-US-PR-BDA SAN LUIS",
         "Bda San Luis, PR",
         "NOT ACCEPTABLE",
         -66.26,
         null,
         10,
         "PR",
         null,
         null,
         "NA",
         -0.86,
         0.31,
         "STANDARD",
         709
        ],
        [
         "CINGULAR WIRELESS",
         "US",
         false,
         null,
         32.72,
         "NA-US-TX-CINGULAR WIRELESS",
         "Cingular Wireless, TX",
         "NOT ACCEPTABLE",
         -97.31,
         null,
         61391,
         "TX",
         null,
         null,
         "NA",
         -0.83,
         0.54,
         "UNIQUE",
         76166
        ],
        [
         "FORT WORTH",
         "US",
         false,
         4053,
         32.75,
         "NA-US-TX-FORT WORTH",
         "Fort Worth, TX",
         "PRIMARY",
         -97.33,
         null,
         61392,
         "TX",
         "2126",
         122396986,
         "NA",
         -0.83,
         0.54,
         "STANDARD",
         76177
        ],
        [
         "FT WORTH",
         "US",
         false,
         4053,
         32.75,
         "NA-US-TX-FT WORTH",
         "Ft Worth, TX",
         "ACCEPTABLE",
         -97.33,
         null,
         61393,
         "TX",
         "2126",
         122396986,
         "NA",
         -0.83,
         0.54,
         "STANDARD",
         76177
        ],
        [
         "URB EUGENE RICE",
         "US",
         false,
         null,
         17.96,
         "NA-US-PR-URB EUGENE RICE",
         "Urb Eugene Rice, PR",
         "NOT ACCEPTABLE",
         -66.22,
         null,
         4,
         "PR",
         null,
         null,
         "NA",
         -0.87,
         0.3,
         "STANDARD",
         704
        ],
        [
         "MESA",
         "US",
         false,
         26883,
         33.37,
         "NA-US-AZ-MESA",
         "Mesa, AZ",
         "PRIMARY",
         -111.64,
         "no NWS data, ",
         39827,
         "AZ",
         "14962",
         563792730,
         "NA",
         -0.77,
         0.55,
         "STANDARD",
         85209
        ],
        [
         "MESA",
         "US",
         false,
         25446,
         33.38,
         "NA-US-AZ-MESA",
         "Mesa, AZ",
         "PRIMARY",
         -111.84,
         null,
         39828,
         "AZ",
         "14374",
         471000465,
         "NA",
         -0.77,
         0.55,
         "STANDARD",
         85210
        ],
        [
         "HILLIARD",
         "US",
         false,
         7443,
         30.69,
         "NA-US-FL-HILLIARD",
         "Hilliard, FL",
         "PRIMARY",
         -81.92,
         null,
         49345,
         "FL",
         "3922",
         133112149,
         "NA",
         -0.85,
         0.51,
         "STANDARD",
         32046
        ],
        [
         "HOLDER",
         "US",
         false,
         null,
         28.96,
         "NA-US-FL-HOLDER",
         "Holder, FL",
         "PRIMARY",
         -82.41,
         null,
         49346,
         "FL",
         null,
         null,
         "NA",
         -0.86,
         0.48,
         "PO BOX",
         34445
        ],
        [
         "HOLT",
         "US",
         false,
         2190,
         30.72,
         "NA-US-FL-HOLT",
         "Holt, FL",
         "PRIMARY",
         -86.67,
         null,
         49347,
         "FL",
         "1207",
         36395913,
         "NA",
         -0.85,
         0.51,
         "STANDARD",
         32564
        ],
        [
         "HOMOSASSA",
         "US",
         false,
         null,
         28.78,
         "NA-US-FL-HOMOSASSA",
         "Homosassa, FL",
         "PRIMARY",
         -82.61,
         null,
         49348,
         "FL",
         null,
         null,
         "NA",
         -0.86,
         0.48,
         "PO BOX",
         34487
        ],
        [
         "BDA SAN LUIS",
         "US",
         false,
         null,
         18.14,
         "NA-US-PR-BDA SAN LUIS",
         "Bda San Luis, PR",
         "NOT ACCEPTABLE",
         -66.26,
         null,
         10,
         "PR",
         null,
         null,
         "NA",
         -0.86,
         0.31,
         "STANDARD",
         708
        ],
        [
         "SECT LANAUSSE",
         "US",
         false,
         null,
         17.96,
         "NA-US-PR-SECT LANAUSSE",
         "Sect Lanausse, PR",
         "NOT ACCEPTABLE",
         -66.22,
         null,
         3,
         "PR",
         null,
         null,
         "NA",
         -0.87,
         0.3,
         "STANDARD",
         704
        ],
        [
         "SPRING GARDEN",
         "US",
         false,
         null,
         33.97,
         "NA-US-AL-SPRING GARDEN",
         "Spring Garden, AL",
         "PRIMARY",
         -85.55,
         null,
         54354,
         "AL",
         null,
         null,
         "NA",
         -0.82,
         0.55,
         "PO BOX",
         36275
        ],
        [
         "SPRINGVILLE",
         "US",
         false,
         7845,
         33.77,
         "NA-US-AL-SPRINGVILLE",
         "Springville, AL",
         "PRIMARY",
         -86.47,
         null,
         54355,
         "AL",
         "4046",
         172127599,
         "NA",
         -0.82,
         0.55,
         "STANDARD",
         35146
        ],
        [
         "SPRUCE PINE",
         "US",
         false,
         1209,
         34.37,
         "NA-US-AL-SPRUCE PINE",
         "Spruce Pine, AL",
         "PRIMARY",
         -87.69,
         null,
         54356,
         "AL",
         "610",
         18525517,
         "NA",
         -0.82,
         0.56,
         "STANDARD",
         35585
        ],
        [
         "ASH HILL",
         "US",
         false,
         1666,
         36.4,
         "NA-US-NC-ASH HILL",
         "Ash Hill, NC",
         "NOT ACCEPTABLE",
         -80.56,
         null,
         76511,
         "NC",
         "842",
         28876493,
         "NA",
         -0.79,
         0.59,
         "STANDARD",
         27007
        ],
        [
         "ASHEBORO",
         "US",
         false,
         15228,
         35.71,
         "NA-US-NC-ASHEBORO",
         "Asheboro, NC",
         "PRIMARY",
         -79.81,
         null,
         76512,
         "NC",
         "8355",
         215474318,
         "NA",
         -0.79,
         0.58,
         "STANDARD",
         27203
        ],
        [
         "ASHEBORO",
         "US",
         false,
         1816,
         35.71,
         "NA-US-NC-ASHEBORO",
         "Asheboro, NC",
         "PRIMARY",
         -79.81,
         null,
         76513,
         "NC",
         "1035",
         30322473,
         "NA",
         -0.79,
         0.58,
         "PO BOX",
         27204
        ]
       ],
       "datasetInfos": [],
       "dbfsResultPath": null,
       "isJsonSchema": true,
       "metadata": {},
       "overflow": false,
       "plotOptions": {
        "customPlotOptions": {},
        "displayType": "table",
        "pivotAggregation": null,
        "pivotColumns": null,
        "xColumns": null,
        "yColumns": null
       },
       "removedWidgets": [],
       "schema": [
        {
         "metadata": "{}",
         "name": "City",
         "type": "\"string\""
        },
        {
         "metadata": "{}",
         "name": "Country",
         "type": "\"string\""
        },
        {
         "metadata": "{}",
         "name": "Decommisioned",
         "type": "\"boolean\""
        },
        {
         "metadata": "{}",
         "name": "EstimatedPopulation",
         "type": "\"long\""
        },
        {
         "metadata": "{}",
         "name": "Lat",
         "type": "\"double\""
        },
        {
         "metadata": "{}",
         "name": "Location",
         "type": "\"string\""
        },
        {
         "metadata": "{}",
         "name": "LocationText",
         "type": "\"string\""
        },
        {
         "metadata": "{}",
         "name": "LocationType",
         "type": "\"string\""
        },
        {
         "metadata": "{}",
         "name": "Long",
         "type": "\"double\""
        },
        {
         "metadata": "{}",
         "name": "Notes",
         "type": "\"string\""
        },
        {
         "metadata": "{}",
         "name": "RecordNumber",
         "type": "\"long\""
        },
        {
         "metadata": "{}",
         "name": "State",
         "type": "\"string\""
        },
        {
         "metadata": "{}",
         "name": "TaxReturnsFiled",
         "type": "\"string\""
        },
        {
         "metadata": "{}",
         "name": "TotalWages",
         "type": "\"long\""
        },
        {
         "metadata": "{}",
         "name": "WorldRegion",
         "type": "\"string\""
        },
        {
         "metadata": "{}",
         "name": "Yaxis",
         "type": "\"double\""
        },
        {
         "metadata": "{}",
         "name": "Zaxis",
         "type": "\"double\""
        },
        {
         "metadata": "{}",
         "name": "ZipCodeType",
         "type": "\"string\""
        },
        {
         "metadata": "{}",
         "name": "Zipcode",
         "type": "\"long\""
        }
       ],
       "type": "table"
      }
     },
     "output_type": "display_data"
    }
   ],
   "source": [
    "df2 = spark.read.json(\"/temp/spark_output/temp.json\")\n",
    "df2.display()"
   ]
  }
 ],
 "metadata": {
  "application/vnd.databricks.v1+notebook": {
   "dashboards": [],
   "language": "python",
   "notebookMetadata": {
    "mostRecentlyExecutedCommandWithImplicitDF": {
     "commandId": -1,
     "dataframes": [
      "_sqldf"
     ]
    },
    "pythonIndentUnit": 4
   },
   "notebookName": "Read JSON File",
   "widgets": {}
  },
  "kernelspec": {
   "display_name": "Python 3 (ipykernel)",
   "language": "python",
   "name": "python3"
  },
  "language_info": {
   "codemirror_mode": {
    "name": "ipython",
    "version": 3
   },
   "file_extension": ".py",
   "mimetype": "text/x-python",
   "name": "python",
   "nbconvert_exporter": "python",
   "pygments_lexer": "ipython3",
   "version": "3.11.5"
  }
 },
 "nbformat": 4,
 "nbformat_minor": 4
}
