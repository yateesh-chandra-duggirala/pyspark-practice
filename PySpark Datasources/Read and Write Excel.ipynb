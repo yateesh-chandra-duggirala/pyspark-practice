{
 "cells": [
  {
   "cell_type": "markdown",
   "metadata": {
    "application/vnd.databricks.v1+cell": {
     "cellMetadata": {},
     "inputWidgets": {},
     "nuid": "07b2027e-bbb4-4104-842b-a2a37c203a7b",
     "showTitle": false,
     "title": ""
    }
   },
   "source": [
    "# Loading into Excel"
   ]
  },
  {
   "cell_type": "code",
   "execution_count": 0,
   "metadata": {
    "application/vnd.databricks.v1+cell": {
     "cellMetadata": {
      "byteLimit": 2048000,
      "rowLimit": 10000
     },
     "inputWidgets": {},
     "nuid": "6bbb96bf-22f7-4440-a1dc-1dbe70c06d2f",
     "showTitle": false,
     "title": ""
    }
   },
   "outputs": [],
   "source": [
    "# Loading excel into Dataframe\n",
    "excel_file = \"dbfs:/FileStore/shared_uploads/yateed1437@gmail.com/HR_Employee.xlsx\"\n",
    "\n",
    "df2 = spark.read.format(\"com.crealytics.spark.excel\") \\\n",
    "    .option(\"inferSchema\", True) \\\n",
    "    .option(\"header\", True) \\\n",
    "    .load(excel_file)"
   ]
  },
  {
   "cell_type": "code",
   "execution_count": 0,
   "metadata": {
    "application/vnd.databricks.v1+cell": {
     "cellMetadata": {
      "byteLimit": 2048000,
      "rowLimit": 10000
     },
     "inputWidgets": {},
     "nuid": "4c784091-d472-4d4e-a607-b14017e42686",
     "showTitle": false,
     "title": ""
    }
   },
   "outputs": [
    {
     "output_type": "display_data",
     "data": {
      "text/html": [
       "<style scoped>\n",
       "  .table-result-container {\n",
       "    max-height: 300px;\n",
       "    overflow: auto;\n",
       "  }\n",
       "  table, th, td {\n",
       "    border: 1px solid black;\n",
       "    border-collapse: collapse;\n",
       "  }\n",
       "  th, td {\n",
       "    padding: 5px;\n",
       "  }\n",
       "  th {\n",
       "    text-align: left;\n",
       "  }\n",
       "</style><div class='table-result-container'><table class='table-result'><thead style='background-color: white'><tr><th>Sid</th><th>First Name</th><th>Last Name</th><th>Gender</th><th>Country</th><th>Age</th><th>Date</th><th>Id</th><th>_c8</th></tr></thead><tbody><tr><td>1.0</td><td>Dulce</td><td>Abril</td><td>Female</td><td>United States</td><td>32.0</td><td>15/10/2017</td><td>1562.0</td><td>null</td></tr><tr><td>2.0</td><td>Mara</td><td>Hashimoto</td><td>Female</td><td>Great Britain</td><td>25.0</td><td>16/08/2016</td><td>1582.0</td><td>null</td></tr><tr><td>3.0</td><td>Philip</td><td>Gent</td><td>Male</td><td>France</td><td>36.0</td><td>21/05/2015</td><td>2587.0</td><td>null</td></tr><tr><td>4.0</td><td>Kathleen</td><td>Hanner</td><td>Female</td><td>United States</td><td>25.0</td><td>15/10/2017</td><td>3549.0</td><td>null</td></tr><tr><td>5.0</td><td>Nereida</td><td>Magwood</td><td>Female</td><td>United States</td><td>58.0</td><td>16/08/2016</td><td>2468.0</td><td>null</td></tr><tr><td>6.0</td><td>Gaston</td><td>Brumm</td><td>Male</td><td>United States</td><td>24.0</td><td>21/05/2015</td><td>2554.0</td><td>null</td></tr><tr><td>7.0</td><td>Etta</td><td>Hurn</td><td>Female</td><td>Great Britain</td><td>56.0</td><td>15/10/2017</td><td>3598.0</td><td>null</td></tr><tr><td>8.0</td><td>Earlean</td><td>Melgar</td><td>Female</td><td>United States</td><td>27.0</td><td>16/08/2016</td><td>2456.0</td><td>null</td></tr><tr><td>9.0</td><td>Vincenza</td><td>Weiland</td><td>Female</td><td>United States</td><td>40.0</td><td>21/05/2015</td><td>6548.0</td><td>null</td></tr><tr><td>10.0</td><td>Fallon</td><td>Winward</td><td>Female</td><td>Great Britain</td><td>28.0</td><td>16/08/2016</td><td>5486.0</td><td>null</td></tr><tr><td>11.0</td><td>Arcelia</td><td>Bouska</td><td>Female</td><td>Great Britain</td><td>39.0</td><td>21/05/2015</td><td>1258.0</td><td>null</td></tr><tr><td>12.0</td><td>Franklyn</td><td>Unknow</td><td>Male</td><td>France</td><td>38.0</td><td>15/10/2017</td><td>2579.0</td><td>null</td></tr><tr><td>13.0</td><td>Sherron</td><td>Ascencio</td><td>Female</td><td>Great Britain</td><td>32.0</td><td>16/08/2016</td><td>3256.0</td><td>null</td></tr><tr><td>14.0</td><td>Marcel</td><td>Zabriskie</td><td>Male</td><td>Great Britain</td><td>26.0</td><td>21/05/2015</td><td>2587.0</td><td>null</td></tr><tr><td>15.0</td><td>Kina</td><td>Hazelton</td><td>Female</td><td>Great Britain</td><td>31.0</td><td>16/08/2016</td><td>3259.0</td><td>null</td></tr><tr><td>16.0</td><td>Shavonne</td><td>Pia</td><td>Female</td><td>France</td><td>24.0</td><td>21/05/2015</td><td>1546.0</td><td>null</td></tr><tr><td>17.0</td><td>Shavon</td><td>Benito</td><td>Female</td><td>France</td><td>39.0</td><td>15/10/2017</td><td>3579.0</td><td>null</td></tr><tr><td>18.0</td><td>Lauralee</td><td>Perrine</td><td>Female</td><td>Great Britain</td><td>28.0</td><td>16/08/2016</td><td>6597.0</td><td>null</td></tr><tr><td>19.0</td><td>Loreta</td><td>Curren</td><td>Female</td><td>France</td><td>26.0</td><td>21/05/2015</td><td>9654.0</td><td>null</td></tr><tr><td>20.0</td><td>Teresa</td><td>Strawn</td><td>Female</td><td>France</td><td>46.0</td><td>21/05/2015</td><td>3569.0</td><td>null</td></tr><tr><td>21.0</td><td>Belinda</td><td>Partain</td><td>Female</td><td>United States</td><td>37.0</td><td>15/10/2017</td><td>2564.0</td><td>null</td></tr><tr><td>22.0</td><td>Holly</td><td>Eudy</td><td>Female</td><td>United States</td><td>52.0</td><td>16/08/2016</td><td>8561.0</td><td>null</td></tr><tr><td>23.0</td><td>Many</td><td>Cuccia</td><td>Female</td><td>Great Britain</td><td>46.0</td><td>21/05/2015</td><td>5489.0</td><td>null</td></tr><tr><td>24.0</td><td>Libbie</td><td>Dalby</td><td>Female</td><td>France</td><td>42.0</td><td>21/05/2015</td><td>5489.0</td><td>null</td></tr><tr><td>25.0</td><td>Lester</td><td>Prothro</td><td>Male</td><td>France</td><td>21.0</td><td>15/10/2017</td><td>6574.0</td><td>null</td></tr><tr><td>26.0</td><td>Marvel</td><td>Hail</td><td>Female</td><td>Great Britain</td><td>28.0</td><td>16/08/2016</td><td>5555.0</td><td>null</td></tr><tr><td>27.0</td><td>Angelyn</td><td>Vong</td><td>Female</td><td>United States</td><td>29.0</td><td>21/05/2015</td><td>6125.0</td><td>null</td></tr><tr><td>28.0</td><td>Francesca</td><td>Beaudreau</td><td>Female</td><td>France</td><td>23.0</td><td>15/10/2017</td><td>5412.0</td><td>null</td></tr><tr><td>29.0</td><td>Garth</td><td>Gangi</td><td>Male</td><td>United States</td><td>41.0</td><td>16/08/2016</td><td>3256.0</td><td>null</td></tr><tr><td>30.0</td><td>Carla</td><td>Trumbull</td><td>Female</td><td>Great Britain</td><td>28.0</td><td>21/05/2015</td><td>3264.0</td><td>null</td></tr><tr><td>31.0</td><td>Veta</td><td>Muntz</td><td>Female</td><td>Great Britain</td><td>37.0</td><td>15/10/2017</td><td>4569.0</td><td>null</td></tr><tr><td>32.0</td><td>Stasia</td><td>Becker</td><td>Female</td><td>Great Britain</td><td>34.0</td><td>16/08/2016</td><td>7521.0</td><td>null</td></tr><tr><td>33.0</td><td>Jona</td><td>Grindle</td><td>Female</td><td>Great Britain</td><td>26.0</td><td>21/05/2015</td><td>6458.0</td><td>null</td></tr><tr><td>34.0</td><td>Judie</td><td>Claywell</td><td>Female</td><td>France</td><td>35.0</td><td>16/08/2016</td><td>7569.0</td><td>null</td></tr><tr><td>35.0</td><td>Dewitt</td><td>Borger</td><td>Male</td><td>United States</td><td>36.0</td><td>21/05/2015</td><td>8514.0</td><td>null</td></tr><tr><td>36.0</td><td>Nena</td><td>Hacker</td><td>Female</td><td>United States</td><td>29.0</td><td>15/10/2017</td><td>8563.0</td><td>null</td></tr><tr><td>37.0</td><td>Kelsie</td><td>Wachtel</td><td>Female</td><td>France</td><td>27.0</td><td>16/08/2016</td><td>8642.0</td><td>null</td></tr><tr><td>38.0</td><td>Sau</td><td>Pfau</td><td>Female</td><td>United States</td><td>25.0</td><td>21/05/2015</td><td>9536.0</td><td>null</td></tr><tr><td>39.0</td><td>Shanice</td><td>Mccrystal</td><td>Female</td><td>United States</td><td>36.0</td><td>21/05/2015</td><td>2567.0</td><td>null</td></tr><tr><td>40.0</td><td>Chase</td><td>Karner</td><td>Male</td><td>United States</td><td>37.0</td><td>15/10/2017</td><td>2154.0</td><td>null</td></tr><tr><td>41.0</td><td>Tommie</td><td>Underdahl</td><td>Male</td><td>United States</td><td>26.0</td><td>16/08/2016</td><td>3265.0</td><td>null</td></tr><tr><td>42.0</td><td>Dorcas</td><td>Darity</td><td>Female</td><td>United States</td><td>37.0</td><td>21/05/2015</td><td>8765.0</td><td>null</td></tr><tr><td>43.0</td><td>Angel</td><td>Sanor</td><td>Male</td><td>France</td><td>24.0</td><td>15/10/2017</td><td>3259.0</td><td>null</td></tr><tr><td>44.0</td><td>Willodean</td><td>Harn</td><td>Female</td><td>United States</td><td>39.0</td><td>16/08/2016</td><td>3567.0</td><td>null</td></tr><tr><td>45.0</td><td>Weston</td><td>Martina</td><td>Male</td><td>United States</td><td>26.0</td><td>21/05/2015</td><td>6540.0</td><td>null</td></tr><tr><td>46.0</td><td>Roma</td><td>Lafollette</td><td>Female</td><td>United States</td><td>34.0</td><td>15/10/2017</td><td>2654.0</td><td>null</td></tr><tr><td>47.0</td><td>Felisa</td><td>Cail</td><td>Female</td><td>United States</td><td>28.0</td><td>16/08/2016</td><td>6525.0</td><td>null</td></tr><tr><td>48.0</td><td>Demetria</td><td>Abbey</td><td>Female</td><td>United States</td><td>32.0</td><td>21/05/2015</td><td>3265.0</td><td>null</td></tr><tr><td>49.0</td><td>Jeromy</td><td>Danz</td><td>Male</td><td>United States</td><td>39.0</td><td>15/10/2017</td><td>3265.0</td><td>null</td></tr><tr><td>50.0</td><td>Rasheeda</td><td>Alkire</td><td>Female</td><td>United States</td><td>29.0</td><td>16/08/2016</td><td>6125.0</td><td>null</td></tr><tr><td>51.0</td><td>Dulce</td><td>Abril</td><td>Female</td><td>United States</td><td>32.0</td><td>15/10/2017</td><td>1562.0</td><td>null</td></tr><tr><td>52.0</td><td>Mara</td><td>Hashimoto</td><td>Female</td><td>Great Britain</td><td>25.0</td><td>16/08/2016</td><td>1582.0</td><td>null</td></tr><tr><td>53.0</td><td>Philip</td><td>Gent</td><td>Male</td><td>France</td><td>36.0</td><td>21/05/2015</td><td>2587.0</td><td>null</td></tr><tr><td>54.0</td><td>Kathleen</td><td>Hanner</td><td>Female</td><td>United States</td><td>25.0</td><td>15/10/2017</td><td>3549.0</td><td>null</td></tr><tr><td>55.0</td><td>Nereida</td><td>Magwood</td><td>Female</td><td>United States</td><td>58.0</td><td>16/08/2016</td><td>2468.0</td><td>null</td></tr><tr><td>56.0</td><td>Gaston</td><td>Brumm</td><td>Male</td><td>United States</td><td>24.0</td><td>21/05/2015</td><td>2554.0</td><td>null</td></tr><tr><td>57.0</td><td>Etta</td><td>Hurn</td><td>Female</td><td>Great Britain</td><td>56.0</td><td>15/10/2017</td><td>3598.0</td><td>null</td></tr><tr><td>58.0</td><td>Earlean</td><td>Melgar</td><td>Female</td><td>United States</td><td>27.0</td><td>16/08/2016</td><td>2456.0</td><td>null</td></tr><tr><td>59.0</td><td>Vincenza</td><td>Weiland</td><td>Female</td><td>United States</td><td>40.0</td><td>21/05/2015</td><td>6548.0</td><td>null</td></tr><tr><td>60.0</td><td>Fallon</td><td>Winward</td><td>Female</td><td>Great Britain</td><td>28.0</td><td>16/08/2016</td><td>5486.0</td><td>null</td></tr><tr><td>61.0</td><td>Arcelia</td><td>Bouska</td><td>Female</td><td>Great Britain</td><td>39.0</td><td>21/05/2015</td><td>1258.0</td><td>null</td></tr><tr><td>62.0</td><td>Franklyn</td><td>Unknow</td><td>Male</td><td>France</td><td>38.0</td><td>15/10/2017</td><td>2579.0</td><td>null</td></tr><tr><td>63.0</td><td>Sherron</td><td>Ascencio</td><td>Female</td><td>Great Britain</td><td>32.0</td><td>16/08/2016</td><td>3256.0</td><td>null</td></tr><tr><td>64.0</td><td>Marcel</td><td>Zabriskie</td><td>Male</td><td>Great Britain</td><td>26.0</td><td>21/05/2015</td><td>2587.0</td><td>null</td></tr><tr><td>65.0</td><td>Kina</td><td>Hazelton</td><td>Female</td><td>Great Britain</td><td>31.0</td><td>16/08/2016</td><td>3259.0</td><td>null</td></tr><tr><td>66.0</td><td>Shavonne</td><td>Pia</td><td>Female</td><td>France</td><td>24.0</td><td>21/05/2015</td><td>1546.0</td><td>null</td></tr><tr><td>67.0</td><td>Shavon</td><td>Benito</td><td>Female</td><td>France</td><td>39.0</td><td>15/10/2017</td><td>3579.0</td><td>null</td></tr><tr><td>68.0</td><td>Lauralee</td><td>Perrine</td><td>Female</td><td>Great Britain</td><td>28.0</td><td>16/08/2016</td><td>6597.0</td><td>null</td></tr><tr><td>69.0</td><td>Loreta</td><td>Curren</td><td>Female</td><td>France</td><td>26.0</td><td>21/05/2015</td><td>9654.0</td><td>null</td></tr><tr><td>70.0</td><td>Teresa</td><td>Strawn</td><td>Female</td><td>France</td><td>46.0</td><td>21/05/2015</td><td>3569.0</td><td>null</td></tr><tr><td>71.0</td><td>Belinda</td><td>Partain</td><td>Female</td><td>United States</td><td>37.0</td><td>15/10/2017</td><td>2564.0</td><td>null</td></tr><tr><td>72.0</td><td>Holly</td><td>Eudy</td><td>Female</td><td>United States</td><td>52.0</td><td>16/08/2016</td><td>8561.0</td><td>null</td></tr><tr><td>73.0</td><td>Many</td><td>Cuccia</td><td>Female</td><td>Great Britain</td><td>46.0</td><td>21/05/2015</td><td>5489.0</td><td>null</td></tr><tr><td>74.0</td><td>Libbie</td><td>Dalby</td><td>Female</td><td>France</td><td>42.0</td><td>21/05/2015</td><td>5489.0</td><td>null</td></tr><tr><td>75.0</td><td>Lester</td><td>Prothro</td><td>Male</td><td>France</td><td>21.0</td><td>15/10/2017</td><td>6574.0</td><td>null</td></tr><tr><td>76.0</td><td>Marvel</td><td>Hail</td><td>Female</td><td>Great Britain</td><td>28.0</td><td>16/08/2016</td><td>5555.0</td><td>null</td></tr><tr><td>77.0</td><td>Angelyn</td><td>Vong</td><td>Female</td><td>United States</td><td>29.0</td><td>21/05/2015</td><td>6125.0</td><td>null</td></tr><tr><td>78.0</td><td>Francesca</td><td>Beaudreau</td><td>Female</td><td>France</td><td>23.0</td><td>15/10/2017</td><td>5412.0</td><td>null</td></tr><tr><td>79.0</td><td>Garth</td><td>Gangi</td><td>Male</td><td>United States</td><td>41.0</td><td>16/08/2016</td><td>3256.0</td><td>null</td></tr><tr><td>80.0</td><td>Carla</td><td>Trumbull</td><td>Female</td><td>Great Britain</td><td>28.0</td><td>21/05/2015</td><td>3264.0</td><td>null</td></tr><tr><td>81.0</td><td>Veta</td><td>Muntz</td><td>Female</td><td>Great Britain</td><td>37.0</td><td>15/10/2017</td><td>4569.0</td><td>null</td></tr><tr><td>82.0</td><td>Stasia</td><td>Becker</td><td>Female</td><td>Great Britain</td><td>34.0</td><td>16/08/2016</td><td>7521.0</td><td>null</td></tr><tr><td>83.0</td><td>Jona</td><td>Grindle</td><td>Female</td><td>Great Britain</td><td>26.0</td><td>21/05/2015</td><td>6458.0</td><td>null</td></tr><tr><td>84.0</td><td>Judie</td><td>Claywell</td><td>Female</td><td>France</td><td>35.0</td><td>16/08/2016</td><td>7569.0</td><td>null</td></tr><tr><td>85.0</td><td>Dewitt</td><td>Borger</td><td>Male</td><td>United States</td><td>36.0</td><td>21/05/2015</td><td>8514.0</td><td>null</td></tr><tr><td>86.0</td><td>Nena</td><td>Hacker</td><td>Female</td><td>United States</td><td>29.0</td><td>15/10/2017</td><td>8563.0</td><td>null</td></tr><tr><td>87.0</td><td>Kelsie</td><td>Wachtel</td><td>Female</td><td>France</td><td>27.0</td><td>16/08/2016</td><td>8642.0</td><td>null</td></tr><tr><td>88.0</td><td>Sau</td><td>Pfau</td><td>Female</td><td>United States</td><td>25.0</td><td>21/05/2015</td><td>9536.0</td><td>null</td></tr><tr><td>89.0</td><td>Shanice</td><td>Mccrystal</td><td>Female</td><td>United States</td><td>36.0</td><td>21/05/2015</td><td>2567.0</td><td>null</td></tr><tr><td>90.0</td><td>Chase</td><td>Karner</td><td>Male</td><td>United States</td><td>37.0</td><td>15/10/2017</td><td>2154.0</td><td>null</td></tr><tr><td>91.0</td><td>Tommie</td><td>Underdahl</td><td>Male</td><td>United States</td><td>26.0</td><td>16/08/2016</td><td>3265.0</td><td>null</td></tr><tr><td>92.0</td><td>Dorcas</td><td>Darity</td><td>Female</td><td>United States</td><td>37.0</td><td>21/05/2015</td><td>8765.0</td><td>null</td></tr><tr><td>93.0</td><td>Angel</td><td>Sanor</td><td>Male</td><td>France</td><td>24.0</td><td>15/10/2017</td><td>3259.0</td><td>null</td></tr><tr><td>94.0</td><td>Willodean</td><td>Harn</td><td>Female</td><td>United States</td><td>39.0</td><td>16/08/2016</td><td>3567.0</td><td>null</td></tr><tr><td>95.0</td><td>Weston</td><td>Martina</td><td>Male</td><td>United States</td><td>26.0</td><td>21/05/2015</td><td>6540.0</td><td>null</td></tr><tr><td>96.0</td><td>Roma</td><td>Lafollette</td><td>Female</td><td>United States</td><td>34.0</td><td>15/10/2017</td><td>2654.0</td><td>null</td></tr><tr><td>97.0</td><td>Felisa</td><td>Cail</td><td>Female</td><td>United States</td><td>28.0</td><td>16/08/2016</td><td>6525.0</td><td>null</td></tr><tr><td>98.0</td><td>Demetria</td><td>Abbey</td><td>Female</td><td>United States</td><td>32.0</td><td>21/05/2015</td><td>3265.0</td><td>null</td></tr><tr><td>99.0</td><td>Jeromy</td><td>Danz</td><td>Male</td><td>United States</td><td>39.0</td><td>15/10/2017</td><td>3265.0</td><td>null</td></tr><tr><td>100.0</td><td>Rasheeda</td><td>Alkire</td><td>Female</td><td>United States</td><td>29.0</td><td>16/08/2016</td><td>6125.0</td><td>null</td></tr></tbody></table></div>"
      ]
     },
     "metadata": {
      "application/vnd.databricks.v1+output": {
       "addedWidgets": {},
       "aggData": [],
       "aggError": "",
       "aggOverflow": false,
       "aggSchema": [],
       "aggSeriesLimitReached": false,
       "aggType": "",
       "arguments": {},
       "columnCustomDisplayInfos": {},
       "data": [
        [
         1.0,
         "Dulce",
         "Abril",
         "Female",
         "United States",
         32.0,
         "15/10/2017",
         1562.0,
         null
        ],
        [
         2.0,
         "Mara",
         "Hashimoto",
         "Female",
         "Great Britain",
         25.0,
         "16/08/2016",
         1582.0,
         null
        ],
        [
         3.0,
         "Philip",
         "Gent",
         "Male",
         "France",
         36.0,
         "21/05/2015",
         2587.0,
         null
        ],
        [
         4.0,
         "Kathleen",
         "Hanner",
         "Female",
         "United States",
         25.0,
         "15/10/2017",
         3549.0,
         null
        ],
        [
         5.0,
         "Nereida",
         "Magwood",
         "Female",
         "United States",
         58.0,
         "16/08/2016",
         2468.0,
         null
        ],
        [
         6.0,
         "Gaston",
         "Brumm",
         "Male",
         "United States",
         24.0,
         "21/05/2015",
         2554.0,
         null
        ],
        [
         7.0,
         "Etta",
         "Hurn",
         "Female",
         "Great Britain",
         56.0,
         "15/10/2017",
         3598.0,
         null
        ],
        [
         8.0,
         "Earlean",
         "Melgar",
         "Female",
         "United States",
         27.0,
         "16/08/2016",
         2456.0,
         null
        ],
        [
         9.0,
         "Vincenza",
         "Weiland",
         "Female",
         "United States",
         40.0,
         "21/05/2015",
         6548.0,
         null
        ],
        [
         10.0,
         "Fallon",
         "Winward",
         "Female",
         "Great Britain",
         28.0,
         "16/08/2016",
         5486.0,
         null
        ],
        [
         11.0,
         "Arcelia",
         "Bouska",
         "Female",
         "Great Britain",
         39.0,
         "21/05/2015",
         1258.0,
         null
        ],
        [
         12.0,
         "Franklyn",
         "Unknow",
         "Male",
         "France",
         38.0,
         "15/10/2017",
         2579.0,
         null
        ],
        [
         13.0,
         "Sherron",
         "Ascencio",
         "Female",
         "Great Britain",
         32.0,
         "16/08/2016",
         3256.0,
         null
        ],
        [
         14.0,
         "Marcel",
         "Zabriskie",
         "Male",
         "Great Britain",
         26.0,
         "21/05/2015",
         2587.0,
         null
        ],
        [
         15.0,
         "Kina",
         "Hazelton",
         "Female",
         "Great Britain",
         31.0,
         "16/08/2016",
         3259.0,
         null
        ],
        [
         16.0,
         "Shavonne",
         "Pia",
         "Female",
         "France",
         24.0,
         "21/05/2015",
         1546.0,
         null
        ],
        [
         17.0,
         "Shavon",
         "Benito",
         "Female",
         "France",
         39.0,
         "15/10/2017",
         3579.0,
         null
        ],
        [
         18.0,
         "Lauralee",
         "Perrine",
         "Female",
         "Great Britain",
         28.0,
         "16/08/2016",
         6597.0,
         null
        ],
        [
         19.0,
         "Loreta",
         "Curren",
         "Female",
         "France",
         26.0,
         "21/05/2015",
         9654.0,
         null
        ],
        [
         20.0,
         "Teresa",
         "Strawn",
         "Female",
         "France",
         46.0,
         "21/05/2015",
         3569.0,
         null
        ],
        [
         21.0,
         "Belinda",
         "Partain",
         "Female",
         "United States",
         37.0,
         "15/10/2017",
         2564.0,
         null
        ],
        [
         22.0,
         "Holly",
         "Eudy",
         "Female",
         "United States",
         52.0,
         "16/08/2016",
         8561.0,
         null
        ],
        [
         23.0,
         "Many",
         "Cuccia",
         "Female",
         "Great Britain",
         46.0,
         "21/05/2015",
         5489.0,
         null
        ],
        [
         24.0,
         "Libbie",
         "Dalby",
         "Female",
         "France",
         42.0,
         "21/05/2015",
         5489.0,
         null
        ],
        [
         25.0,
         "Lester",
         "Prothro",
         "Male",
         "France",
         21.0,
         "15/10/2017",
         6574.0,
         null
        ],
        [
         26.0,
         "Marvel",
         "Hail",
         "Female",
         "Great Britain",
         28.0,
         "16/08/2016",
         5555.0,
         null
        ],
        [
         27.0,
         "Angelyn",
         "Vong",
         "Female",
         "United States",
         29.0,
         "21/05/2015",
         6125.0,
         null
        ],
        [
         28.0,
         "Francesca",
         "Beaudreau",
         "Female",
         "France",
         23.0,
         "15/10/2017",
         5412.0,
         null
        ],
        [
         29.0,
         "Garth",
         "Gangi",
         "Male",
         "United States",
         41.0,
         "16/08/2016",
         3256.0,
         null
        ],
        [
         30.0,
         "Carla",
         "Trumbull",
         "Female",
         "Great Britain",
         28.0,
         "21/05/2015",
         3264.0,
         null
        ],
        [
         31.0,
         "Veta",
         "Muntz",
         "Female",
         "Great Britain",
         37.0,
         "15/10/2017",
         4569.0,
         null
        ],
        [
         32.0,
         "Stasia",
         "Becker",
         "Female",
         "Great Britain",
         34.0,
         "16/08/2016",
         7521.0,
         null
        ],
        [
         33.0,
         "Jona",
         "Grindle",
         "Female",
         "Great Britain",
         26.0,
         "21/05/2015",
         6458.0,
         null
        ],
        [
         34.0,
         "Judie",
         "Claywell",
         "Female",
         "France",
         35.0,
         "16/08/2016",
         7569.0,
         null
        ],
        [
         35.0,
         "Dewitt",
         "Borger",
         "Male",
         "United States",
         36.0,
         "21/05/2015",
         8514.0,
         null
        ],
        [
         36.0,
         "Nena",
         "Hacker",
         "Female",
         "United States",
         29.0,
         "15/10/2017",
         8563.0,
         null
        ],
        [
         37.0,
         "Kelsie",
         "Wachtel",
         "Female",
         "France",
         27.0,
         "16/08/2016",
         8642.0,
         null
        ],
        [
         38.0,
         "Sau",
         "Pfau",
         "Female",
         "United States",
         25.0,
         "21/05/2015",
         9536.0,
         null
        ],
        [
         39.0,
         "Shanice",
         "Mccrystal",
         "Female",
         "United States",
         36.0,
         "21/05/2015",
         2567.0,
         null
        ],
        [
         40.0,
         "Chase",
         "Karner",
         "Male",
         "United States",
         37.0,
         "15/10/2017",
         2154.0,
         null
        ],
        [
         41.0,
         "Tommie",
         "Underdahl",
         "Male",
         "United States",
         26.0,
         "16/08/2016",
         3265.0,
         null
        ],
        [
         42.0,
         "Dorcas",
         "Darity",
         "Female",
         "United States",
         37.0,
         "21/05/2015",
         8765.0,
         null
        ],
        [
         43.0,
         "Angel",
         "Sanor",
         "Male",
         "France",
         24.0,
         "15/10/2017",
         3259.0,
         null
        ],
        [
         44.0,
         "Willodean",
         "Harn",
         "Female",
         "United States",
         39.0,
         "16/08/2016",
         3567.0,
         null
        ],
        [
         45.0,
         "Weston",
         "Martina",
         "Male",
         "United States",
         26.0,
         "21/05/2015",
         6540.0,
         null
        ],
        [
         46.0,
         "Roma",
         "Lafollette",
         "Female",
         "United States",
         34.0,
         "15/10/2017",
         2654.0,
         null
        ],
        [
         47.0,
         "Felisa",
         "Cail",
         "Female",
         "United States",
         28.0,
         "16/08/2016",
         6525.0,
         null
        ],
        [
         48.0,
         "Demetria",
         "Abbey",
         "Female",
         "United States",
         32.0,
         "21/05/2015",
         3265.0,
         null
        ],
        [
         49.0,
         "Jeromy",
         "Danz",
         "Male",
         "United States",
         39.0,
         "15/10/2017",
         3265.0,
         null
        ],
        [
         50.0,
         "Rasheeda",
         "Alkire",
         "Female",
         "United States",
         29.0,
         "16/08/2016",
         6125.0,
         null
        ],
        [
         51.0,
         "Dulce",
         "Abril",
         "Female",
         "United States",
         32.0,
         "15/10/2017",
         1562.0,
         null
        ],
        [
         52.0,
         "Mara",
         "Hashimoto",
         "Female",
         "Great Britain",
         25.0,
         "16/08/2016",
         1582.0,
         null
        ],
        [
         53.0,
         "Philip",
         "Gent",
         "Male",
         "France",
         36.0,
         "21/05/2015",
         2587.0,
         null
        ],
        [
         54.0,
         "Kathleen",
         "Hanner",
         "Female",
         "United States",
         25.0,
         "15/10/2017",
         3549.0,
         null
        ],
        [
         55.0,
         "Nereida",
         "Magwood",
         "Female",
         "United States",
         58.0,
         "16/08/2016",
         2468.0,
         null
        ],
        [
         56.0,
         "Gaston",
         "Brumm",
         "Male",
         "United States",
         24.0,
         "21/05/2015",
         2554.0,
         null
        ],
        [
         57.0,
         "Etta",
         "Hurn",
         "Female",
         "Great Britain",
         56.0,
         "15/10/2017",
         3598.0,
         null
        ],
        [
         58.0,
         "Earlean",
         "Melgar",
         "Female",
         "United States",
         27.0,
         "16/08/2016",
         2456.0,
         null
        ],
        [
         59.0,
         "Vincenza",
         "Weiland",
         "Female",
         "United States",
         40.0,
         "21/05/2015",
         6548.0,
         null
        ],
        [
         60.0,
         "Fallon",
         "Winward",
         "Female",
         "Great Britain",
         28.0,
         "16/08/2016",
         5486.0,
         null
        ],
        [
         61.0,
         "Arcelia",
         "Bouska",
         "Female",
         "Great Britain",
         39.0,
         "21/05/2015",
         1258.0,
         null
        ],
        [
         62.0,
         "Franklyn",
         "Unknow",
         "Male",
         "France",
         38.0,
         "15/10/2017",
         2579.0,
         null
        ],
        [
         63.0,
         "Sherron",
         "Ascencio",
         "Female",
         "Great Britain",
         32.0,
         "16/08/2016",
         3256.0,
         null
        ],
        [
         64.0,
         "Marcel",
         "Zabriskie",
         "Male",
         "Great Britain",
         26.0,
         "21/05/2015",
         2587.0,
         null
        ],
        [
         65.0,
         "Kina",
         "Hazelton",
         "Female",
         "Great Britain",
         31.0,
         "16/08/2016",
         3259.0,
         null
        ],
        [
         66.0,
         "Shavonne",
         "Pia",
         "Female",
         "France",
         24.0,
         "21/05/2015",
         1546.0,
         null
        ],
        [
         67.0,
         "Shavon",
         "Benito",
         "Female",
         "France",
         39.0,
         "15/10/2017",
         3579.0,
         null
        ],
        [
         68.0,
         "Lauralee",
         "Perrine",
         "Female",
         "Great Britain",
         28.0,
         "16/08/2016",
         6597.0,
         null
        ],
        [
         69.0,
         "Loreta",
         "Curren",
         "Female",
         "France",
         26.0,
         "21/05/2015",
         9654.0,
         null
        ],
        [
         70.0,
         "Teresa",
         "Strawn",
         "Female",
         "France",
         46.0,
         "21/05/2015",
         3569.0,
         null
        ],
        [
         71.0,
         "Belinda",
         "Partain",
         "Female",
         "United States",
         37.0,
         "15/10/2017",
         2564.0,
         null
        ],
        [
         72.0,
         "Holly",
         "Eudy",
         "Female",
         "United States",
         52.0,
         "16/08/2016",
         8561.0,
         null
        ],
        [
         73.0,
         "Many",
         "Cuccia",
         "Female",
         "Great Britain",
         46.0,
         "21/05/2015",
         5489.0,
         null
        ],
        [
         74.0,
         "Libbie",
         "Dalby",
         "Female",
         "France",
         42.0,
         "21/05/2015",
         5489.0,
         null
        ],
        [
         75.0,
         "Lester",
         "Prothro",
         "Male",
         "France",
         21.0,
         "15/10/2017",
         6574.0,
         null
        ],
        [
         76.0,
         "Marvel",
         "Hail",
         "Female",
         "Great Britain",
         28.0,
         "16/08/2016",
         5555.0,
         null
        ],
        [
         77.0,
         "Angelyn",
         "Vong",
         "Female",
         "United States",
         29.0,
         "21/05/2015",
         6125.0,
         null
        ],
        [
         78.0,
         "Francesca",
         "Beaudreau",
         "Female",
         "France",
         23.0,
         "15/10/2017",
         5412.0,
         null
        ],
        [
         79.0,
         "Garth",
         "Gangi",
         "Male",
         "United States",
         41.0,
         "16/08/2016",
         3256.0,
         null
        ],
        [
         80.0,
         "Carla",
         "Trumbull",
         "Female",
         "Great Britain",
         28.0,
         "21/05/2015",
         3264.0,
         null
        ],
        [
         81.0,
         "Veta",
         "Muntz",
         "Female",
         "Great Britain",
         37.0,
         "15/10/2017",
         4569.0,
         null
        ],
        [
         82.0,
         "Stasia",
         "Becker",
         "Female",
         "Great Britain",
         34.0,
         "16/08/2016",
         7521.0,
         null
        ],
        [
         83.0,
         "Jona",
         "Grindle",
         "Female",
         "Great Britain",
         26.0,
         "21/05/2015",
         6458.0,
         null
        ],
        [
         84.0,
         "Judie",
         "Claywell",
         "Female",
         "France",
         35.0,
         "16/08/2016",
         7569.0,
         null
        ],
        [
         85.0,
         "Dewitt",
         "Borger",
         "Male",
         "United States",
         36.0,
         "21/05/2015",
         8514.0,
         null
        ],
        [
         86.0,
         "Nena",
         "Hacker",
         "Female",
         "United States",
         29.0,
         "15/10/2017",
         8563.0,
         null
        ],
        [
         87.0,
         "Kelsie",
         "Wachtel",
         "Female",
         "France",
         27.0,
         "16/08/2016",
         8642.0,
         null
        ],
        [
         88.0,
         "Sau",
         "Pfau",
         "Female",
         "United States",
         25.0,
         "21/05/2015",
         9536.0,
         null
        ],
        [
         89.0,
         "Shanice",
         "Mccrystal",
         "Female",
         "United States",
         36.0,
         "21/05/2015",
         2567.0,
         null
        ],
        [
         90.0,
         "Chase",
         "Karner",
         "Male",
         "United States",
         37.0,
         "15/10/2017",
         2154.0,
         null
        ],
        [
         91.0,
         "Tommie",
         "Underdahl",
         "Male",
         "United States",
         26.0,
         "16/08/2016",
         3265.0,
         null
        ],
        [
         92.0,
         "Dorcas",
         "Darity",
         "Female",
         "United States",
         37.0,
         "21/05/2015",
         8765.0,
         null
        ],
        [
         93.0,
         "Angel",
         "Sanor",
         "Male",
         "France",
         24.0,
         "15/10/2017",
         3259.0,
         null
        ],
        [
         94.0,
         "Willodean",
         "Harn",
         "Female",
         "United States",
         39.0,
         "16/08/2016",
         3567.0,
         null
        ],
        [
         95.0,
         "Weston",
         "Martina",
         "Male",
         "United States",
         26.0,
         "21/05/2015",
         6540.0,
         null
        ],
        [
         96.0,
         "Roma",
         "Lafollette",
         "Female",
         "United States",
         34.0,
         "15/10/2017",
         2654.0,
         null
        ],
        [
         97.0,
         "Felisa",
         "Cail",
         "Female",
         "United States",
         28.0,
         "16/08/2016",
         6525.0,
         null
        ],
        [
         98.0,
         "Demetria",
         "Abbey",
         "Female",
         "United States",
         32.0,
         "21/05/2015",
         3265.0,
         null
        ],
        [
         99.0,
         "Jeromy",
         "Danz",
         "Male",
         "United States",
         39.0,
         "15/10/2017",
         3265.0,
         null
        ],
        [
         100.0,
         "Rasheeda",
         "Alkire",
         "Female",
         "United States",
         29.0,
         "16/08/2016",
         6125.0,
         null
        ]
       ],
       "datasetInfos": [],
       "dbfsResultPath": null,
       "isJsonSchema": true,
       "metadata": {},
       "overflow": false,
       "plotOptions": {
        "customPlotOptions": {},
        "displayType": "table",
        "pivotAggregation": null,
        "pivotColumns": null,
        "xColumns": null,
        "yColumns": null
       },
       "removedWidgets": [],
       "schema": [
        {
         "metadata": "{}",
         "name": "Sid",
         "type": "\"double\""
        },
        {
         "metadata": "{}",
         "name": "First Name",
         "type": "\"string\""
        },
        {
         "metadata": "{}",
         "name": "Last Name",
         "type": "\"string\""
        },
        {
         "metadata": "{}",
         "name": "Gender",
         "type": "\"string\""
        },
        {
         "metadata": "{}",
         "name": "Country",
         "type": "\"string\""
        },
        {
         "metadata": "{}",
         "name": "Age",
         "type": "\"double\""
        },
        {
         "metadata": "{}",
         "name": "Date",
         "type": "\"string\""
        },
        {
         "metadata": "{}",
         "name": "Id",
         "type": "\"double\""
        },
        {
         "metadata": "{}",
         "name": "_c8",
         "type": "\"string\""
        }
       ],
       "type": "table"
      }
     },
     "output_type": "display_data"
    }
   ],
   "source": [
    "df.display()"
   ]
  },
  {
   "cell_type": "code",
   "execution_count": 0,
   "metadata": {
    "application/vnd.databricks.v1+cell": {
     "cellMetadata": {
      "byteLimit": 2048000,
      "rowLimit": 10000
     },
     "inputWidgets": {},
     "nuid": "369be416-7f50-44f5-bc47-7b3d15eada83",
     "showTitle": false,
     "title": ""
    }
   },
   "outputs": [],
   "source": [
    "# Loading Excel Sheet into Dataframe from a specific sheet\n",
    "excel_file = \"dbfs:/FileStore/shared_uploads/yateed1437@gmail.com/HR_Employee.xlsx\"\n",
    "sheet_name = \"'Citizen'!A1\"\n",
    "df = spark.read.format(\"com.crealytics.spark.excel\") \\\n",
    "    .option(\"inferSchema\", True) \\\n",
    "    .option(\"dataAddress\", sheet_name) \\\n",
    "    .option(\"header\", True) \\\n",
    "    .load(excel_file)"
   ]
  },
  {
   "cell_type": "code",
   "execution_count": 0,
   "metadata": {
    "application/vnd.databricks.v1+cell": {
     "cellMetadata": {
      "byteLimit": 2048000,
      "rowLimit": 10000
     },
     "inputWidgets": {},
     "nuid": "61657630-b038-437b-8c47-38d8d8ef98a0",
     "showTitle": false,
     "title": ""
    }
   },
   "outputs": [
    {
     "output_type": "display_data",
     "data": {
      "text/html": [
       "<style scoped>\n",
       "  .table-result-container {\n",
       "    max-height: 300px;\n",
       "    overflow: auto;\n",
       "  }\n",
       "  table, th, td {\n",
       "    border: 1px solid black;\n",
       "    border-collapse: collapse;\n",
       "  }\n",
       "  th, td {\n",
       "    padding: 5px;\n",
       "  }\n",
       "  th {\n",
       "    text-align: left;\n",
       "  }\n",
       "</style><div class='table-result-container'><table class='table-result'><thead style='background-color: white'><tr><th>Sid</th><th>First Name</th><th>Last Name</th><th>Gender</th><th>Country</th><th>Age</th><th>Date</th><th>Id</th><th>_c8</th></tr></thead><tbody><tr><td>1.0</td><td>Dulce</td><td>Abril</td><td>Female</td><td>United States</td><td>32.0</td><td>15/10/2017</td><td>1562.0</td><td>null</td></tr><tr><td>2.0</td><td>Mara</td><td>Hashimoto</td><td>Female</td><td>Great Britain</td><td>25.0</td><td>16/08/2016</td><td>1582.0</td><td>null</td></tr><tr><td>3.0</td><td>Philip</td><td>Gent</td><td>Male</td><td>France</td><td>36.0</td><td>21/05/2015</td><td>2587.0</td><td>null</td></tr><tr><td>4.0</td><td>Kathleen</td><td>Hanner</td><td>Female</td><td>United States</td><td>25.0</td><td>15/10/2017</td><td>3549.0</td><td>null</td></tr><tr><td>5.0</td><td>Nereida</td><td>Magwood</td><td>Female</td><td>United States</td><td>58.0</td><td>16/08/2016</td><td>2468.0</td><td>null</td></tr><tr><td>6.0</td><td>Gaston</td><td>Brumm</td><td>Male</td><td>United States</td><td>24.0</td><td>21/05/2015</td><td>2554.0</td><td>null</td></tr><tr><td>7.0</td><td>Etta</td><td>Hurn</td><td>Female</td><td>Great Britain</td><td>56.0</td><td>15/10/2017</td><td>3598.0</td><td>null</td></tr><tr><td>8.0</td><td>Earlean</td><td>Melgar</td><td>Female</td><td>United States</td><td>27.0</td><td>16/08/2016</td><td>2456.0</td><td>null</td></tr><tr><td>9.0</td><td>Vincenza</td><td>Weiland</td><td>Female</td><td>United States</td><td>40.0</td><td>21/05/2015</td><td>6548.0</td><td>null</td></tr><tr><td>10.0</td><td>Fallon</td><td>Winward</td><td>Female</td><td>Great Britain</td><td>28.0</td><td>16/08/2016</td><td>5486.0</td><td>null</td></tr><tr><td>11.0</td><td>Arcelia</td><td>Bouska</td><td>Female</td><td>Great Britain</td><td>39.0</td><td>21/05/2015</td><td>1258.0</td><td>null</td></tr><tr><td>12.0</td><td>Franklyn</td><td>Unknow</td><td>Male</td><td>France</td><td>38.0</td><td>15/10/2017</td><td>2579.0</td><td>null</td></tr><tr><td>13.0</td><td>Sherron</td><td>Ascencio</td><td>Female</td><td>Great Britain</td><td>32.0</td><td>16/08/2016</td><td>3256.0</td><td>null</td></tr><tr><td>14.0</td><td>Marcel</td><td>Zabriskie</td><td>Male</td><td>Great Britain</td><td>26.0</td><td>21/05/2015</td><td>2587.0</td><td>null</td></tr><tr><td>15.0</td><td>Kina</td><td>Hazelton</td><td>Female</td><td>Great Britain</td><td>31.0</td><td>16/08/2016</td><td>3259.0</td><td>null</td></tr><tr><td>16.0</td><td>Shavonne</td><td>Pia</td><td>Female</td><td>France</td><td>24.0</td><td>21/05/2015</td><td>1546.0</td><td>null</td></tr><tr><td>17.0</td><td>Shavon</td><td>Benito</td><td>Female</td><td>France</td><td>39.0</td><td>15/10/2017</td><td>3579.0</td><td>null</td></tr><tr><td>18.0</td><td>Lauralee</td><td>Perrine</td><td>Female</td><td>Great Britain</td><td>28.0</td><td>16/08/2016</td><td>6597.0</td><td>null</td></tr><tr><td>19.0</td><td>Loreta</td><td>Curren</td><td>Female</td><td>France</td><td>26.0</td><td>21/05/2015</td><td>9654.0</td><td>null</td></tr><tr><td>20.0</td><td>Teresa</td><td>Strawn</td><td>Female</td><td>France</td><td>46.0</td><td>21/05/2015</td><td>3569.0</td><td>null</td></tr><tr><td>21.0</td><td>Belinda</td><td>Partain</td><td>Female</td><td>United States</td><td>37.0</td><td>15/10/2017</td><td>2564.0</td><td>null</td></tr><tr><td>22.0</td><td>Holly</td><td>Eudy</td><td>Female</td><td>United States</td><td>52.0</td><td>16/08/2016</td><td>8561.0</td><td>null</td></tr><tr><td>23.0</td><td>Many</td><td>Cuccia</td><td>Female</td><td>Great Britain</td><td>46.0</td><td>21/05/2015</td><td>5489.0</td><td>null</td></tr><tr><td>24.0</td><td>Libbie</td><td>Dalby</td><td>Female</td><td>France</td><td>42.0</td><td>21/05/2015</td><td>5489.0</td><td>null</td></tr><tr><td>25.0</td><td>Lester</td><td>Prothro</td><td>Male</td><td>France</td><td>21.0</td><td>15/10/2017</td><td>6574.0</td><td>null</td></tr><tr><td>26.0</td><td>Marvel</td><td>Hail</td><td>Female</td><td>Great Britain</td><td>28.0</td><td>16/08/2016</td><td>5555.0</td><td>null</td></tr><tr><td>27.0</td><td>Angelyn</td><td>Vong</td><td>Female</td><td>United States</td><td>29.0</td><td>21/05/2015</td><td>6125.0</td><td>null</td></tr><tr><td>28.0</td><td>Francesca</td><td>Beaudreau</td><td>Female</td><td>France</td><td>23.0</td><td>15/10/2017</td><td>5412.0</td><td>null</td></tr><tr><td>29.0</td><td>Garth</td><td>Gangi</td><td>Male</td><td>United States</td><td>41.0</td><td>16/08/2016</td><td>3256.0</td><td>null</td></tr><tr><td>30.0</td><td>Carla</td><td>Trumbull</td><td>Female</td><td>Great Britain</td><td>28.0</td><td>21/05/2015</td><td>3264.0</td><td>null</td></tr><tr><td>31.0</td><td>Veta</td><td>Muntz</td><td>Female</td><td>Great Britain</td><td>37.0</td><td>15/10/2017</td><td>4569.0</td><td>null</td></tr><tr><td>32.0</td><td>Stasia</td><td>Becker</td><td>Female</td><td>Great Britain</td><td>34.0</td><td>16/08/2016</td><td>7521.0</td><td>null</td></tr><tr><td>33.0</td><td>Jona</td><td>Grindle</td><td>Female</td><td>Great Britain</td><td>26.0</td><td>21/05/2015</td><td>6458.0</td><td>null</td></tr><tr><td>34.0</td><td>Judie</td><td>Claywell</td><td>Female</td><td>France</td><td>35.0</td><td>16/08/2016</td><td>7569.0</td><td>null</td></tr><tr><td>35.0</td><td>Dewitt</td><td>Borger</td><td>Male</td><td>United States</td><td>36.0</td><td>21/05/2015</td><td>8514.0</td><td>null</td></tr><tr><td>36.0</td><td>Nena</td><td>Hacker</td><td>Female</td><td>United States</td><td>29.0</td><td>15/10/2017</td><td>8563.0</td><td>null</td></tr><tr><td>37.0</td><td>Kelsie</td><td>Wachtel</td><td>Female</td><td>France</td><td>27.0</td><td>16/08/2016</td><td>8642.0</td><td>null</td></tr><tr><td>38.0</td><td>Sau</td><td>Pfau</td><td>Female</td><td>United States</td><td>25.0</td><td>21/05/2015</td><td>9536.0</td><td>null</td></tr><tr><td>39.0</td><td>Shanice</td><td>Mccrystal</td><td>Female</td><td>United States</td><td>36.0</td><td>21/05/2015</td><td>2567.0</td><td>null</td></tr><tr><td>40.0</td><td>Chase</td><td>Karner</td><td>Male</td><td>United States</td><td>37.0</td><td>15/10/2017</td><td>2154.0</td><td>null</td></tr><tr><td>41.0</td><td>Tommie</td><td>Underdahl</td><td>Male</td><td>United States</td><td>26.0</td><td>16/08/2016</td><td>3265.0</td><td>null</td></tr><tr><td>42.0</td><td>Dorcas</td><td>Darity</td><td>Female</td><td>United States</td><td>37.0</td><td>21/05/2015</td><td>8765.0</td><td>null</td></tr><tr><td>43.0</td><td>Angel</td><td>Sanor</td><td>Male</td><td>France</td><td>24.0</td><td>15/10/2017</td><td>3259.0</td><td>null</td></tr><tr><td>44.0</td><td>Willodean</td><td>Harn</td><td>Female</td><td>United States</td><td>39.0</td><td>16/08/2016</td><td>3567.0</td><td>null</td></tr><tr><td>45.0</td><td>Weston</td><td>Martina</td><td>Male</td><td>United States</td><td>26.0</td><td>21/05/2015</td><td>6540.0</td><td>null</td></tr><tr><td>46.0</td><td>Roma</td><td>Lafollette</td><td>Female</td><td>United States</td><td>34.0</td><td>15/10/2017</td><td>2654.0</td><td>null</td></tr><tr><td>47.0</td><td>Felisa</td><td>Cail</td><td>Female</td><td>United States</td><td>28.0</td><td>16/08/2016</td><td>6525.0</td><td>null</td></tr><tr><td>48.0</td><td>Demetria</td><td>Abbey</td><td>Female</td><td>United States</td><td>32.0</td><td>21/05/2015</td><td>3265.0</td><td>null</td></tr><tr><td>49.0</td><td>Jeromy</td><td>Danz</td><td>Male</td><td>United States</td><td>39.0</td><td>15/10/2017</td><td>3265.0</td><td>null</td></tr><tr><td>50.0</td><td>Rasheeda</td><td>Alkire</td><td>Female</td><td>United States</td><td>29.0</td><td>16/08/2016</td><td>6125.0</td><td>null</td></tr><tr><td>51.0</td><td>Dulce</td><td>Abril</td><td>Female</td><td>United States</td><td>32.0</td><td>15/10/2017</td><td>1562.0</td><td>null</td></tr><tr><td>52.0</td><td>Mara</td><td>Hashimoto</td><td>Female</td><td>Great Britain</td><td>25.0</td><td>16/08/2016</td><td>1582.0</td><td>null</td></tr><tr><td>53.0</td><td>Philip</td><td>Gent</td><td>Male</td><td>France</td><td>36.0</td><td>21/05/2015</td><td>2587.0</td><td>null</td></tr><tr><td>54.0</td><td>Kathleen</td><td>Hanner</td><td>Female</td><td>United States</td><td>25.0</td><td>15/10/2017</td><td>3549.0</td><td>null</td></tr><tr><td>55.0</td><td>Nereida</td><td>Magwood</td><td>Female</td><td>United States</td><td>58.0</td><td>16/08/2016</td><td>2468.0</td><td>null</td></tr><tr><td>56.0</td><td>Gaston</td><td>Brumm</td><td>Male</td><td>United States</td><td>24.0</td><td>21/05/2015</td><td>2554.0</td><td>null</td></tr><tr><td>57.0</td><td>Etta</td><td>Hurn</td><td>Female</td><td>Great Britain</td><td>56.0</td><td>15/10/2017</td><td>3598.0</td><td>null</td></tr><tr><td>58.0</td><td>Earlean</td><td>Melgar</td><td>Female</td><td>United States</td><td>27.0</td><td>16/08/2016</td><td>2456.0</td><td>null</td></tr><tr><td>59.0</td><td>Vincenza</td><td>Weiland</td><td>Female</td><td>United States</td><td>40.0</td><td>21/05/2015</td><td>6548.0</td><td>null</td></tr><tr><td>60.0</td><td>Fallon</td><td>Winward</td><td>Female</td><td>Great Britain</td><td>28.0</td><td>16/08/2016</td><td>5486.0</td><td>null</td></tr><tr><td>61.0</td><td>Arcelia</td><td>Bouska</td><td>Female</td><td>Great Britain</td><td>39.0</td><td>21/05/2015</td><td>1258.0</td><td>null</td></tr><tr><td>62.0</td><td>Franklyn</td><td>Unknow</td><td>Male</td><td>France</td><td>38.0</td><td>15/10/2017</td><td>2579.0</td><td>null</td></tr><tr><td>63.0</td><td>Sherron</td><td>Ascencio</td><td>Female</td><td>Great Britain</td><td>32.0</td><td>16/08/2016</td><td>3256.0</td><td>null</td></tr><tr><td>64.0</td><td>Marcel</td><td>Zabriskie</td><td>Male</td><td>Great Britain</td><td>26.0</td><td>21/05/2015</td><td>2587.0</td><td>null</td></tr><tr><td>65.0</td><td>Kina</td><td>Hazelton</td><td>Female</td><td>Great Britain</td><td>31.0</td><td>16/08/2016</td><td>3259.0</td><td>null</td></tr><tr><td>66.0</td><td>Shavonne</td><td>Pia</td><td>Female</td><td>France</td><td>24.0</td><td>21/05/2015</td><td>1546.0</td><td>null</td></tr><tr><td>67.0</td><td>Shavon</td><td>Benito</td><td>Female</td><td>France</td><td>39.0</td><td>15/10/2017</td><td>3579.0</td><td>null</td></tr><tr><td>68.0</td><td>Lauralee</td><td>Perrine</td><td>Female</td><td>Great Britain</td><td>28.0</td><td>16/08/2016</td><td>6597.0</td><td>null</td></tr><tr><td>69.0</td><td>Loreta</td><td>Curren</td><td>Female</td><td>France</td><td>26.0</td><td>21/05/2015</td><td>9654.0</td><td>null</td></tr><tr><td>70.0</td><td>Teresa</td><td>Strawn</td><td>Female</td><td>France</td><td>46.0</td><td>21/05/2015</td><td>3569.0</td><td>null</td></tr><tr><td>71.0</td><td>Belinda</td><td>Partain</td><td>Female</td><td>United States</td><td>37.0</td><td>15/10/2017</td><td>2564.0</td><td>null</td></tr><tr><td>72.0</td><td>Holly</td><td>Eudy</td><td>Female</td><td>United States</td><td>52.0</td><td>16/08/2016</td><td>8561.0</td><td>null</td></tr><tr><td>73.0</td><td>Many</td><td>Cuccia</td><td>Female</td><td>Great Britain</td><td>46.0</td><td>21/05/2015</td><td>5489.0</td><td>null</td></tr><tr><td>74.0</td><td>Libbie</td><td>Dalby</td><td>Female</td><td>France</td><td>42.0</td><td>21/05/2015</td><td>5489.0</td><td>null</td></tr><tr><td>75.0</td><td>Lester</td><td>Prothro</td><td>Male</td><td>France</td><td>21.0</td><td>15/10/2017</td><td>6574.0</td><td>null</td></tr><tr><td>76.0</td><td>Marvel</td><td>Hail</td><td>Female</td><td>Great Britain</td><td>28.0</td><td>16/08/2016</td><td>5555.0</td><td>null</td></tr><tr><td>77.0</td><td>Angelyn</td><td>Vong</td><td>Female</td><td>United States</td><td>29.0</td><td>21/05/2015</td><td>6125.0</td><td>null</td></tr><tr><td>78.0</td><td>Francesca</td><td>Beaudreau</td><td>Female</td><td>France</td><td>23.0</td><td>15/10/2017</td><td>5412.0</td><td>null</td></tr><tr><td>79.0</td><td>Garth</td><td>Gangi</td><td>Male</td><td>United States</td><td>41.0</td><td>16/08/2016</td><td>3256.0</td><td>null</td></tr><tr><td>80.0</td><td>Carla</td><td>Trumbull</td><td>Female</td><td>Great Britain</td><td>28.0</td><td>21/05/2015</td><td>3264.0</td><td>null</td></tr><tr><td>81.0</td><td>Veta</td><td>Muntz</td><td>Female</td><td>Great Britain</td><td>37.0</td><td>15/10/2017</td><td>4569.0</td><td>null</td></tr><tr><td>82.0</td><td>Stasia</td><td>Becker</td><td>Female</td><td>Great Britain</td><td>34.0</td><td>16/08/2016</td><td>7521.0</td><td>null</td></tr><tr><td>83.0</td><td>Jona</td><td>Grindle</td><td>Female</td><td>Great Britain</td><td>26.0</td><td>21/05/2015</td><td>6458.0</td><td>null</td></tr><tr><td>84.0</td><td>Judie</td><td>Claywell</td><td>Female</td><td>France</td><td>35.0</td><td>16/08/2016</td><td>7569.0</td><td>null</td></tr><tr><td>85.0</td><td>Dewitt</td><td>Borger</td><td>Male</td><td>United States</td><td>36.0</td><td>21/05/2015</td><td>8514.0</td><td>null</td></tr><tr><td>86.0</td><td>Nena</td><td>Hacker</td><td>Female</td><td>United States</td><td>29.0</td><td>15/10/2017</td><td>8563.0</td><td>null</td></tr><tr><td>87.0</td><td>Kelsie</td><td>Wachtel</td><td>Female</td><td>France</td><td>27.0</td><td>16/08/2016</td><td>8642.0</td><td>null</td></tr><tr><td>88.0</td><td>Sau</td><td>Pfau</td><td>Female</td><td>United States</td><td>25.0</td><td>21/05/2015</td><td>9536.0</td><td>null</td></tr><tr><td>89.0</td><td>Shanice</td><td>Mccrystal</td><td>Female</td><td>United States</td><td>36.0</td><td>21/05/2015</td><td>2567.0</td><td>null</td></tr><tr><td>90.0</td><td>Chase</td><td>Karner</td><td>Male</td><td>United States</td><td>37.0</td><td>15/10/2017</td><td>2154.0</td><td>null</td></tr><tr><td>91.0</td><td>Tommie</td><td>Underdahl</td><td>Male</td><td>United States</td><td>26.0</td><td>16/08/2016</td><td>3265.0</td><td>null</td></tr><tr><td>92.0</td><td>Dorcas</td><td>Darity</td><td>Female</td><td>United States</td><td>37.0</td><td>21/05/2015</td><td>8765.0</td><td>null</td></tr><tr><td>93.0</td><td>Angel</td><td>Sanor</td><td>Male</td><td>France</td><td>24.0</td><td>15/10/2017</td><td>3259.0</td><td>null</td></tr><tr><td>94.0</td><td>Willodean</td><td>Harn</td><td>Female</td><td>United States</td><td>39.0</td><td>16/08/2016</td><td>3567.0</td><td>null</td></tr><tr><td>95.0</td><td>Weston</td><td>Martina</td><td>Male</td><td>United States</td><td>26.0</td><td>21/05/2015</td><td>6540.0</td><td>null</td></tr><tr><td>96.0</td><td>Roma</td><td>Lafollette</td><td>Female</td><td>United States</td><td>34.0</td><td>15/10/2017</td><td>2654.0</td><td>null</td></tr><tr><td>97.0</td><td>Felisa</td><td>Cail</td><td>Female</td><td>United States</td><td>28.0</td><td>16/08/2016</td><td>6525.0</td><td>null</td></tr><tr><td>98.0</td><td>Demetria</td><td>Abbey</td><td>Female</td><td>United States</td><td>32.0</td><td>21/05/2015</td><td>3265.0</td><td>null</td></tr><tr><td>99.0</td><td>Jeromy</td><td>Danz</td><td>Male</td><td>United States</td><td>39.0</td><td>15/10/2017</td><td>3265.0</td><td>null</td></tr><tr><td>100.0</td><td>Rasheeda</td><td>Alkire</td><td>Female</td><td>United States</td><td>29.0</td><td>16/08/2016</td><td>6125.0</td><td>null</td></tr></tbody></table></div>"
      ]
     },
     "metadata": {
      "application/vnd.databricks.v1+output": {
       "addedWidgets": {},
       "aggData": [],
       "aggError": "",
       "aggOverflow": false,
       "aggSchema": [],
       "aggSeriesLimitReached": false,
       "aggType": "",
       "arguments": {},
       "columnCustomDisplayInfos": {},
       "data": [
        [
         1.0,
         "Dulce",
         "Abril",
         "Female",
         "United States",
         32.0,
         "15/10/2017",
         1562.0,
         null
        ],
        [
         2.0,
         "Mara",
         "Hashimoto",
         "Female",
         "Great Britain",
         25.0,
         "16/08/2016",
         1582.0,
         null
        ],
        [
         3.0,
         "Philip",
         "Gent",
         "Male",
         "France",
         36.0,
         "21/05/2015",
         2587.0,
         null
        ],
        [
         4.0,
         "Kathleen",
         "Hanner",
         "Female",
         "United States",
         25.0,
         "15/10/2017",
         3549.0,
         null
        ],
        [
         5.0,
         "Nereida",
         "Magwood",
         "Female",
         "United States",
         58.0,
         "16/08/2016",
         2468.0,
         null
        ],
        [
         6.0,
         "Gaston",
         "Brumm",
         "Male",
         "United States",
         24.0,
         "21/05/2015",
         2554.0,
         null
        ],
        [
         7.0,
         "Etta",
         "Hurn",
         "Female",
         "Great Britain",
         56.0,
         "15/10/2017",
         3598.0,
         null
        ],
        [
         8.0,
         "Earlean",
         "Melgar",
         "Female",
         "United States",
         27.0,
         "16/08/2016",
         2456.0,
         null
        ],
        [
         9.0,
         "Vincenza",
         "Weiland",
         "Female",
         "United States",
         40.0,
         "21/05/2015",
         6548.0,
         null
        ],
        [
         10.0,
         "Fallon",
         "Winward",
         "Female",
         "Great Britain",
         28.0,
         "16/08/2016",
         5486.0,
         null
        ],
        [
         11.0,
         "Arcelia",
         "Bouska",
         "Female",
         "Great Britain",
         39.0,
         "21/05/2015",
         1258.0,
         null
        ],
        [
         12.0,
         "Franklyn",
         "Unknow",
         "Male",
         "France",
         38.0,
         "15/10/2017",
         2579.0,
         null
        ],
        [
         13.0,
         "Sherron",
         "Ascencio",
         "Female",
         "Great Britain",
         32.0,
         "16/08/2016",
         3256.0,
         null
        ],
        [
         14.0,
         "Marcel",
         "Zabriskie",
         "Male",
         "Great Britain",
         26.0,
         "21/05/2015",
         2587.0,
         null
        ],
        [
         15.0,
         "Kina",
         "Hazelton",
         "Female",
         "Great Britain",
         31.0,
         "16/08/2016",
         3259.0,
         null
        ],
        [
         16.0,
         "Shavonne",
         "Pia",
         "Female",
         "France",
         24.0,
         "21/05/2015",
         1546.0,
         null
        ],
        [
         17.0,
         "Shavon",
         "Benito",
         "Female",
         "France",
         39.0,
         "15/10/2017",
         3579.0,
         null
        ],
        [
         18.0,
         "Lauralee",
         "Perrine",
         "Female",
         "Great Britain",
         28.0,
         "16/08/2016",
         6597.0,
         null
        ],
        [
         19.0,
         "Loreta",
         "Curren",
         "Female",
         "France",
         26.0,
         "21/05/2015",
         9654.0,
         null
        ],
        [
         20.0,
         "Teresa",
         "Strawn",
         "Female",
         "France",
         46.0,
         "21/05/2015",
         3569.0,
         null
        ],
        [
         21.0,
         "Belinda",
         "Partain",
         "Female",
         "United States",
         37.0,
         "15/10/2017",
         2564.0,
         null
        ],
        [
         22.0,
         "Holly",
         "Eudy",
         "Female",
         "United States",
         52.0,
         "16/08/2016",
         8561.0,
         null
        ],
        [
         23.0,
         "Many",
         "Cuccia",
         "Female",
         "Great Britain",
         46.0,
         "21/05/2015",
         5489.0,
         null
        ],
        [
         24.0,
         "Libbie",
         "Dalby",
         "Female",
         "France",
         42.0,
         "21/05/2015",
         5489.0,
         null
        ],
        [
         25.0,
         "Lester",
         "Prothro",
         "Male",
         "France",
         21.0,
         "15/10/2017",
         6574.0,
         null
        ],
        [
         26.0,
         "Marvel",
         "Hail",
         "Female",
         "Great Britain",
         28.0,
         "16/08/2016",
         5555.0,
         null
        ],
        [
         27.0,
         "Angelyn",
         "Vong",
         "Female",
         "United States",
         29.0,
         "21/05/2015",
         6125.0,
         null
        ],
        [
         28.0,
         "Francesca",
         "Beaudreau",
         "Female",
         "France",
         23.0,
         "15/10/2017",
         5412.0,
         null
        ],
        [
         29.0,
         "Garth",
         "Gangi",
         "Male",
         "United States",
         41.0,
         "16/08/2016",
         3256.0,
         null
        ],
        [
         30.0,
         "Carla",
         "Trumbull",
         "Female",
         "Great Britain",
         28.0,
         "21/05/2015",
         3264.0,
         null
        ],
        [
         31.0,
         "Veta",
         "Muntz",
         "Female",
         "Great Britain",
         37.0,
         "15/10/2017",
         4569.0,
         null
        ],
        [
         32.0,
         "Stasia",
         "Becker",
         "Female",
         "Great Britain",
         34.0,
         "16/08/2016",
         7521.0,
         null
        ],
        [
         33.0,
         "Jona",
         "Grindle",
         "Female",
         "Great Britain",
         26.0,
         "21/05/2015",
         6458.0,
         null
        ],
        [
         34.0,
         "Judie",
         "Claywell",
         "Female",
         "France",
         35.0,
         "16/08/2016",
         7569.0,
         null
        ],
        [
         35.0,
         "Dewitt",
         "Borger",
         "Male",
         "United States",
         36.0,
         "21/05/2015",
         8514.0,
         null
        ],
        [
         36.0,
         "Nena",
         "Hacker",
         "Female",
         "United States",
         29.0,
         "15/10/2017",
         8563.0,
         null
        ],
        [
         37.0,
         "Kelsie",
         "Wachtel",
         "Female",
         "France",
         27.0,
         "16/08/2016",
         8642.0,
         null
        ],
        [
         38.0,
         "Sau",
         "Pfau",
         "Female",
         "United States",
         25.0,
         "21/05/2015",
         9536.0,
         null
        ],
        [
         39.0,
         "Shanice",
         "Mccrystal",
         "Female",
         "United States",
         36.0,
         "21/05/2015",
         2567.0,
         null
        ],
        [
         40.0,
         "Chase",
         "Karner",
         "Male",
         "United States",
         37.0,
         "15/10/2017",
         2154.0,
         null
        ],
        [
         41.0,
         "Tommie",
         "Underdahl",
         "Male",
         "United States",
         26.0,
         "16/08/2016",
         3265.0,
         null
        ],
        [
         42.0,
         "Dorcas",
         "Darity",
         "Female",
         "United States",
         37.0,
         "21/05/2015",
         8765.0,
         null
        ],
        [
         43.0,
         "Angel",
         "Sanor",
         "Male",
         "France",
         24.0,
         "15/10/2017",
         3259.0,
         null
        ],
        [
         44.0,
         "Willodean",
         "Harn",
         "Female",
         "United States",
         39.0,
         "16/08/2016",
         3567.0,
         null
        ],
        [
         45.0,
         "Weston",
         "Martina",
         "Male",
         "United States",
         26.0,
         "21/05/2015",
         6540.0,
         null
        ],
        [
         46.0,
         "Roma",
         "Lafollette",
         "Female",
         "United States",
         34.0,
         "15/10/2017",
         2654.0,
         null
        ],
        [
         47.0,
         "Felisa",
         "Cail",
         "Female",
         "United States",
         28.0,
         "16/08/2016",
         6525.0,
         null
        ],
        [
         48.0,
         "Demetria",
         "Abbey",
         "Female",
         "United States",
         32.0,
         "21/05/2015",
         3265.0,
         null
        ],
        [
         49.0,
         "Jeromy",
         "Danz",
         "Male",
         "United States",
         39.0,
         "15/10/2017",
         3265.0,
         null
        ],
        [
         50.0,
         "Rasheeda",
         "Alkire",
         "Female",
         "United States",
         29.0,
         "16/08/2016",
         6125.0,
         null
        ],
        [
         51.0,
         "Dulce",
         "Abril",
         "Female",
         "United States",
         32.0,
         "15/10/2017",
         1562.0,
         null
        ],
        [
         52.0,
         "Mara",
         "Hashimoto",
         "Female",
         "Great Britain",
         25.0,
         "16/08/2016",
         1582.0,
         null
        ],
        [
         53.0,
         "Philip",
         "Gent",
         "Male",
         "France",
         36.0,
         "21/05/2015",
         2587.0,
         null
        ],
        [
         54.0,
         "Kathleen",
         "Hanner",
         "Female",
         "United States",
         25.0,
         "15/10/2017",
         3549.0,
         null
        ],
        [
         55.0,
         "Nereida",
         "Magwood",
         "Female",
         "United States",
         58.0,
         "16/08/2016",
         2468.0,
         null
        ],
        [
         56.0,
         "Gaston",
         "Brumm",
         "Male",
         "United States",
         24.0,
         "21/05/2015",
         2554.0,
         null
        ],
        [
         57.0,
         "Etta",
         "Hurn",
         "Female",
         "Great Britain",
         56.0,
         "15/10/2017",
         3598.0,
         null
        ],
        [
         58.0,
         "Earlean",
         "Melgar",
         "Female",
         "United States",
         27.0,
         "16/08/2016",
         2456.0,
         null
        ],
        [
         59.0,
         "Vincenza",
         "Weiland",
         "Female",
         "United States",
         40.0,
         "21/05/2015",
         6548.0,
         null
        ],
        [
         60.0,
         "Fallon",
         "Winward",
         "Female",
         "Great Britain",
         28.0,
         "16/08/2016",
         5486.0,
         null
        ],
        [
         61.0,
         "Arcelia",
         "Bouska",
         "Female",
         "Great Britain",
         39.0,
         "21/05/2015",
         1258.0,
         null
        ],
        [
         62.0,
         "Franklyn",
         "Unknow",
         "Male",
         "France",
         38.0,
         "15/10/2017",
         2579.0,
         null
        ],
        [
         63.0,
         "Sherron",
         "Ascencio",
         "Female",
         "Great Britain",
         32.0,
         "16/08/2016",
         3256.0,
         null
        ],
        [
         64.0,
         "Marcel",
         "Zabriskie",
         "Male",
         "Great Britain",
         26.0,
         "21/05/2015",
         2587.0,
         null
        ],
        [
         65.0,
         "Kina",
         "Hazelton",
         "Female",
         "Great Britain",
         31.0,
         "16/08/2016",
         3259.0,
         null
        ],
        [
         66.0,
         "Shavonne",
         "Pia",
         "Female",
         "France",
         24.0,
         "21/05/2015",
         1546.0,
         null
        ],
        [
         67.0,
         "Shavon",
         "Benito",
         "Female",
         "France",
         39.0,
         "15/10/2017",
         3579.0,
         null
        ],
        [
         68.0,
         "Lauralee",
         "Perrine",
         "Female",
         "Great Britain",
         28.0,
         "16/08/2016",
         6597.0,
         null
        ],
        [
         69.0,
         "Loreta",
         "Curren",
         "Female",
         "France",
         26.0,
         "21/05/2015",
         9654.0,
         null
        ],
        [
         70.0,
         "Teresa",
         "Strawn",
         "Female",
         "France",
         46.0,
         "21/05/2015",
         3569.0,
         null
        ],
        [
         71.0,
         "Belinda",
         "Partain",
         "Female",
         "United States",
         37.0,
         "15/10/2017",
         2564.0,
         null
        ],
        [
         72.0,
         "Holly",
         "Eudy",
         "Female",
         "United States",
         52.0,
         "16/08/2016",
         8561.0,
         null
        ],
        [
         73.0,
         "Many",
         "Cuccia",
         "Female",
         "Great Britain",
         46.0,
         "21/05/2015",
         5489.0,
         null
        ],
        [
         74.0,
         "Libbie",
         "Dalby",
         "Female",
         "France",
         42.0,
         "21/05/2015",
         5489.0,
         null
        ],
        [
         75.0,
         "Lester",
         "Prothro",
         "Male",
         "France",
         21.0,
         "15/10/2017",
         6574.0,
         null
        ],
        [
         76.0,
         "Marvel",
         "Hail",
         "Female",
         "Great Britain",
         28.0,
         "16/08/2016",
         5555.0,
         null
        ],
        [
         77.0,
         "Angelyn",
         "Vong",
         "Female",
         "United States",
         29.0,
         "21/05/2015",
         6125.0,
         null
        ],
        [
         78.0,
         "Francesca",
         "Beaudreau",
         "Female",
         "France",
         23.0,
         "15/10/2017",
         5412.0,
         null
        ],
        [
         79.0,
         "Garth",
         "Gangi",
         "Male",
         "United States",
         41.0,
         "16/08/2016",
         3256.0,
         null
        ],
        [
         80.0,
         "Carla",
         "Trumbull",
         "Female",
         "Great Britain",
         28.0,
         "21/05/2015",
         3264.0,
         null
        ],
        [
         81.0,
         "Veta",
         "Muntz",
         "Female",
         "Great Britain",
         37.0,
         "15/10/2017",
         4569.0,
         null
        ],
        [
         82.0,
         "Stasia",
         "Becker",
         "Female",
         "Great Britain",
         34.0,
         "16/08/2016",
         7521.0,
         null
        ],
        [
         83.0,
         "Jona",
         "Grindle",
         "Female",
         "Great Britain",
         26.0,
         "21/05/2015",
         6458.0,
         null
        ],
        [
         84.0,
         "Judie",
         "Claywell",
         "Female",
         "France",
         35.0,
         "16/08/2016",
         7569.0,
         null
        ],
        [
         85.0,
         "Dewitt",
         "Borger",
         "Male",
         "United States",
         36.0,
         "21/05/2015",
         8514.0,
         null
        ],
        [
         86.0,
         "Nena",
         "Hacker",
         "Female",
         "United States",
         29.0,
         "15/10/2017",
         8563.0,
         null
        ],
        [
         87.0,
         "Kelsie",
         "Wachtel",
         "Female",
         "France",
         27.0,
         "16/08/2016",
         8642.0,
         null
        ],
        [
         88.0,
         "Sau",
         "Pfau",
         "Female",
         "United States",
         25.0,
         "21/05/2015",
         9536.0,
         null
        ],
        [
         89.0,
         "Shanice",
         "Mccrystal",
         "Female",
         "United States",
         36.0,
         "21/05/2015",
         2567.0,
         null
        ],
        [
         90.0,
         "Chase",
         "Karner",
         "Male",
         "United States",
         37.0,
         "15/10/2017",
         2154.0,
         null
        ],
        [
         91.0,
         "Tommie",
         "Underdahl",
         "Male",
         "United States",
         26.0,
         "16/08/2016",
         3265.0,
         null
        ],
        [
         92.0,
         "Dorcas",
         "Darity",
         "Female",
         "United States",
         37.0,
         "21/05/2015",
         8765.0,
         null
        ],
        [
         93.0,
         "Angel",
         "Sanor",
         "Male",
         "France",
         24.0,
         "15/10/2017",
         3259.0,
         null
        ],
        [
         94.0,
         "Willodean",
         "Harn",
         "Female",
         "United States",
         39.0,
         "16/08/2016",
         3567.0,
         null
        ],
        [
         95.0,
         "Weston",
         "Martina",
         "Male",
         "United States",
         26.0,
         "21/05/2015",
         6540.0,
         null
        ],
        [
         96.0,
         "Roma",
         "Lafollette",
         "Female",
         "United States",
         34.0,
         "15/10/2017",
         2654.0,
         null
        ],
        [
         97.0,
         "Felisa",
         "Cail",
         "Female",
         "United States",
         28.0,
         "16/08/2016",
         6525.0,
         null
        ],
        [
         98.0,
         "Demetria",
         "Abbey",
         "Female",
         "United States",
         32.0,
         "21/05/2015",
         3265.0,
         null
        ],
        [
         99.0,
         "Jeromy",
         "Danz",
         "Male",
         "United States",
         39.0,
         "15/10/2017",
         3265.0,
         null
        ],
        [
         100.0,
         "Rasheeda",
         "Alkire",
         "Female",
         "United States",
         29.0,
         "16/08/2016",
         6125.0,
         null
        ]
       ],
       "datasetInfos": [],
       "dbfsResultPath": null,
       "isJsonSchema": true,
       "metadata": {},
       "overflow": false,
       "plotOptions": {
        "customPlotOptions": {},
        "displayType": "table",
        "pivotAggregation": null,
        "pivotColumns": null,
        "xColumns": null,
        "yColumns": null
       },
       "removedWidgets": [],
       "schema": [
        {
         "metadata": "{}",
         "name": "Sid",
         "type": "\"double\""
        },
        {
         "metadata": "{}",
         "name": "First Name",
         "type": "\"string\""
        },
        {
         "metadata": "{}",
         "name": "Last Name",
         "type": "\"string\""
        },
        {
         "metadata": "{}",
         "name": "Gender",
         "type": "\"string\""
        },
        {
         "metadata": "{}",
         "name": "Country",
         "type": "\"string\""
        },
        {
         "metadata": "{}",
         "name": "Age",
         "type": "\"double\""
        },
        {
         "metadata": "{}",
         "name": "Date",
         "type": "\"string\""
        },
        {
         "metadata": "{}",
         "name": "Id",
         "type": "\"double\""
        },
        {
         "metadata": "{}",
         "name": "_c8",
         "type": "\"string\""
        }
       ],
       "type": "table"
      }
     },
     "output_type": "display_data"
    }
   ],
   "source": [
    "df.display()"
   ]
  }
 ],
 "metadata": {
  "application/vnd.databricks.v1+notebook": {
   "dashboards": [],
   "language": "python",
   "notebookMetadata": {
    "mostRecentlyExecutedCommandWithImplicitDF": {
     "commandId": 1116015916044319,
     "dataframes": [
      "_sqldf"
     ]
    },
    "pythonIndentUnit": 4
   },
   "notebookName": "Read and Write Excel",
   "widgets": {}
  }
 },
 "nbformat": 4,
 "nbformat_minor": 0
}
